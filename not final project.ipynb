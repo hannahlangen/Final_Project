{
 "cells": [
  {
   "cell_type": "markdown",
   "id": "6f39cc5f",
   "metadata": {},
   "source": [
    "## Import Libraries and load Data"
   ]
  },
  {
   "cell_type": "code",
   "execution_count": 1462,
   "id": "1ce2d128",
   "metadata": {},
   "outputs": [],
   "source": [
    "import numpy as np\n",
    "import pandas as pd\n",
    "import datetime as dt\n",
    "import seaborn as sns\n",
    "import matplotlib\n",
    "from matplotlib import colors\n",
    "from matplotlib import pyplot\n",
    "import matplotlib.pyplot as plt\n",
    "from mpl_toolkits.mplot3d import Axes3D\n",
    "from matplotlib.colors import ListedColormap\n",
    "from sklearn.preprocessing import LabelEncoder\n",
    "from sklearn.preprocessing import StandardScaler\n",
    "from sklearn.decomposition import PCA\n",
    "from sklearn import cluster\n",
    "from sklearn.cluster import KMeans\n",
    "from sklearn.cluster import AgglomerativeClustering\n",
    "from sklearn import metrics\n",
    "from sklearn.metrics import silhouette_score\n",
    "import warnings\n",
    "import sys\n",
    "import pickle\n",
    "from yellowbrick.cluster import KElbowVisualizer"
   ]
  },
  {
   "cell_type": "code",
   "execution_count": 1463,
   "id": "169d5d10",
   "metadata": {},
   "outputs": [],
   "source": [
    "df = pd.read_csv(\"marketing_campaign.csv\", sep = '\\t')"
   ]
  },
  {
   "cell_type": "markdown",
   "id": "8f1c2b99",
   "metadata": {},
   "source": [
    "## Data Cleaning"
   ]
  },
  {
   "cell_type": "markdown",
   "id": "fda920af",
   "metadata": {},
   "source": [
    "### drop missing values "
   ]
  },
  {
   "cell_type": "code",
   "execution_count": 1464,
   "id": "20721334",
   "metadata": {},
   "outputs": [],
   "source": [
    "df.dropna(inplace=True)"
   ]
  },
  {
   "cell_type": "code",
   "execution_count": 1465,
   "id": "0cae2b83",
   "metadata": {},
   "outputs": [
    {
     "data": {
      "text/html": [
       "<div>\n",
       "<style scoped>\n",
       "    .dataframe tbody tr th:only-of-type {\n",
       "        vertical-align: middle;\n",
       "    }\n",
       "\n",
       "    .dataframe tbody tr th {\n",
       "        vertical-align: top;\n",
       "    }\n",
       "\n",
       "    .dataframe thead th {\n",
       "        text-align: right;\n",
       "    }\n",
       "</style>\n",
       "<table border=\"1\" class=\"dataframe\">\n",
       "  <thead>\n",
       "    <tr style=\"text-align: right;\">\n",
       "      <th></th>\n",
       "      <th>ID</th>\n",
       "      <th>Year_Birth</th>\n",
       "      <th>Education</th>\n",
       "      <th>Marital_Status</th>\n",
       "      <th>Income</th>\n",
       "      <th>Kidhome</th>\n",
       "      <th>Teenhome</th>\n",
       "      <th>Dt_Customer</th>\n",
       "      <th>Recency</th>\n",
       "      <th>MntWines</th>\n",
       "      <th>...</th>\n",
       "      <th>NumWebVisitsMonth</th>\n",
       "      <th>AcceptedCmp3</th>\n",
       "      <th>AcceptedCmp4</th>\n",
       "      <th>AcceptedCmp5</th>\n",
       "      <th>AcceptedCmp1</th>\n",
       "      <th>AcceptedCmp2</th>\n",
       "      <th>Complain</th>\n",
       "      <th>Z_CostContact</th>\n",
       "      <th>Z_Revenue</th>\n",
       "      <th>Response</th>\n",
       "    </tr>\n",
       "  </thead>\n",
       "  <tbody>\n",
       "    <tr>\n",
       "      <th>0</th>\n",
       "      <td>5524</td>\n",
       "      <td>1957</td>\n",
       "      <td>Graduation</td>\n",
       "      <td>Single</td>\n",
       "      <td>58138.0</td>\n",
       "      <td>0</td>\n",
       "      <td>0</td>\n",
       "      <td>04-09-2012</td>\n",
       "      <td>58</td>\n",
       "      <td>635</td>\n",
       "      <td>...</td>\n",
       "      <td>7</td>\n",
       "      <td>0</td>\n",
       "      <td>0</td>\n",
       "      <td>0</td>\n",
       "      <td>0</td>\n",
       "      <td>0</td>\n",
       "      <td>0</td>\n",
       "      <td>3</td>\n",
       "      <td>11</td>\n",
       "      <td>1</td>\n",
       "    </tr>\n",
       "    <tr>\n",
       "      <th>1</th>\n",
       "      <td>2174</td>\n",
       "      <td>1954</td>\n",
       "      <td>Graduation</td>\n",
       "      <td>Single</td>\n",
       "      <td>46344.0</td>\n",
       "      <td>1</td>\n",
       "      <td>1</td>\n",
       "      <td>08-03-2014</td>\n",
       "      <td>38</td>\n",
       "      <td>11</td>\n",
       "      <td>...</td>\n",
       "      <td>5</td>\n",
       "      <td>0</td>\n",
       "      <td>0</td>\n",
       "      <td>0</td>\n",
       "      <td>0</td>\n",
       "      <td>0</td>\n",
       "      <td>0</td>\n",
       "      <td>3</td>\n",
       "      <td>11</td>\n",
       "      <td>0</td>\n",
       "    </tr>\n",
       "    <tr>\n",
       "      <th>2</th>\n",
       "      <td>4141</td>\n",
       "      <td>1965</td>\n",
       "      <td>Graduation</td>\n",
       "      <td>Together</td>\n",
       "      <td>71613.0</td>\n",
       "      <td>0</td>\n",
       "      <td>0</td>\n",
       "      <td>21-08-2013</td>\n",
       "      <td>26</td>\n",
       "      <td>426</td>\n",
       "      <td>...</td>\n",
       "      <td>4</td>\n",
       "      <td>0</td>\n",
       "      <td>0</td>\n",
       "      <td>0</td>\n",
       "      <td>0</td>\n",
       "      <td>0</td>\n",
       "      <td>0</td>\n",
       "      <td>3</td>\n",
       "      <td>11</td>\n",
       "      <td>0</td>\n",
       "    </tr>\n",
       "    <tr>\n",
       "      <th>3</th>\n",
       "      <td>6182</td>\n",
       "      <td>1984</td>\n",
       "      <td>Graduation</td>\n",
       "      <td>Together</td>\n",
       "      <td>26646.0</td>\n",
       "      <td>1</td>\n",
       "      <td>0</td>\n",
       "      <td>10-02-2014</td>\n",
       "      <td>26</td>\n",
       "      <td>11</td>\n",
       "      <td>...</td>\n",
       "      <td>6</td>\n",
       "      <td>0</td>\n",
       "      <td>0</td>\n",
       "      <td>0</td>\n",
       "      <td>0</td>\n",
       "      <td>0</td>\n",
       "      <td>0</td>\n",
       "      <td>3</td>\n",
       "      <td>11</td>\n",
       "      <td>0</td>\n",
       "    </tr>\n",
       "    <tr>\n",
       "      <th>4</th>\n",
       "      <td>5324</td>\n",
       "      <td>1981</td>\n",
       "      <td>PhD</td>\n",
       "      <td>Married</td>\n",
       "      <td>58293.0</td>\n",
       "      <td>1</td>\n",
       "      <td>0</td>\n",
       "      <td>19-01-2014</td>\n",
       "      <td>94</td>\n",
       "      <td>173</td>\n",
       "      <td>...</td>\n",
       "      <td>5</td>\n",
       "      <td>0</td>\n",
       "      <td>0</td>\n",
       "      <td>0</td>\n",
       "      <td>0</td>\n",
       "      <td>0</td>\n",
       "      <td>0</td>\n",
       "      <td>3</td>\n",
       "      <td>11</td>\n",
       "      <td>0</td>\n",
       "    </tr>\n",
       "    <tr>\n",
       "      <th>...</th>\n",
       "      <td>...</td>\n",
       "      <td>...</td>\n",
       "      <td>...</td>\n",
       "      <td>...</td>\n",
       "      <td>...</td>\n",
       "      <td>...</td>\n",
       "      <td>...</td>\n",
       "      <td>...</td>\n",
       "      <td>...</td>\n",
       "      <td>...</td>\n",
       "      <td>...</td>\n",
       "      <td>...</td>\n",
       "      <td>...</td>\n",
       "      <td>...</td>\n",
       "      <td>...</td>\n",
       "      <td>...</td>\n",
       "      <td>...</td>\n",
       "      <td>...</td>\n",
       "      <td>...</td>\n",
       "      <td>...</td>\n",
       "      <td>...</td>\n",
       "    </tr>\n",
       "    <tr>\n",
       "      <th>2235</th>\n",
       "      <td>10870</td>\n",
       "      <td>1967</td>\n",
       "      <td>Graduation</td>\n",
       "      <td>Married</td>\n",
       "      <td>61223.0</td>\n",
       "      <td>0</td>\n",
       "      <td>1</td>\n",
       "      <td>13-06-2013</td>\n",
       "      <td>46</td>\n",
       "      <td>709</td>\n",
       "      <td>...</td>\n",
       "      <td>5</td>\n",
       "      <td>0</td>\n",
       "      <td>0</td>\n",
       "      <td>0</td>\n",
       "      <td>0</td>\n",
       "      <td>0</td>\n",
       "      <td>0</td>\n",
       "      <td>3</td>\n",
       "      <td>11</td>\n",
       "      <td>0</td>\n",
       "    </tr>\n",
       "    <tr>\n",
       "      <th>2236</th>\n",
       "      <td>4001</td>\n",
       "      <td>1946</td>\n",
       "      <td>PhD</td>\n",
       "      <td>Together</td>\n",
       "      <td>64014.0</td>\n",
       "      <td>2</td>\n",
       "      <td>1</td>\n",
       "      <td>10-06-2014</td>\n",
       "      <td>56</td>\n",
       "      <td>406</td>\n",
       "      <td>...</td>\n",
       "      <td>7</td>\n",
       "      <td>0</td>\n",
       "      <td>0</td>\n",
       "      <td>0</td>\n",
       "      <td>1</td>\n",
       "      <td>0</td>\n",
       "      <td>0</td>\n",
       "      <td>3</td>\n",
       "      <td>11</td>\n",
       "      <td>0</td>\n",
       "    </tr>\n",
       "    <tr>\n",
       "      <th>2237</th>\n",
       "      <td>7270</td>\n",
       "      <td>1981</td>\n",
       "      <td>Graduation</td>\n",
       "      <td>Divorced</td>\n",
       "      <td>56981.0</td>\n",
       "      <td>0</td>\n",
       "      <td>0</td>\n",
       "      <td>25-01-2014</td>\n",
       "      <td>91</td>\n",
       "      <td>908</td>\n",
       "      <td>...</td>\n",
       "      <td>6</td>\n",
       "      <td>0</td>\n",
       "      <td>1</td>\n",
       "      <td>0</td>\n",
       "      <td>0</td>\n",
       "      <td>0</td>\n",
       "      <td>0</td>\n",
       "      <td>3</td>\n",
       "      <td>11</td>\n",
       "      <td>0</td>\n",
       "    </tr>\n",
       "    <tr>\n",
       "      <th>2238</th>\n",
       "      <td>8235</td>\n",
       "      <td>1956</td>\n",
       "      <td>Master</td>\n",
       "      <td>Together</td>\n",
       "      <td>69245.0</td>\n",
       "      <td>0</td>\n",
       "      <td>1</td>\n",
       "      <td>24-01-2014</td>\n",
       "      <td>8</td>\n",
       "      <td>428</td>\n",
       "      <td>...</td>\n",
       "      <td>3</td>\n",
       "      <td>0</td>\n",
       "      <td>0</td>\n",
       "      <td>0</td>\n",
       "      <td>0</td>\n",
       "      <td>0</td>\n",
       "      <td>0</td>\n",
       "      <td>3</td>\n",
       "      <td>11</td>\n",
       "      <td>0</td>\n",
       "    </tr>\n",
       "    <tr>\n",
       "      <th>2239</th>\n",
       "      <td>9405</td>\n",
       "      <td>1954</td>\n",
       "      <td>PhD</td>\n",
       "      <td>Married</td>\n",
       "      <td>52869.0</td>\n",
       "      <td>1</td>\n",
       "      <td>1</td>\n",
       "      <td>15-10-2012</td>\n",
       "      <td>40</td>\n",
       "      <td>84</td>\n",
       "      <td>...</td>\n",
       "      <td>7</td>\n",
       "      <td>0</td>\n",
       "      <td>0</td>\n",
       "      <td>0</td>\n",
       "      <td>0</td>\n",
       "      <td>0</td>\n",
       "      <td>0</td>\n",
       "      <td>3</td>\n",
       "      <td>11</td>\n",
       "      <td>1</td>\n",
       "    </tr>\n",
       "  </tbody>\n",
       "</table>\n",
       "<p>2216 rows × 29 columns</p>\n",
       "</div>"
      ],
      "text/plain": [
       "         ID  Year_Birth   Education Marital_Status   Income  Kidhome  \\\n",
       "0      5524        1957  Graduation         Single  58138.0        0   \n",
       "1      2174        1954  Graduation         Single  46344.0        1   \n",
       "2      4141        1965  Graduation       Together  71613.0        0   \n",
       "3      6182        1984  Graduation       Together  26646.0        1   \n",
       "4      5324        1981         PhD        Married  58293.0        1   \n",
       "...     ...         ...         ...            ...      ...      ...   \n",
       "2235  10870        1967  Graduation        Married  61223.0        0   \n",
       "2236   4001        1946         PhD       Together  64014.0        2   \n",
       "2237   7270        1981  Graduation       Divorced  56981.0        0   \n",
       "2238   8235        1956      Master       Together  69245.0        0   \n",
       "2239   9405        1954         PhD        Married  52869.0        1   \n",
       "\n",
       "      Teenhome Dt_Customer  Recency  MntWines  ...  NumWebVisitsMonth  \\\n",
       "0            0  04-09-2012       58       635  ...                  7   \n",
       "1            1  08-03-2014       38        11  ...                  5   \n",
       "2            0  21-08-2013       26       426  ...                  4   \n",
       "3            0  10-02-2014       26        11  ...                  6   \n",
       "4            0  19-01-2014       94       173  ...                  5   \n",
       "...        ...         ...      ...       ...  ...                ...   \n",
       "2235         1  13-06-2013       46       709  ...                  5   \n",
       "2236         1  10-06-2014       56       406  ...                  7   \n",
       "2237         0  25-01-2014       91       908  ...                  6   \n",
       "2238         1  24-01-2014        8       428  ...                  3   \n",
       "2239         1  15-10-2012       40        84  ...                  7   \n",
       "\n",
       "      AcceptedCmp3  AcceptedCmp4  AcceptedCmp5  AcceptedCmp1  AcceptedCmp2  \\\n",
       "0                0             0             0             0             0   \n",
       "1                0             0             0             0             0   \n",
       "2                0             0             0             0             0   \n",
       "3                0             0             0             0             0   \n",
       "4                0             0             0             0             0   \n",
       "...            ...           ...           ...           ...           ...   \n",
       "2235             0             0             0             0             0   \n",
       "2236             0             0             0             1             0   \n",
       "2237             0             1             0             0             0   \n",
       "2238             0             0             0             0             0   \n",
       "2239             0             0             0             0             0   \n",
       "\n",
       "      Complain  Z_CostContact  Z_Revenue  Response  \n",
       "0            0              3         11         1  \n",
       "1            0              3         11         0  \n",
       "2            0              3         11         0  \n",
       "3            0              3         11         0  \n",
       "4            0              3         11         0  \n",
       "...        ...            ...        ...       ...  \n",
       "2235         0              3         11         0  \n",
       "2236         0              3         11         0  \n",
       "2237         0              3         11         0  \n",
       "2238         0              3         11         0  \n",
       "2239         0              3         11         1  \n",
       "\n",
       "[2216 rows x 29 columns]"
      ]
     },
     "execution_count": 1465,
     "metadata": {},
     "output_type": "execute_result"
    }
   ],
   "source": [
    "df"
   ]
  },
  {
   "cell_type": "markdown",
   "id": "657e339b",
   "metadata": {},
   "source": [
    "### convert all columns to lowercase"
   ]
  },
  {
   "cell_type": "code",
   "execution_count": 1466,
   "id": "b568f590",
   "metadata": {},
   "outputs": [],
   "source": [
    "df.columns= df.columns.str.lower()"
   ]
  },
  {
   "cell_type": "markdown",
   "id": "4569b4e0",
   "metadata": {},
   "source": [
    "### drop unnecessary columns"
   ]
  },
  {
   "cell_type": "code",
   "execution_count": 1467,
   "id": "56ed2caa",
   "metadata": {},
   "outputs": [],
   "source": [
    "df = df.drop(columns=[\"id\", \"z_costcontact\",\"z_revenue\"])"
   ]
  },
  {
   "cell_type": "markdown",
   "id": "f7923a79",
   "metadata": {},
   "source": [
    "### create new column \"age\""
   ]
  },
  {
   "cell_type": "code",
   "execution_count": 1468,
   "id": "526f9fbe",
   "metadata": {},
   "outputs": [],
   "source": [
    "df[\"age\"] = 2014 - df[\"year_birth\"]"
   ]
  },
  {
   "cell_type": "code",
   "execution_count": 1469,
   "id": "371b42ae",
   "metadata": {},
   "outputs": [
    {
     "data": {
      "text/plain": [
       "0       57\n",
       "1       60\n",
       "2       49\n",
       "3       30\n",
       "4       33\n",
       "        ..\n",
       "2235    47\n",
       "2236    68\n",
       "2237    33\n",
       "2238    58\n",
       "2239    60\n",
       "Name: age, Length: 2216, dtype: int64"
      ]
     },
     "execution_count": 1469,
     "metadata": {},
     "output_type": "execute_result"
    }
   ],
   "source": [
    "df[\"age\"]"
   ]
  },
  {
   "cell_type": "code",
   "execution_count": 1470,
   "id": "fc4aca3f",
   "metadata": {},
   "outputs": [],
   "source": [
    "#drop \"year_birth\"\n",
    "df = df.drop(columns=[\"year_birth\"])"
   ]
  },
  {
   "cell_type": "markdown",
   "id": "765ce3d9",
   "metadata": {},
   "source": [
    "### remove outliers in \"age\" column"
   ]
  },
  {
   "cell_type": "code",
   "execution_count": 1471,
   "id": "e50a0266",
   "metadata": {},
   "outputs": [
    {
     "data": {
      "text/plain": [
       "121"
      ]
     },
     "execution_count": 1471,
     "metadata": {},
     "output_type": "execute_result"
    }
   ],
   "source": [
    "max(df[\"age\"])"
   ]
  },
  {
   "cell_type": "code",
   "execution_count": 1472,
   "id": "8d30463f",
   "metadata": {},
   "outputs": [
    {
     "name": "stderr",
     "output_type": "stream",
     "text": [
      "/opt/anaconda3/envs/DA_ENV/lib/python3.9/site-packages/seaborn/_decorators.py:36: FutureWarning: Pass the following variable as a keyword arg: x. From version 0.12, the only valid positional argument will be `data`, and passing other arguments without an explicit keyword will result in an error or misinterpretation.\n",
      "  warnings.warn(\n"
     ]
    },
    {
     "data": {
      "text/plain": [
       "<AxesSubplot:xlabel='age'>"
      ]
     },
     "execution_count": 1472,
     "metadata": {},
     "output_type": "execute_result"
    },
    {
     "data": {
      "image/png": "[encoded data removed]",
      "text/plain": [
       "<Figure size 576x396 with 1 Axes>"
      ]
     },
     "metadata": {},
     "output_type": "display_data"
    }
   ],
   "source": [
    "sns.boxplot(df[\"age\"])"
   ]
  },
  {
   "cell_type": "code",
   "execution_count": 1473,
   "id": "378e9a5c",
   "metadata": {},
   "outputs": [
    {
     "data": {
      "text/html": [
       "<div>\n",
       "<style scoped>\n",
       "    .dataframe tbody tr th:only-of-type {\n",
       "        vertical-align: middle;\n",
       "    }\n",
       "\n",
       "    .dataframe tbody tr th {\n",
       "        vertical-align: top;\n",
       "    }\n",
       "\n",
       "    .dataframe thead th {\n",
       "        text-align: right;\n",
       "    }\n",
       "</style>\n",
       "<table border=\"1\" class=\"dataframe\">\n",
       "  <thead>\n",
       "    <tr style=\"text-align: right;\">\n",
       "      <th></th>\n",
       "      <th>education</th>\n",
       "      <th>marital_status</th>\n",
       "      <th>income</th>\n",
       "      <th>kidhome</th>\n",
       "      <th>teenhome</th>\n",
       "      <th>dt_customer</th>\n",
       "      <th>recency</th>\n",
       "      <th>mntwines</th>\n",
       "      <th>mntfruits</th>\n",
       "      <th>mntmeatproducts</th>\n",
       "      <th>...</th>\n",
       "      <th>numstorepurchases</th>\n",
       "      <th>numwebvisitsmonth</th>\n",
       "      <th>acceptedcmp3</th>\n",
       "      <th>acceptedcmp4</th>\n",
       "      <th>acceptedcmp5</th>\n",
       "      <th>acceptedcmp1</th>\n",
       "      <th>acceptedcmp2</th>\n",
       "      <th>complain</th>\n",
       "      <th>response</th>\n",
       "      <th>age</th>\n",
       "    </tr>\n",
       "  </thead>\n",
       "  <tbody>\n",
       "    <tr>\n",
       "      <th>239</th>\n",
       "      <td>2n Cycle</td>\n",
       "      <td>Single</td>\n",
       "      <td>60182.0</td>\n",
       "      <td>0</td>\n",
       "      <td>1</td>\n",
       "      <td>17-05-2014</td>\n",
       "      <td>23</td>\n",
       "      <td>8</td>\n",
       "      <td>0</td>\n",
       "      <td>5</td>\n",
       "      <td>...</td>\n",
       "      <td>2</td>\n",
       "      <td>4</td>\n",
       "      <td>0</td>\n",
       "      <td>0</td>\n",
       "      <td>0</td>\n",
       "      <td>0</td>\n",
       "      <td>0</td>\n",
       "      <td>0</td>\n",
       "      <td>0</td>\n",
       "      <td>121</td>\n",
       "    </tr>\n",
       "  </tbody>\n",
       "</table>\n",
       "<p>1 rows × 26 columns</p>\n",
       "</div>"
      ],
      "text/plain": [
       "    education marital_status   income  kidhome  teenhome dt_customer  recency  \\\n",
       "239  2n Cycle         Single  60182.0        0         1  17-05-2014       23   \n",
       "\n",
       "     mntwines  mntfruits  mntmeatproducts  ...  numstorepurchases  \\\n",
       "239         8          0                5  ...                  2   \n",
       "\n",
       "     numwebvisitsmonth  acceptedcmp3  acceptedcmp4  acceptedcmp5  \\\n",
       "239                  4             0             0             0   \n",
       "\n",
       "     acceptedcmp1  acceptedcmp2  complain  response  age  \n",
       "239             0             0         0         0  121  \n",
       "\n",
       "[1 rows x 26 columns]"
      ]
     },
     "execution_count": 1473,
     "metadata": {},
     "output_type": "execute_result"
    }
   ],
   "source": [
    "df.loc[df['age'] == 121]"
   ]
  },
  {
   "cell_type": "code",
   "execution_count": 1474,
   "id": "bb67ac72",
   "metadata": {},
   "outputs": [],
   "source": [
    "df.drop([239], axis=0, inplace=True)"
   ]
  },
  {
   "cell_type": "code",
   "execution_count": 1475,
   "id": "643ac8c9",
   "metadata": {},
   "outputs": [
    {
     "data": {
      "text/plain": [
       "115"
      ]
     },
     "execution_count": 1475,
     "metadata": {},
     "output_type": "execute_result"
    }
   ],
   "source": [
    "max(df[\"age\"])"
   ]
  },
  {
   "cell_type": "code",
   "execution_count": 1476,
   "id": "ca7989e6",
   "metadata": {},
   "outputs": [
    {
     "data": {
      "text/html": [
       "<div>\n",
       "<style scoped>\n",
       "    .dataframe tbody tr th:only-of-type {\n",
       "        vertical-align: middle;\n",
       "    }\n",
       "\n",
       "    .dataframe tbody tr th {\n",
       "        vertical-align: top;\n",
       "    }\n",
       "\n",
       "    .dataframe thead th {\n",
       "        text-align: right;\n",
       "    }\n",
       "</style>\n",
       "<table border=\"1\" class=\"dataframe\">\n",
       "  <thead>\n",
       "    <tr style=\"text-align: right;\">\n",
       "      <th></th>\n",
       "      <th>education</th>\n",
       "      <th>marital_status</th>\n",
       "      <th>income</th>\n",
       "      <th>kidhome</th>\n",
       "      <th>teenhome</th>\n",
       "      <th>dt_customer</th>\n",
       "      <th>recency</th>\n",
       "      <th>mntwines</th>\n",
       "      <th>mntfruits</th>\n",
       "      <th>mntmeatproducts</th>\n",
       "      <th>...</th>\n",
       "      <th>numstorepurchases</th>\n",
       "      <th>numwebvisitsmonth</th>\n",
       "      <th>acceptedcmp3</th>\n",
       "      <th>acceptedcmp4</th>\n",
       "      <th>acceptedcmp5</th>\n",
       "      <th>acceptedcmp1</th>\n",
       "      <th>acceptedcmp2</th>\n",
       "      <th>complain</th>\n",
       "      <th>response</th>\n",
       "      <th>age</th>\n",
       "    </tr>\n",
       "  </thead>\n",
       "  <tbody>\n",
       "    <tr>\n",
       "      <th>339</th>\n",
       "      <td>PhD</td>\n",
       "      <td>Together</td>\n",
       "      <td>83532.0</td>\n",
       "      <td>0</td>\n",
       "      <td>0</td>\n",
       "      <td>26-09-2013</td>\n",
       "      <td>36</td>\n",
       "      <td>755</td>\n",
       "      <td>144</td>\n",
       "      <td>562</td>\n",
       "      <td>...</td>\n",
       "      <td>4</td>\n",
       "      <td>1</td>\n",
       "      <td>0</td>\n",
       "      <td>0</td>\n",
       "      <td>1</td>\n",
       "      <td>0</td>\n",
       "      <td>0</td>\n",
       "      <td>0</td>\n",
       "      <td>0</td>\n",
       "      <td>115</td>\n",
       "    </tr>\n",
       "  </tbody>\n",
       "</table>\n",
       "<p>1 rows × 26 columns</p>\n",
       "</div>"
      ],
      "text/plain": [
       "    education marital_status   income  kidhome  teenhome dt_customer  recency  \\\n",
       "339       PhD       Together  83532.0        0         0  26-09-2013       36   \n",
       "\n",
       "     mntwines  mntfruits  mntmeatproducts  ...  numstorepurchases  \\\n",
       "339       755        144              562  ...                  4   \n",
       "\n",
       "     numwebvisitsmonth  acceptedcmp3  acceptedcmp4  acceptedcmp5  \\\n",
       "339                  1             0             0             1   \n",
       "\n",
       "     acceptedcmp1  acceptedcmp2  complain  response  age  \n",
       "339             0             0         0         0  115  \n",
       "\n",
       "[1 rows x 26 columns]"
      ]
     },
     "execution_count": 1476,
     "metadata": {},
     "output_type": "execute_result"
    }
   ],
   "source": [
    "df.loc[df['age'] == 115]"
   ]
  },
  {
   "cell_type": "code",
   "execution_count": 1477,
   "id": "3c334a8b",
   "metadata": {},
   "outputs": [],
   "source": [
    "df.drop([339], axis=0, inplace=True)"
   ]
  },
  {
   "cell_type": "code",
   "execution_count": 1478,
   "id": "2f60b755",
   "metadata": {},
   "outputs": [
    {
     "data": {
      "text/plain": [
       "114"
      ]
     },
     "execution_count": 1478,
     "metadata": {},
     "output_type": "execute_result"
    }
   ],
   "source": [
    "max(df[\"age\"])"
   ]
  },
  {
   "cell_type": "code",
   "execution_count": 1479,
   "id": "cda623cc",
   "metadata": {},
   "outputs": [
    {
     "data": {
      "text/html": [
       "<div>\n",
       "<style scoped>\n",
       "    .dataframe tbody tr th:only-of-type {\n",
       "        vertical-align: middle;\n",
       "    }\n",
       "\n",
       "    .dataframe tbody tr th {\n",
       "        vertical-align: top;\n",
       "    }\n",
       "\n",
       "    .dataframe thead th {\n",
       "        text-align: right;\n",
       "    }\n",
       "</style>\n",
       "<table border=\"1\" class=\"dataframe\">\n",
       "  <thead>\n",
       "    <tr style=\"text-align: right;\">\n",
       "      <th></th>\n",
       "      <th>education</th>\n",
       "      <th>marital_status</th>\n",
       "      <th>income</th>\n",
       "      <th>kidhome</th>\n",
       "      <th>teenhome</th>\n",
       "      <th>dt_customer</th>\n",
       "      <th>recency</th>\n",
       "      <th>mntwines</th>\n",
       "      <th>mntfruits</th>\n",
       "      <th>mntmeatproducts</th>\n",
       "      <th>...</th>\n",
       "      <th>numstorepurchases</th>\n",
       "      <th>numwebvisitsmonth</th>\n",
       "      <th>acceptedcmp3</th>\n",
       "      <th>acceptedcmp4</th>\n",
       "      <th>acceptedcmp5</th>\n",
       "      <th>acceptedcmp1</th>\n",
       "      <th>acceptedcmp2</th>\n",
       "      <th>complain</th>\n",
       "      <th>response</th>\n",
       "      <th>age</th>\n",
       "    </tr>\n",
       "  </thead>\n",
       "  <tbody>\n",
       "    <tr>\n",
       "      <th>192</th>\n",
       "      <td>2n Cycle</td>\n",
       "      <td>Divorced</td>\n",
       "      <td>36640.0</td>\n",
       "      <td>1</td>\n",
       "      <td>0</td>\n",
       "      <td>26-09-2013</td>\n",
       "      <td>99</td>\n",
       "      <td>15</td>\n",
       "      <td>6</td>\n",
       "      <td>8</td>\n",
       "      <td>...</td>\n",
       "      <td>2</td>\n",
       "      <td>5</td>\n",
       "      <td>0</td>\n",
       "      <td>0</td>\n",
       "      <td>0</td>\n",
       "      <td>0</td>\n",
       "      <td>0</td>\n",
       "      <td>1</td>\n",
       "      <td>0</td>\n",
       "      <td>114</td>\n",
       "    </tr>\n",
       "  </tbody>\n",
       "</table>\n",
       "<p>1 rows × 26 columns</p>\n",
       "</div>"
      ],
      "text/plain": [
       "    education marital_status   income  kidhome  teenhome dt_customer  recency  \\\n",
       "192  2n Cycle       Divorced  36640.0        1         0  26-09-2013       99   \n",
       "\n",
       "     mntwines  mntfruits  mntmeatproducts  ...  numstorepurchases  \\\n",
       "192        15          6                8  ...                  2   \n",
       "\n",
       "     numwebvisitsmonth  acceptedcmp3  acceptedcmp4  acceptedcmp5  \\\n",
       "192                  5             0             0             0   \n",
       "\n",
       "     acceptedcmp1  acceptedcmp2  complain  response  age  \n",
       "192             0             0         1         0  114  \n",
       "\n",
       "[1 rows x 26 columns]"
      ]
     },
     "execution_count": 1479,
     "metadata": {},
     "output_type": "execute_result"
    }
   ],
   "source": [
    "df.loc[df['age'] == 114]"
   ]
  },
  {
   "cell_type": "code",
   "execution_count": 1480,
   "id": "42180ce3",
   "metadata": {},
   "outputs": [],
   "source": [
    "df.drop([192], axis=0, inplace=True)"
   ]
  },
  {
   "cell_type": "code",
   "execution_count": 1481,
   "id": "ca3f8445",
   "metadata": {},
   "outputs": [
    {
     "data": {
      "text/plain": [
       "74"
      ]
     },
     "execution_count": 1481,
     "metadata": {},
     "output_type": "execute_result"
    }
   ],
   "source": [
    "max(df[\"age\"])"
   ]
  },
  {
   "cell_type": "markdown",
   "id": "0b8b5691",
   "metadata": {},
   "source": [
    "### convert \"dt_customer\" to datetime"
   ]
  },
  {
   "cell_type": "code",
   "execution_count": 1482,
   "id": "d12b1e32",
   "metadata": {},
   "outputs": [
    {
     "data": {
      "text/plain": [
       "str"
      ]
     },
     "execution_count": 1482,
     "metadata": {},
     "output_type": "execute_result"
    }
   ],
   "source": [
    "type(df[\"dt_customer\"][0])"
   ]
  },
  {
   "cell_type": "markdown",
   "id": "2eec04f4",
   "metadata": {},
   "source": [
    "def date(datestr=\"\", format=\"%d-%m-%Y\"):\n",
    "    from datetime import datetime\n",
    "    if not datestr:\n",
    "        return datetime.today().date()\n",
    "    return datetime.strptime(datestr, format).date()"
   ]
  },
  {
   "cell_type": "code",
   "execution_count": 1483,
   "id": "fd94c9d1",
   "metadata": {},
   "outputs": [],
   "source": [
    "df[\"dt_customer\"] = pd.to_datetime(df[\"dt_customer\"], format=\"%d-%m-%Y\")"
   ]
  },
  {
   "cell_type": "markdown",
   "id": "8580af8b",
   "metadata": {},
   "source": [
    "### create \"cust_since\" column + drop \"dt_customer\""
   ]
  },
  {
   "cell_type": "code",
   "execution_count": 1484,
   "id": "f4a74269",
   "metadata": {},
   "outputs": [],
   "source": [
    "#Convert datetime column/series to month\n",
    "df['cust_since'] = df['dt_customer'].dt.month"
   ]
  },
  {
   "cell_type": "code",
   "execution_count": 1485,
   "id": "3dd08453",
   "metadata": {},
   "outputs": [
    {
     "data": {
      "text/plain": [
       "0        9\n",
       "1        3\n",
       "2        8\n",
       "3        2\n",
       "4        1\n",
       "        ..\n",
       "2235     6\n",
       "2236     6\n",
       "2237     1\n",
       "2238     1\n",
       "2239    10\n",
       "Name: cust_since, Length: 2213, dtype: int64"
      ]
     },
     "execution_count": 1485,
     "metadata": {},
     "output_type": "execute_result"
    }
   ],
   "source": [
    "df['cust_since']"
   ]
  },
  {
   "cell_type": "code",
   "execution_count": 1486,
   "id": "5fa3082a",
   "metadata": {},
   "outputs": [],
   "source": [
    "df[\"cust_since\"] = (max(df[\"dt_customer\"]) - df[\"dt_customer\"]).astype('timedelta64[M]')"
   ]
  },
  {
   "cell_type": "code",
   "execution_count": 1487,
   "id": "1ca64325",
   "metadata": {},
   "outputs": [],
   "source": [
    "df[\"cust_since\"] = df[\"cust_since\"].astype(\"Int64\")"
   ]
  },
  {
   "cell_type": "code",
   "execution_count": 1488,
   "id": "426a8779",
   "metadata": {},
   "outputs": [
    {
     "data": {
      "text/html": [
       "<div>\n",
       "<style scoped>\n",
       "    .dataframe tbody tr th:only-of-type {\n",
       "        vertical-align: middle;\n",
       "    }\n",
       "\n",
       "    .dataframe tbody tr th {\n",
       "        vertical-align: top;\n",
       "    }\n",
       "\n",
       "    .dataframe thead th {\n",
       "        text-align: right;\n",
       "    }\n",
       "</style>\n",
       "<table border=\"1\" class=\"dataframe\">\n",
       "  <thead>\n",
       "    <tr style=\"text-align: right;\">\n",
       "      <th></th>\n",
       "      <th>cust_since</th>\n",
       "      <th>dt_customer</th>\n",
       "    </tr>\n",
       "  </thead>\n",
       "  <tbody>\n",
       "    <tr>\n",
       "      <th>0</th>\n",
       "      <td>21</td>\n",
       "      <td>2012-09-04</td>\n",
       "    </tr>\n",
       "    <tr>\n",
       "      <th>1</th>\n",
       "      <td>3</td>\n",
       "      <td>2014-03-08</td>\n",
       "    </tr>\n",
       "    <tr>\n",
       "      <th>2</th>\n",
       "      <td>10</td>\n",
       "      <td>2013-08-21</td>\n",
       "    </tr>\n",
       "    <tr>\n",
       "      <th>3</th>\n",
       "      <td>4</td>\n",
       "      <td>2014-02-10</td>\n",
       "    </tr>\n",
       "    <tr>\n",
       "      <th>4</th>\n",
       "      <td>5</td>\n",
       "      <td>2014-01-19</td>\n",
       "    </tr>\n",
       "    <tr>\n",
       "      <th>...</th>\n",
       "      <td>...</td>\n",
       "      <td>...</td>\n",
       "    </tr>\n",
       "    <tr>\n",
       "      <th>2235</th>\n",
       "      <td>12</td>\n",
       "      <td>2013-06-13</td>\n",
       "    </tr>\n",
       "    <tr>\n",
       "      <th>2236</th>\n",
       "      <td>0</td>\n",
       "      <td>2014-06-10</td>\n",
       "    </tr>\n",
       "    <tr>\n",
       "      <th>2237</th>\n",
       "      <td>5</td>\n",
       "      <td>2014-01-25</td>\n",
       "    </tr>\n",
       "    <tr>\n",
       "      <th>2238</th>\n",
       "      <td>5</td>\n",
       "      <td>2014-01-24</td>\n",
       "    </tr>\n",
       "    <tr>\n",
       "      <th>2239</th>\n",
       "      <td>20</td>\n",
       "      <td>2012-10-15</td>\n",
       "    </tr>\n",
       "  </tbody>\n",
       "</table>\n",
       "<p>2213 rows × 2 columns</p>\n",
       "</div>"
      ],
      "text/plain": [
       "      cust_since dt_customer\n",
       "0             21  2012-09-04\n",
       "1              3  2014-03-08\n",
       "2             10  2013-08-21\n",
       "3              4  2014-02-10\n",
       "4              5  2014-01-19\n",
       "...          ...         ...\n",
       "2235          12  2013-06-13\n",
       "2236           0  2014-06-10\n",
       "2237           5  2014-01-25\n",
       "2238           5  2014-01-24\n",
       "2239          20  2012-10-15\n",
       "\n",
       "[2213 rows x 2 columns]"
      ]
     },
     "execution_count": 1488,
     "metadata": {},
     "output_type": "execute_result"
    }
   ],
   "source": [
    "df[[\"cust_since\", \"dt_customer\"]]"
   ]
  },
  {
   "cell_type": "code",
   "execution_count": 1489,
   "id": "277baecc",
   "metadata": {},
   "outputs": [],
   "source": [
    "df.drop([\"dt_customer\"],axis=1, inplace=True)"
   ]
  },
  {
   "cell_type": "markdown",
   "id": "7948455f",
   "metadata": {},
   "source": [
    "### clean education column"
   ]
  },
  {
   "cell_type": "code",
   "execution_count": 1490,
   "id": "ca46c7b8",
   "metadata": {},
   "outputs": [
    {
     "data": {
      "text/plain": [
       "array(['Graduation', 'PhD', 'Master', 'Basic', '2n Cycle'], dtype=object)"
      ]
     },
     "execution_count": 1490,
     "metadata": {},
     "output_type": "execute_result"
    }
   ],
   "source": [
    "df[\"education\"].unique()"
   ]
  },
  {
   "cell_type": "code",
   "execution_count": 1491,
   "id": "426c0d75",
   "metadata": {},
   "outputs": [],
   "source": [
    "def clean_edu(x):\n",
    "    if x in ['Basic', '2n Cycle']:\n",
    "        return \"0\"\n",
    "    elif x in ['Graduation']:\n",
    "        return \"1\"\n",
    "    elif x in ['Master', 'PhD']:\n",
    "        return \"2\""
   ]
  },
  {
   "cell_type": "code",
   "execution_count": 1492,
   "id": "e36174a0",
   "metadata": {},
   "outputs": [],
   "source": [
    "df['education'] = list(map(clean_edu, df['education']))"
   ]
  },
  {
   "cell_type": "code",
   "execution_count": 1493,
   "id": "90b611a2",
   "metadata": {},
   "outputs": [],
   "source": [
    "df['education'] = df['education'].astype(int)"
   ]
  },
  {
   "cell_type": "markdown",
   "id": "9f558de2",
   "metadata": {},
   "source": [
    "### convert \"income\" to int"
   ]
  },
  {
   "cell_type": "code",
   "execution_count": 1494,
   "id": "f972e706",
   "metadata": {},
   "outputs": [
    {
     "data": {
      "text/plain": [
       "666666.0"
      ]
     },
     "execution_count": 1494,
     "metadata": {},
     "output_type": "execute_result"
    }
   ],
   "source": [
    "max(df[\"income\"])"
   ]
  },
  {
   "cell_type": "code",
   "execution_count": 1495,
   "id": "72ddddf8",
   "metadata": {},
   "outputs": [
    {
     "data": {
      "text/html": [
       "<div>\n",
       "<style scoped>\n",
       "    .dataframe tbody tr th:only-of-type {\n",
       "        vertical-align: middle;\n",
       "    }\n",
       "\n",
       "    .dataframe tbody tr th {\n",
       "        vertical-align: top;\n",
       "    }\n",
       "\n",
       "    .dataframe thead th {\n",
       "        text-align: right;\n",
       "    }\n",
       "</style>\n",
       "<table border=\"1\" class=\"dataframe\">\n",
       "  <thead>\n",
       "    <tr style=\"text-align: right;\">\n",
       "      <th></th>\n",
       "      <th>education</th>\n",
       "      <th>marital_status</th>\n",
       "      <th>income</th>\n",
       "      <th>kidhome</th>\n",
       "      <th>teenhome</th>\n",
       "      <th>recency</th>\n",
       "      <th>mntwines</th>\n",
       "      <th>mntfruits</th>\n",
       "      <th>mntmeatproducts</th>\n",
       "      <th>mntfishproducts</th>\n",
       "      <th>...</th>\n",
       "      <th>numwebvisitsmonth</th>\n",
       "      <th>acceptedcmp3</th>\n",
       "      <th>acceptedcmp4</th>\n",
       "      <th>acceptedcmp5</th>\n",
       "      <th>acceptedcmp1</th>\n",
       "      <th>acceptedcmp2</th>\n",
       "      <th>complain</th>\n",
       "      <th>response</th>\n",
       "      <th>age</th>\n",
       "      <th>cust_since</th>\n",
       "    </tr>\n",
       "  </thead>\n",
       "  <tbody>\n",
       "    <tr>\n",
       "      <th>2233</th>\n",
       "      <td>1</td>\n",
       "      <td>Together</td>\n",
       "      <td>666666.0</td>\n",
       "      <td>1</td>\n",
       "      <td>0</td>\n",
       "      <td>23</td>\n",
       "      <td>9</td>\n",
       "      <td>14</td>\n",
       "      <td>18</td>\n",
       "      <td>8</td>\n",
       "      <td>...</td>\n",
       "      <td>6</td>\n",
       "      <td>0</td>\n",
       "      <td>0</td>\n",
       "      <td>0</td>\n",
       "      <td>0</td>\n",
       "      <td>0</td>\n",
       "      <td>0</td>\n",
       "      <td>0</td>\n",
       "      <td>37</td>\n",
       "      <td>12</td>\n",
       "    </tr>\n",
       "  </tbody>\n",
       "</table>\n",
       "<p>1 rows × 26 columns</p>\n",
       "</div>"
      ],
      "text/plain": [
       "      education marital_status    income  kidhome  teenhome  recency  \\\n",
       "2233          1       Together  666666.0        1         0       23   \n",
       "\n",
       "      mntwines  mntfruits  mntmeatproducts  mntfishproducts  ...  \\\n",
       "2233         9         14               18                8  ...   \n",
       "\n",
       "      numwebvisitsmonth  acceptedcmp3  acceptedcmp4  acceptedcmp5  \\\n",
       "2233                  6             0             0             0   \n",
       "\n",
       "      acceptedcmp1  acceptedcmp2  complain  response  age  cust_since  \n",
       "2233             0             0         0         0   37          12  \n",
       "\n",
       "[1 rows x 26 columns]"
      ]
     },
     "execution_count": 1495,
     "metadata": {},
     "output_type": "execute_result"
    }
   ],
   "source": [
    "df.loc[df['income'] == 666666.0]"
   ]
  },
  {
   "cell_type": "code",
   "execution_count": 1496,
   "id": "6a19769c",
   "metadata": {},
   "outputs": [],
   "source": [
    "df.drop([2233], axis=0, inplace=True)"
   ]
  },
  {
   "cell_type": "code",
   "execution_count": 1497,
   "id": "e1233df7",
   "metadata": {},
   "outputs": [],
   "source": [
    "df[\"income\"] = df[\"income\"].astype(\"Int64\")"
   ]
  },
  {
   "cell_type": "markdown",
   "id": "bd429b92",
   "metadata": {},
   "source": [
    "### clean \"marital_status\""
   ]
  },
  {
   "cell_type": "code",
   "execution_count": 1498,
   "id": "974865f6",
   "metadata": {},
   "outputs": [
    {
     "data": {
      "text/plain": [
       "array(['Single', 'Together', 'Married', 'Divorced', 'Widow', 'Alone',\n",
       "       'Absurd', 'YOLO'], dtype=object)"
      ]
     },
     "execution_count": 1498,
     "metadata": {},
     "output_type": "execute_result"
    }
   ],
   "source": [
    "df[\"marital_status\"].unique()"
   ]
  },
  {
   "cell_type": "code",
   "execution_count": 1499,
   "id": "b714d503",
   "metadata": {},
   "outputs": [
    {
     "data": {
      "text/html": [
       "<div>\n",
       "<style scoped>\n",
       "    .dataframe tbody tr th:only-of-type {\n",
       "        vertical-align: middle;\n",
       "    }\n",
       "\n",
       "    .dataframe tbody tr th {\n",
       "        vertical-align: top;\n",
       "    }\n",
       "\n",
       "    .dataframe thead th {\n",
       "        text-align: right;\n",
       "    }\n",
       "</style>\n",
       "<table border=\"1\" class=\"dataframe\">\n",
       "  <thead>\n",
       "    <tr style=\"text-align: right;\">\n",
       "      <th></th>\n",
       "      <th>education</th>\n",
       "      <th>marital_status</th>\n",
       "      <th>income</th>\n",
       "      <th>kidhome</th>\n",
       "      <th>teenhome</th>\n",
       "      <th>recency</th>\n",
       "      <th>mntwines</th>\n",
       "      <th>mntfruits</th>\n",
       "      <th>mntmeatproducts</th>\n",
       "      <th>mntfishproducts</th>\n",
       "      <th>...</th>\n",
       "      <th>numwebvisitsmonth</th>\n",
       "      <th>acceptedcmp3</th>\n",
       "      <th>acceptedcmp4</th>\n",
       "      <th>acceptedcmp5</th>\n",
       "      <th>acceptedcmp1</th>\n",
       "      <th>acceptedcmp2</th>\n",
       "      <th>complain</th>\n",
       "      <th>response</th>\n",
       "      <th>age</th>\n",
       "      <th>cust_since</th>\n",
       "    </tr>\n",
       "  </thead>\n",
       "  <tbody>\n",
       "    <tr>\n",
       "      <th>2177</th>\n",
       "      <td>2</td>\n",
       "      <td>YOLO</td>\n",
       "      <td>48432</td>\n",
       "      <td>0</td>\n",
       "      <td>1</td>\n",
       "      <td>3</td>\n",
       "      <td>322</td>\n",
       "      <td>3</td>\n",
       "      <td>50</td>\n",
       "      <td>4</td>\n",
       "      <td>...</td>\n",
       "      <td>8</td>\n",
       "      <td>0</td>\n",
       "      <td>0</td>\n",
       "      <td>0</td>\n",
       "      <td>0</td>\n",
       "      <td>0</td>\n",
       "      <td>0</td>\n",
       "      <td>0</td>\n",
       "      <td>41</td>\n",
       "      <td>20</td>\n",
       "    </tr>\n",
       "    <tr>\n",
       "      <th>2202</th>\n",
       "      <td>2</td>\n",
       "      <td>YOLO</td>\n",
       "      <td>48432</td>\n",
       "      <td>0</td>\n",
       "      <td>1</td>\n",
       "      <td>3</td>\n",
       "      <td>322</td>\n",
       "      <td>3</td>\n",
       "      <td>50</td>\n",
       "      <td>4</td>\n",
       "      <td>...</td>\n",
       "      <td>8</td>\n",
       "      <td>0</td>\n",
       "      <td>0</td>\n",
       "      <td>0</td>\n",
       "      <td>0</td>\n",
       "      <td>0</td>\n",
       "      <td>0</td>\n",
       "      <td>1</td>\n",
       "      <td>41</td>\n",
       "      <td>20</td>\n",
       "    </tr>\n",
       "  </tbody>\n",
       "</table>\n",
       "<p>2 rows × 26 columns</p>\n",
       "</div>"
      ],
      "text/plain": [
       "      education marital_status  income  kidhome  teenhome  recency  mntwines  \\\n",
       "2177          2           YOLO   48432        0         1        3       322   \n",
       "2202          2           YOLO   48432        0         1        3       322   \n",
       "\n",
       "      mntfruits  mntmeatproducts  mntfishproducts  ...  numwebvisitsmonth  \\\n",
       "2177          3               50                4  ...                  8   \n",
       "2202          3               50                4  ...                  8   \n",
       "\n",
       "      acceptedcmp3  acceptedcmp4  acceptedcmp5  acceptedcmp1  acceptedcmp2  \\\n",
       "2177             0             0             0             0             0   \n",
       "2202             0             0             0             0             0   \n",
       "\n",
       "      complain  response  age  cust_since  \n",
       "2177         0         0   41          20  \n",
       "2202         0         1   41          20  \n",
       "\n",
       "[2 rows x 26 columns]"
      ]
     },
     "execution_count": 1499,
     "metadata": {},
     "output_type": "execute_result"
    }
   ],
   "source": [
    "df.loc[df['marital_status'] == \"YOLO\"]"
   ]
  },
  {
   "cell_type": "code",
   "execution_count": 1500,
   "id": "2533e48c",
   "metadata": {},
   "outputs": [],
   "source": [
    "#remove \"YOLO\" from \"marital_status\"\n",
    "df = df.drop([2177, 2202])"
   ]
  },
  {
   "cell_type": "code",
   "execution_count": 1501,
   "id": "ada2372c",
   "metadata": {},
   "outputs": [
    {
     "data": {
      "text/plain": [
       "array(['Single', 'Together', 'Married', 'Divorced', 'Widow', 'Alone',\n",
       "       'Absurd'], dtype=object)"
      ]
     },
     "execution_count": 1501,
     "metadata": {},
     "output_type": "execute_result"
    }
   ],
   "source": [
    "df[\"marital_status\"].unique()"
   ]
  },
  {
   "cell_type": "code",
   "execution_count": 1502,
   "id": "5452662e",
   "metadata": {},
   "outputs": [],
   "source": [
    "def clean_marital(x):\n",
    "    if x in ['Together', 'Married']:\n",
    "        return \"1\"\n",
    "    elif x in [\"Single\", \"Alone\", \"Widow\", \"Divorced\", 'Absurd']:\n",
    "        return \"0\""
   ]
  },
  {
   "cell_type": "code",
   "execution_count": 1503,
   "id": "e39a5cbb",
   "metadata": {},
   "outputs": [],
   "source": [
    "df['marital_status'] = list(map(clean_marital, df['marital_status']))"
   ]
  },
  {
   "cell_type": "code",
   "execution_count": 1504,
   "id": "d02a7f57",
   "metadata": {},
   "outputs": [],
   "source": [
    "df['marital_status'] = df['marital_status'].astype(int)"
   ]
  },
  {
   "cell_type": "markdown",
   "id": "8c378782",
   "metadata": {},
   "source": [
    "### new column \"children\""
   ]
  },
  {
   "cell_type": "code",
   "execution_count": 1505,
   "id": "92038374",
   "metadata": {},
   "outputs": [],
   "source": [
    "df[\"children\"]= df[\"kidhome\"] + df[\"teenhome\"]"
   ]
  },
  {
   "cell_type": "markdown",
   "id": "56698dc5",
   "metadata": {},
   "source": [
    "### concatenate campaigns "
   ]
  },
  {
   "cell_type": "code",
   "execution_count": 1506,
   "id": "668a0d34",
   "metadata": {},
   "outputs": [],
   "source": [
    "df[\"acc_camp\"] = df[\"acceptedcmp1\"] + df[\"acceptedcmp2\"] + df[\"acceptedcmp3\"] + df[\"acceptedcmp4\"] + df[\"acceptedcmp5\"]"
   ]
  },
  {
   "cell_type": "code",
   "execution_count": 1507,
   "id": "c4740440",
   "metadata": {},
   "outputs": [
    {
     "data": {
      "text/plain": [
       "0    1752\n",
       "1     322\n",
       "2      81\n",
       "3      44\n",
       "4      11\n",
       "Name: acc_camp, dtype: int64"
      ]
     },
     "execution_count": 1507,
     "metadata": {},
     "output_type": "execute_result"
    }
   ],
   "source": [
    "df[\"acc_camp\"].value_counts()"
   ]
  },
  {
   "cell_type": "code",
   "execution_count": 1508,
   "id": "9ff670e7",
   "metadata": {},
   "outputs": [],
   "source": [
    "df = df.drop(columns=[\"acceptedcmp1\", \"acceptedcmp2\",\"acceptedcmp3\", \"acceptedcmp4\", \"acceptedcmp5\" ])"
   ]
  },
  {
   "cell_type": "code",
   "execution_count": 1509,
   "id": "7305c3e0",
   "metadata": {},
   "outputs": [],
   "source": [
    " #column \"household_size\"\n",
    " #column \"total_amount_spent\""
   ]
  },
  {
   "cell_type": "markdown",
   "id": "9f457a3b",
   "metadata": {},
   "source": [
    "### creating household size column"
   ]
  },
  {
   "cell_type": "code",
   "execution_count": 1510,
   "id": "1dd15f58",
   "metadata": {},
   "outputs": [
    {
     "data": {
      "text/plain": [
       "education              int64\n",
       "marital_status         int64\n",
       "income                 Int64\n",
       "kidhome                int64\n",
       "teenhome               int64\n",
       "recency                int64\n",
       "mntwines               int64\n",
       "mntfruits              int64\n",
       "mntmeatproducts        int64\n",
       "mntfishproducts        int64\n",
       "mntsweetproducts       int64\n",
       "mntgoldprods           int64\n",
       "numdealspurchases      int64\n",
       "numwebpurchases        int64\n",
       "numcatalogpurchases    int64\n",
       "numstorepurchases      int64\n",
       "numwebvisitsmonth      int64\n",
       "complain               int64\n",
       "response               int64\n",
       "age                    int64\n",
       "cust_since             Int64\n",
       "children               int64\n",
       "acc_camp               int64\n",
       "dtype: object"
      ]
     },
     "execution_count": 1510,
     "metadata": {},
     "output_type": "execute_result"
    }
   ],
   "source": [
    "df.dtypes"
   ]
  },
  {
   "cell_type": "code",
   "execution_count": 1511,
   "id": "8408f2d9",
   "metadata": {},
   "outputs": [],
   "source": [
    "df[\"household_size\"] = df[\"marital_status\"] + df[\"children\"] + 1"
   ]
  },
  {
   "cell_type": "code",
   "execution_count": 1512,
   "id": "f1d21d11",
   "metadata": {},
   "outputs": [],
   "source": [
    "df.drop([\"children\"], axis=1, inplace=True)"
   ]
  },
  {
   "cell_type": "markdown",
   "id": "bce40914",
   "metadata": {},
   "source": [
    "## plotting"
   ]
  },
  {
   "cell_type": "markdown",
   "id": "795bb45c",
   "metadata": {},
   "source": [
    "### correlation heatmap"
   ]
  },
  {
   "cell_type": "code",
   "execution_count": 1513,
   "id": "e8634c05",
   "metadata": {},
   "outputs": [
    {
     "data": {
      "image/png": "[encoded data removed]",
      "text/plain": [
       "<Figure size 1440x1440 with 2 Axes>"
      ]
     },
     "metadata": {},
     "output_type": "display_data"
    }
   ],
   "source": [
    "corr = df.corr()\n",
    "mask = np.zeros_like(corr)\n",
    "mask[np.triu_indices_from(mask)] = True\n",
    "with sns.axes_style(\"white\"):\n",
    "    f, ax = plt.subplots(figsize=(20, 20))\n",
    "    ax = sns.heatmap(corr, mask=mask,cmap='coolwarm', vmin=-1,vmax=1,annot=True, square=True)"
   ]
  },
  {
   "cell_type": "code",
   "execution_count": 1514,
   "id": "ff25e5a8",
   "metadata": {},
   "outputs": [
    {
     "name": "stdout",
     "output_type": "stream",
     "text": [
      "['numcatalogpurchases', 'mntmeatproducts', 'mntwines', 'numwebvisitsmonth', 'numstorepurchases', 'mntsweetproducts', 'mntfishproducts', 'kidhome', 'mntfruits', 'numwebpurchases', 'mntgoldprods', 'acc_camp', 'income']\n"
     ]
    },
    {
     "data": {
      "text/html": [
       "<div>\n",
       "<style scoped>\n",
       "    .dataframe tbody tr th:only-of-type {\n",
       "        vertical-align: middle;\n",
       "    }\n",
       "\n",
       "    .dataframe tbody tr th {\n",
       "        vertical-align: top;\n",
       "    }\n",
       "\n",
       "    .dataframe thead th {\n",
       "        text-align: right;\n",
       "    }\n",
       "</style>\n",
       "<table border=\"1\" class=\"dataframe\">\n",
       "  <thead>\n",
       "    <tr style=\"text-align: right;\">\n",
       "      <th></th>\n",
       "      <th>numcatalogpurchases</th>\n",
       "      <th>mntmeatproducts</th>\n",
       "      <th>mntwines</th>\n",
       "      <th>numwebvisitsmonth</th>\n",
       "      <th>numstorepurchases</th>\n",
       "      <th>mntsweetproducts</th>\n",
       "      <th>mntfishproducts</th>\n",
       "      <th>kidhome</th>\n",
       "      <th>mntfruits</th>\n",
       "      <th>numwebpurchases</th>\n",
       "      <th>mntgoldprods</th>\n",
       "      <th>acc_camp</th>\n",
       "      <th>income</th>\n",
       "    </tr>\n",
       "  </thead>\n",
       "  <tbody>\n",
       "    <tr>\n",
       "      <th>0</th>\n",
       "      <td>10</td>\n",
       "      <td>546</td>\n",
       "      <td>635</td>\n",
       "      <td>7</td>\n",
       "      <td>4</td>\n",
       "      <td>88</td>\n",
       "      <td>172</td>\n",
       "      <td>0</td>\n",
       "      <td>88</td>\n",
       "      <td>8</td>\n",
       "      <td>88</td>\n",
       "      <td>0</td>\n",
       "      <td>58138</td>\n",
       "    </tr>\n",
       "    <tr>\n",
       "      <th>1</th>\n",
       "      <td>1</td>\n",
       "      <td>6</td>\n",
       "      <td>11</td>\n",
       "      <td>5</td>\n",
       "      <td>2</td>\n",
       "      <td>1</td>\n",
       "      <td>2</td>\n",
       "      <td>1</td>\n",
       "      <td>1</td>\n",
       "      <td>1</td>\n",
       "      <td>6</td>\n",
       "      <td>0</td>\n",
       "      <td>46344</td>\n",
       "    </tr>\n",
       "    <tr>\n",
       "      <th>2</th>\n",
       "      <td>2</td>\n",
       "      <td>127</td>\n",
       "      <td>426</td>\n",
       "      <td>4</td>\n",
       "      <td>10</td>\n",
       "      <td>21</td>\n",
       "      <td>111</td>\n",
       "      <td>0</td>\n",
       "      <td>49</td>\n",
       "      <td>8</td>\n",
       "      <td>42</td>\n",
       "      <td>0</td>\n",
       "      <td>71613</td>\n",
       "    </tr>\n",
       "    <tr>\n",
       "      <th>3</th>\n",
       "      <td>0</td>\n",
       "      <td>20</td>\n",
       "      <td>11</td>\n",
       "      <td>6</td>\n",
       "      <td>4</td>\n",
       "      <td>3</td>\n",
       "      <td>10</td>\n",
       "      <td>1</td>\n",
       "      <td>4</td>\n",
       "      <td>2</td>\n",
       "      <td>5</td>\n",
       "      <td>0</td>\n",
       "      <td>26646</td>\n",
       "    </tr>\n",
       "    <tr>\n",
       "      <th>4</th>\n",
       "      <td>3</td>\n",
       "      <td>118</td>\n",
       "      <td>173</td>\n",
       "      <td>5</td>\n",
       "      <td>6</td>\n",
       "      <td>27</td>\n",
       "      <td>46</td>\n",
       "      <td>1</td>\n",
       "      <td>43</td>\n",
       "      <td>5</td>\n",
       "      <td>15</td>\n",
       "      <td>0</td>\n",
       "      <td>58293</td>\n",
       "    </tr>\n",
       "    <tr>\n",
       "      <th>...</th>\n",
       "      <td>...</td>\n",
       "      <td>...</td>\n",
       "      <td>...</td>\n",
       "      <td>...</td>\n",
       "      <td>...</td>\n",
       "      <td>...</td>\n",
       "      <td>...</td>\n",
       "      <td>...</td>\n",
       "      <td>...</td>\n",
       "      <td>...</td>\n",
       "      <td>...</td>\n",
       "      <td>...</td>\n",
       "      <td>...</td>\n",
       "    </tr>\n",
       "    <tr>\n",
       "      <th>2235</th>\n",
       "      <td>3</td>\n",
       "      <td>182</td>\n",
       "      <td>709</td>\n",
       "      <td>5</td>\n",
       "      <td>4</td>\n",
       "      <td>118</td>\n",
       "      <td>42</td>\n",
       "      <td>0</td>\n",
       "      <td>43</td>\n",
       "      <td>9</td>\n",
       "      <td>247</td>\n",
       "      <td>0</td>\n",
       "      <td>61223</td>\n",
       "    </tr>\n",
       "    <tr>\n",
       "      <th>2236</th>\n",
       "      <td>2</td>\n",
       "      <td>30</td>\n",
       "      <td>406</td>\n",
       "      <td>7</td>\n",
       "      <td>5</td>\n",
       "      <td>0</td>\n",
       "      <td>0</td>\n",
       "      <td>2</td>\n",
       "      <td>0</td>\n",
       "      <td>8</td>\n",
       "      <td>8</td>\n",
       "      <td>1</td>\n",
       "      <td>64014</td>\n",
       "    </tr>\n",
       "    <tr>\n",
       "      <th>2237</th>\n",
       "      <td>3</td>\n",
       "      <td>217</td>\n",
       "      <td>908</td>\n",
       "      <td>6</td>\n",
       "      <td>13</td>\n",
       "      <td>12</td>\n",
       "      <td>32</td>\n",
       "      <td>0</td>\n",
       "      <td>48</td>\n",
       "      <td>2</td>\n",
       "      <td>24</td>\n",
       "      <td>1</td>\n",
       "      <td>56981</td>\n",
       "    </tr>\n",
       "    <tr>\n",
       "      <th>2238</th>\n",
       "      <td>5</td>\n",
       "      <td>214</td>\n",
       "      <td>428</td>\n",
       "      <td>3</td>\n",
       "      <td>10</td>\n",
       "      <td>30</td>\n",
       "      <td>80</td>\n",
       "      <td>0</td>\n",
       "      <td>30</td>\n",
       "      <td>6</td>\n",
       "      <td>61</td>\n",
       "      <td>0</td>\n",
       "      <td>69245</td>\n",
       "    </tr>\n",
       "    <tr>\n",
       "      <th>2239</th>\n",
       "      <td>1</td>\n",
       "      <td>61</td>\n",
       "      <td>84</td>\n",
       "      <td>7</td>\n",
       "      <td>4</td>\n",
       "      <td>1</td>\n",
       "      <td>2</td>\n",
       "      <td>1</td>\n",
       "      <td>3</td>\n",
       "      <td>3</td>\n",
       "      <td>21</td>\n",
       "      <td>0</td>\n",
       "      <td>52869</td>\n",
       "    </tr>\n",
       "  </tbody>\n",
       "</table>\n",
       "<p>2210 rows × 13 columns</p>\n",
       "</div>"
      ],
      "text/plain": [
       "      numcatalogpurchases  mntmeatproducts  mntwines  numwebvisitsmonth  \\\n",
       "0                      10              546       635                  7   \n",
       "1                       1                6        11                  5   \n",
       "2                       2              127       426                  4   \n",
       "3                       0               20        11                  6   \n",
       "4                       3              118       173                  5   \n",
       "...                   ...              ...       ...                ...   \n",
       "2235                    3              182       709                  5   \n",
       "2236                    2               30       406                  7   \n",
       "2237                    3              217       908                  6   \n",
       "2238                    5              214       428                  3   \n",
       "2239                    1               61        84                  7   \n",
       "\n",
       "      numstorepurchases  mntsweetproducts  mntfishproducts  kidhome  \\\n",
       "0                     4                88              172        0   \n",
       "1                     2                 1                2        1   \n",
       "2                    10                21              111        0   \n",
       "3                     4                 3               10        1   \n",
       "4                     6                27               46        1   \n",
       "...                 ...               ...              ...      ...   \n",
       "2235                  4               118               42        0   \n",
       "2236                  5                 0                0        2   \n",
       "2237                 13                12               32        0   \n",
       "2238                 10                30               80        0   \n",
       "2239                  4                 1                2        1   \n",
       "\n",
       "      mntfruits  numwebpurchases  mntgoldprods  acc_camp  income  \n",
       "0            88                8            88         0   58138  \n",
       "1             1                1             6         0   46344  \n",
       "2            49                8            42         0   71613  \n",
       "3             4                2             5         0   26646  \n",
       "4            43                5            15         0   58293  \n",
       "...         ...              ...           ...       ...     ...  \n",
       "2235         43                9           247         0   61223  \n",
       "2236          0                8             8         1   64014  \n",
       "2237         48                2            24         1   56981  \n",
       "2238         30                6            61         0   69245  \n",
       "2239          3                3            21         0   52869  \n",
       "\n",
       "[2210 rows x 13 columns]"
      ]
     },
     "execution_count": 1514,
     "metadata": {},
     "output_type": "execute_result"
    }
   ],
   "source": [
    "import seaborn as sns\n",
    "import matplotlib.pyplot as plt\n",
    "\n",
    "c = abs(df.corr())\n",
    "#c\n",
    "\n",
    "#fig, ax = plt.subplots(figsize=(14,14))\n",
    "#sns.heatmap(c, annot=True);\n",
    "\n",
    "#c['SalePrice']\n",
    "c_last = c['income'].sort_values(ascending=False)\n",
    "#c_last\n",
    "c_thr = .3\n",
    "cols_to_keep = list(c_last[c_last > c_thr].index)[1:] + [list(c_last[c_last > c_thr].index)[0]]\n",
    "print(cols_to_keep)\n",
    "\n",
    "df[cols_to_keep]"
   ]
  },
  {
   "cell_type": "code",
   "execution_count": 1515,
   "id": "af13f82b",
   "metadata": {},
   "outputs": [
    {
     "data": {
      "text/html": [
       "<div>\n",
       "<style scoped>\n",
       "    .dataframe tbody tr th:only-of-type {\n",
       "        vertical-align: middle;\n",
       "    }\n",
       "\n",
       "    .dataframe tbody tr th {\n",
       "        vertical-align: top;\n",
       "    }\n",
       "\n",
       "    .dataframe thead th {\n",
       "        text-align: right;\n",
       "    }\n",
       "</style>\n",
       "<table border=\"1\" class=\"dataframe\">\n",
       "  <thead>\n",
       "    <tr style=\"text-align: right;\">\n",
       "      <th></th>\n",
       "      <th>education</th>\n",
       "      <th>marital_status</th>\n",
       "      <th>income</th>\n",
       "      <th>kidhome</th>\n",
       "      <th>teenhome</th>\n",
       "      <th>recency</th>\n",
       "      <th>mntwines</th>\n",
       "      <th>mntfruits</th>\n",
       "      <th>mntmeatproducts</th>\n",
       "      <th>mntfishproducts</th>\n",
       "      <th>...</th>\n",
       "      <th>numwebpurchases</th>\n",
       "      <th>numcatalogpurchases</th>\n",
       "      <th>numstorepurchases</th>\n",
       "      <th>numwebvisitsmonth</th>\n",
       "      <th>complain</th>\n",
       "      <th>response</th>\n",
       "      <th>age</th>\n",
       "      <th>cust_since</th>\n",
       "      <th>acc_camp</th>\n",
       "      <th>household_size</th>\n",
       "    </tr>\n",
       "  </thead>\n",
       "  <tbody>\n",
       "    <tr>\n",
       "      <th>count</th>\n",
       "      <td>2210.000000</td>\n",
       "      <td>2210.000000</td>\n",
       "      <td>2210.000000</td>\n",
       "      <td>2210.000000</td>\n",
       "      <td>2210.000000</td>\n",
       "      <td>2210.000000</td>\n",
       "      <td>2210.000000</td>\n",
       "      <td>2210.000000</td>\n",
       "      <td>2210.000000</td>\n",
       "      <td>2210.000000</td>\n",
       "      <td>...</td>\n",
       "      <td>2210.000000</td>\n",
       "      <td>2210.000000</td>\n",
       "      <td>2210.000000</td>\n",
       "      <td>2210.000000</td>\n",
       "      <td>2210.00000</td>\n",
       "      <td>2210.000000</td>\n",
       "      <td>2210.000000</td>\n",
       "      <td>2210.000000</td>\n",
       "      <td>2210.000000</td>\n",
       "      <td>2210.000000</td>\n",
       "    </tr>\n",
       "    <tr>\n",
       "      <th>mean</th>\n",
       "      <td>1.267421</td>\n",
       "      <td>0.646154</td>\n",
       "      <td>51962.002262</td>\n",
       "      <td>0.442081</td>\n",
       "      <td>0.505430</td>\n",
       "      <td>49.061086</td>\n",
       "      <td>305.272398</td>\n",
       "      <td>26.350679</td>\n",
       "      <td>167.135747</td>\n",
       "      <td>37.679186</td>\n",
       "      <td>...</td>\n",
       "      <td>4.085520</td>\n",
       "      <td>2.673756</td>\n",
       "      <td>5.806335</td>\n",
       "      <td>5.319005</td>\n",
       "      <td>0.00905</td>\n",
       "      <td>0.150226</td>\n",
       "      <td>45.090045</td>\n",
       "      <td>11.113122</td>\n",
       "      <td>0.298643</td>\n",
       "      <td>2.593665</td>\n",
       "    </tr>\n",
       "    <tr>\n",
       "      <th>std</th>\n",
       "      <td>0.651270</td>\n",
       "      <td>0.478270</td>\n",
       "      <td>21536.760214</td>\n",
       "      <td>0.537033</td>\n",
       "      <td>0.544296</td>\n",
       "      <td>28.923063</td>\n",
       "      <td>337.475234</td>\n",
       "      <td>39.755837</td>\n",
       "      <td>224.328327</td>\n",
       "      <td>54.787459</td>\n",
       "      <td>...</td>\n",
       "      <td>2.742027</td>\n",
       "      <td>2.928434</td>\n",
       "      <td>3.252405</td>\n",
       "      <td>2.425355</td>\n",
       "      <td>0.09472</td>\n",
       "      <td>0.357374</td>\n",
       "      <td>11.706248</td>\n",
       "      <td>6.633718</td>\n",
       "      <td>0.679818</td>\n",
       "      <td>0.906471</td>\n",
       "    </tr>\n",
       "    <tr>\n",
       "      <th>min</th>\n",
       "      <td>0.000000</td>\n",
       "      <td>0.000000</td>\n",
       "      <td>1730.000000</td>\n",
       "      <td>0.000000</td>\n",
       "      <td>0.000000</td>\n",
       "      <td>0.000000</td>\n",
       "      <td>0.000000</td>\n",
       "      <td>0.000000</td>\n",
       "      <td>0.000000</td>\n",
       "      <td>0.000000</td>\n",
       "      <td>...</td>\n",
       "      <td>0.000000</td>\n",
       "      <td>0.000000</td>\n",
       "      <td>0.000000</td>\n",
       "      <td>0.000000</td>\n",
       "      <td>0.00000</td>\n",
       "      <td>0.000000</td>\n",
       "      <td>18.000000</td>\n",
       "      <td>0.000000</td>\n",
       "      <td>0.000000</td>\n",
       "      <td>1.000000</td>\n",
       "    </tr>\n",
       "    <tr>\n",
       "      <th>25%</th>\n",
       "      <td>1.000000</td>\n",
       "      <td>0.000000</td>\n",
       "      <td>35208.500000</td>\n",
       "      <td>0.000000</td>\n",
       "      <td>0.000000</td>\n",
       "      <td>24.000000</td>\n",
       "      <td>24.000000</td>\n",
       "      <td>2.000000</td>\n",
       "      <td>16.000000</td>\n",
       "      <td>3.000000</td>\n",
       "      <td>...</td>\n",
       "      <td>2.000000</td>\n",
       "      <td>0.000000</td>\n",
       "      <td>3.000000</td>\n",
       "      <td>3.000000</td>\n",
       "      <td>0.00000</td>\n",
       "      <td>0.000000</td>\n",
       "      <td>37.000000</td>\n",
       "      <td>5.000000</td>\n",
       "      <td>0.000000</td>\n",
       "      <td>2.000000</td>\n",
       "    </tr>\n",
       "    <tr>\n",
       "      <th>50%</th>\n",
       "      <td>1.000000</td>\n",
       "      <td>1.000000</td>\n",
       "      <td>51381.500000</td>\n",
       "      <td>0.000000</td>\n",
       "      <td>0.000000</td>\n",
       "      <td>49.000000</td>\n",
       "      <td>174.500000</td>\n",
       "      <td>8.000000</td>\n",
       "      <td>68.000000</td>\n",
       "      <td>12.000000</td>\n",
       "      <td>...</td>\n",
       "      <td>4.000000</td>\n",
       "      <td>2.000000</td>\n",
       "      <td>5.000000</td>\n",
       "      <td>6.000000</td>\n",
       "      <td>0.00000</td>\n",
       "      <td>0.000000</td>\n",
       "      <td>44.000000</td>\n",
       "      <td>11.000000</td>\n",
       "      <td>0.000000</td>\n",
       "      <td>3.000000</td>\n",
       "    </tr>\n",
       "    <tr>\n",
       "      <th>75%</th>\n",
       "      <td>2.000000</td>\n",
       "      <td>1.000000</td>\n",
       "      <td>68487.000000</td>\n",
       "      <td>1.000000</td>\n",
       "      <td>1.000000</td>\n",
       "      <td>74.000000</td>\n",
       "      <td>505.000000</td>\n",
       "      <td>33.000000</td>\n",
       "      <td>232.750000</td>\n",
       "      <td>50.000000</td>\n",
       "      <td>...</td>\n",
       "      <td>6.000000</td>\n",
       "      <td>4.000000</td>\n",
       "      <td>8.000000</td>\n",
       "      <td>7.000000</td>\n",
       "      <td>0.00000</td>\n",
       "      <td>0.000000</td>\n",
       "      <td>55.000000</td>\n",
       "      <td>17.000000</td>\n",
       "      <td>0.000000</td>\n",
       "      <td>3.000000</td>\n",
       "    </tr>\n",
       "    <tr>\n",
       "      <th>max</th>\n",
       "      <td>2.000000</td>\n",
       "      <td>1.000000</td>\n",
       "      <td>162397.000000</td>\n",
       "      <td>2.000000</td>\n",
       "      <td>2.000000</td>\n",
       "      <td>99.000000</td>\n",
       "      <td>1493.000000</td>\n",
       "      <td>199.000000</td>\n",
       "      <td>1725.000000</td>\n",
       "      <td>259.000000</td>\n",
       "      <td>...</td>\n",
       "      <td>27.000000</td>\n",
       "      <td>28.000000</td>\n",
       "      <td>13.000000</td>\n",
       "      <td>20.000000</td>\n",
       "      <td>1.00000</td>\n",
       "      <td>1.000000</td>\n",
       "      <td>74.000000</td>\n",
       "      <td>22.000000</td>\n",
       "      <td>4.000000</td>\n",
       "      <td>5.000000</td>\n",
       "    </tr>\n",
       "  </tbody>\n",
       "</table>\n",
       "<p>8 rows × 23 columns</p>\n",
       "</div>"
      ],
      "text/plain": [
       "         education  marital_status         income      kidhome     teenhome  \\\n",
       "count  2210.000000     2210.000000    2210.000000  2210.000000  2210.000000   \n",
       "mean      1.267421        0.646154   51962.002262     0.442081     0.505430   \n",
       "std       0.651270        0.478270   21536.760214     0.537033     0.544296   \n",
       "min       0.000000        0.000000    1730.000000     0.000000     0.000000   \n",
       "25%       1.000000        0.000000   35208.500000     0.000000     0.000000   \n",
       "50%       1.000000        1.000000   51381.500000     0.000000     0.000000   \n",
       "75%       2.000000        1.000000   68487.000000     1.000000     1.000000   \n",
       "max       2.000000        1.000000  162397.000000     2.000000     2.000000   \n",
       "\n",
       "           recency     mntwines    mntfruits  mntmeatproducts  \\\n",
       "count  2210.000000  2210.000000  2210.000000      2210.000000   \n",
       "mean     49.061086   305.272398    26.350679       167.135747   \n",
       "std      28.923063   337.475234    39.755837       224.328327   \n",
       "min       0.000000     0.000000     0.000000         0.000000   \n",
       "25%      24.000000    24.000000     2.000000        16.000000   \n",
       "50%      49.000000   174.500000     8.000000        68.000000   \n",
       "75%      74.000000   505.000000    33.000000       232.750000   \n",
       "max      99.000000  1493.000000   199.000000      1725.000000   \n",
       "\n",
       "       mntfishproducts  ...  numwebpurchases  numcatalogpurchases  \\\n",
       "count      2210.000000  ...      2210.000000          2210.000000   \n",
       "mean         37.679186  ...         4.085520             2.673756   \n",
       "std          54.787459  ...         2.742027             2.928434   \n",
       "min           0.000000  ...         0.000000             0.000000   \n",
       "25%           3.000000  ...         2.000000             0.000000   \n",
       "50%          12.000000  ...         4.000000             2.000000   \n",
       "75%          50.000000  ...         6.000000             4.000000   \n",
       "max         259.000000  ...        27.000000            28.000000   \n",
       "\n",
       "       numstorepurchases  numwebvisitsmonth    complain     response  \\\n",
       "count        2210.000000        2210.000000  2210.00000  2210.000000   \n",
       "mean            5.806335           5.319005     0.00905     0.150226   \n",
       "std             3.252405           2.425355     0.09472     0.357374   \n",
       "min             0.000000           0.000000     0.00000     0.000000   \n",
       "25%             3.000000           3.000000     0.00000     0.000000   \n",
       "50%             5.000000           6.000000     0.00000     0.000000   \n",
       "75%             8.000000           7.000000     0.00000     0.000000   \n",
       "max            13.000000          20.000000     1.00000     1.000000   \n",
       "\n",
       "               age   cust_since     acc_camp  household_size  \n",
       "count  2210.000000  2210.000000  2210.000000     2210.000000  \n",
       "mean     45.090045    11.113122     0.298643        2.593665  \n",
       "std      11.706248     6.633718     0.679818        0.906471  \n",
       "min      18.000000     0.000000     0.000000        1.000000  \n",
       "25%      37.000000     5.000000     0.000000        2.000000  \n",
       "50%      44.000000    11.000000     0.000000        3.000000  \n",
       "75%      55.000000    17.000000     0.000000        3.000000  \n",
       "max      74.000000    22.000000     4.000000        5.000000  \n",
       "\n",
       "[8 rows x 23 columns]"
      ]
     },
     "execution_count": 1515,
     "metadata": {},
     "output_type": "execute_result"
    }
   ],
   "source": [
    "df.describe()"
   ]
  },
  {
   "cell_type": "markdown",
   "id": "8c2f7c19",
   "metadata": {},
   "source": [
    "### histograms"
   ]
  },
  {
   "cell_type": "code",
   "execution_count": 1516,
   "id": "c5fbbc5e",
   "metadata": {},
   "outputs": [
    {
     "data": {
      "image/png": "[encoded data removed]",
      "text/plain": [
       "<Figure size 1152x1152 with 25 Axes>"
      ]
     },
     "metadata": {},
     "output_type": "display_data"
    }
   ],
   "source": [
    "df.hist(figsize=(16,16))\n",
    "plt.show()"
   ]
  },
  {
   "cell_type": "markdown",
   "id": "a0634b61",
   "metadata": {},
   "source": [
    "## preprocessing for modeling"
   ]
  },
  {
   "cell_type": "markdown",
   "id": "99f26630",
   "metadata": {},
   "source": [
    "### encode categorical features"
   ]
  },
  {
   "cell_type": "code",
   "execution_count": 1517,
   "id": "b6839058",
   "metadata": {},
   "outputs": [],
   "source": [
    "# heatmap to show mean of each feature in the cluster\n",
    "from sklearn.preprocessing import OneHotEncoder"
   ]
  },
  {
   "cell_type": "code",
   "execution_count": 1518,
   "id": "fb0b2933",
   "metadata": {},
   "outputs": [],
   "source": [
    "df[\"marital_status\"]=pd.get_dummies(df[\"marital_status\"], drop_first=True)"
   ]
  },
  {
   "cell_type": "code",
   "execution_count": 1519,
   "id": "a5a05acc",
   "metadata": {},
   "outputs": [
    {
     "data": {
      "text/plain": [
       "0       0\n",
       "1       0\n",
       "2       1\n",
       "3       1\n",
       "4       1\n",
       "       ..\n",
       "2235    1\n",
       "2236    1\n",
       "2237    0\n",
       "2238    1\n",
       "2239    1\n",
       "Name: marital_status, Length: 2210, dtype: uint8"
      ]
     },
     "execution_count": 1519,
     "metadata": {},
     "output_type": "execute_result"
    }
   ],
   "source": [
    "df[\"marital_status\"]"
   ]
  },
  {
   "cell_type": "markdown",
   "id": "d4eef665",
   "metadata": {},
   "source": [
    "### Standard scaler"
   ]
  },
  {
   "cell_type": "code",
   "execution_count": 1520,
   "id": "8c2b2aa8",
   "metadata": {},
   "outputs": [
    {
     "data": {
      "text/html": [
       "<div>\n",
       "<style scoped>\n",
       "    .dataframe tbody tr th:only-of-type {\n",
       "        vertical-align: middle;\n",
       "    }\n",
       "\n",
       "    .dataframe tbody tr th {\n",
       "        vertical-align: top;\n",
       "    }\n",
       "\n",
       "    .dataframe thead th {\n",
       "        text-align: right;\n",
       "    }\n",
       "</style>\n",
       "<table border=\"1\" class=\"dataframe\">\n",
       "  <thead>\n",
       "    <tr style=\"text-align: right;\">\n",
       "      <th></th>\n",
       "      <th>education</th>\n",
       "      <th>marital_status</th>\n",
       "      <th>income</th>\n",
       "      <th>kidhome</th>\n",
       "      <th>teenhome</th>\n",
       "      <th>recency</th>\n",
       "      <th>mntwines</th>\n",
       "      <th>mntfruits</th>\n",
       "      <th>mntmeatproducts</th>\n",
       "      <th>mntfishproducts</th>\n",
       "      <th>...</th>\n",
       "      <th>numwebpurchases</th>\n",
       "      <th>numcatalogpurchases</th>\n",
       "      <th>numstorepurchases</th>\n",
       "      <th>numwebvisitsmonth</th>\n",
       "      <th>complain</th>\n",
       "      <th>response</th>\n",
       "      <th>age</th>\n",
       "      <th>cust_since</th>\n",
       "      <th>acc_camp</th>\n",
       "      <th>household_size</th>\n",
       "    </tr>\n",
       "  </thead>\n",
       "  <tbody>\n",
       "    <tr>\n",
       "      <th>0</th>\n",
       "      <td>1</td>\n",
       "      <td>0</td>\n",
       "      <td>58138</td>\n",
       "      <td>0</td>\n",
       "      <td>0</td>\n",
       "      <td>58</td>\n",
       "      <td>635</td>\n",
       "      <td>88</td>\n",
       "      <td>546</td>\n",
       "      <td>172</td>\n",
       "      <td>...</td>\n",
       "      <td>8</td>\n",
       "      <td>10</td>\n",
       "      <td>4</td>\n",
       "      <td>7</td>\n",
       "      <td>0</td>\n",
       "      <td>1</td>\n",
       "      <td>57</td>\n",
       "      <td>21</td>\n",
       "      <td>0</td>\n",
       "      <td>1</td>\n",
       "    </tr>\n",
       "    <tr>\n",
       "      <th>1</th>\n",
       "      <td>1</td>\n",
       "      <td>0</td>\n",
       "      <td>46344</td>\n",
       "      <td>1</td>\n",
       "      <td>1</td>\n",
       "      <td>38</td>\n",
       "      <td>11</td>\n",
       "      <td>1</td>\n",
       "      <td>6</td>\n",
       "      <td>2</td>\n",
       "      <td>...</td>\n",
       "      <td>1</td>\n",
       "      <td>1</td>\n",
       "      <td>2</td>\n",
       "      <td>5</td>\n",
       "      <td>0</td>\n",
       "      <td>0</td>\n",
       "      <td>60</td>\n",
       "      <td>3</td>\n",
       "      <td>0</td>\n",
       "      <td>3</td>\n",
       "    </tr>\n",
       "    <tr>\n",
       "      <th>2</th>\n",
       "      <td>1</td>\n",
       "      <td>1</td>\n",
       "      <td>71613</td>\n",
       "      <td>0</td>\n",
       "      <td>0</td>\n",
       "      <td>26</td>\n",
       "      <td>426</td>\n",
       "      <td>49</td>\n",
       "      <td>127</td>\n",
       "      <td>111</td>\n",
       "      <td>...</td>\n",
       "      <td>8</td>\n",
       "      <td>2</td>\n",
       "      <td>10</td>\n",
       "      <td>4</td>\n",
       "      <td>0</td>\n",
       "      <td>0</td>\n",
       "      <td>49</td>\n",
       "      <td>10</td>\n",
       "      <td>0</td>\n",
       "      <td>2</td>\n",
       "    </tr>\n",
       "    <tr>\n",
       "      <th>3</th>\n",
       "      <td>1</td>\n",
       "      <td>1</td>\n",
       "      <td>26646</td>\n",
       "      <td>1</td>\n",
       "      <td>0</td>\n",
       "      <td>26</td>\n",
       "      <td>11</td>\n",
       "      <td>4</td>\n",
       "      <td>20</td>\n",
       "      <td>10</td>\n",
       "      <td>...</td>\n",
       "      <td>2</td>\n",
       "      <td>0</td>\n",
       "      <td>4</td>\n",
       "      <td>6</td>\n",
       "      <td>0</td>\n",
       "      <td>0</td>\n",
       "      <td>30</td>\n",
       "      <td>4</td>\n",
       "      <td>0</td>\n",
       "      <td>3</td>\n",
       "    </tr>\n",
       "    <tr>\n",
       "      <th>4</th>\n",
       "      <td>2</td>\n",
       "      <td>1</td>\n",
       "      <td>58293</td>\n",
       "      <td>1</td>\n",
       "      <td>0</td>\n",
       "      <td>94</td>\n",
       "      <td>173</td>\n",
       "      <td>43</td>\n",
       "      <td>118</td>\n",
       "      <td>46</td>\n",
       "      <td>...</td>\n",
       "      <td>5</td>\n",
       "      <td>3</td>\n",
       "      <td>6</td>\n",
       "      <td>5</td>\n",
       "      <td>0</td>\n",
       "      <td>0</td>\n",
       "      <td>33</td>\n",
       "      <td>5</td>\n",
       "      <td>0</td>\n",
       "      <td>3</td>\n",
       "    </tr>\n",
       "  </tbody>\n",
       "</table>\n",
       "<p>5 rows × 23 columns</p>\n",
       "</div>"
      ],
      "text/plain": [
       "   education  marital_status  income  kidhome  teenhome  recency  mntwines  \\\n",
       "0          1               0   58138        0         0       58       635   \n",
       "1          1               0   46344        1         1       38        11   \n",
       "2          1               1   71613        0         0       26       426   \n",
       "3          1               1   26646        1         0       26        11   \n",
       "4          2               1   58293        1         0       94       173   \n",
       "\n",
       "   mntfruits  mntmeatproducts  mntfishproducts  ...  numwebpurchases  \\\n",
       "0         88              546              172  ...                8   \n",
       "1          1                6                2  ...                1   \n",
       "2         49              127              111  ...                8   \n",
       "3          4               20               10  ...                2   \n",
       "4         43              118               46  ...                5   \n",
       "\n",
       "   numcatalogpurchases  numstorepurchases  numwebvisitsmonth  complain  \\\n",
       "0                   10                  4                  7         0   \n",
       "1                    1                  2                  5         0   \n",
       "2                    2                 10                  4         0   \n",
       "3                    0                  4                  6         0   \n",
       "4                    3                  6                  5         0   \n",
       "\n",
       "   response  age  cust_since  acc_camp  household_size  \n",
       "0         1   57          21         0               1  \n",
       "1         0   60           3         0               3  \n",
       "2         0   49          10         0               2  \n",
       "3         0   30           4         0               3  \n",
       "4         0   33           5         0               3  \n",
       "\n",
       "[5 rows x 23 columns]"
      ]
     },
     "metadata": {},
     "output_type": "display_data"
    },
    {
     "name": "stdout",
     "output_type": "stream",
     "text": [
      "\n"
     ]
    },
    {
     "data": {
      "text/html": [
       "<div>\n",
       "<style scoped>\n",
       "    .dataframe tbody tr th:only-of-type {\n",
       "        vertical-align: middle;\n",
       "    }\n",
       "\n",
       "    .dataframe tbody tr th {\n",
       "        vertical-align: top;\n",
       "    }\n",
       "\n",
       "    .dataframe thead th {\n",
       "        text-align: right;\n",
       "    }\n",
       "</style>\n",
       "<table border=\"1\" class=\"dataframe\">\n",
       "  <thead>\n",
       "    <tr style=\"text-align: right;\">\n",
       "      <th></th>\n",
       "      <th>education</th>\n",
       "      <th>marital_status</th>\n",
       "      <th>income</th>\n",
       "      <th>kidhome</th>\n",
       "      <th>teenhome</th>\n",
       "      <th>recency</th>\n",
       "      <th>mntwines</th>\n",
       "      <th>mntfruits</th>\n",
       "      <th>mntmeatproducts</th>\n",
       "      <th>mntfishproducts</th>\n",
       "      <th>...</th>\n",
       "      <th>numwebpurchases</th>\n",
       "      <th>numcatalogpurchases</th>\n",
       "      <th>numstorepurchases</th>\n",
       "      <th>numwebvisitsmonth</th>\n",
       "      <th>complain</th>\n",
       "      <th>response</th>\n",
       "      <th>age</th>\n",
       "      <th>cust_since</th>\n",
       "      <th>acc_camp</th>\n",
       "      <th>household_size</th>\n",
       "    </tr>\n",
       "  </thead>\n",
       "  <tbody>\n",
       "    <tr>\n",
       "      <th>0</th>\n",
       "      <td>-0.410707</td>\n",
       "      <td>-1.351328</td>\n",
       "      <td>0.286830</td>\n",
       "      <td>-0.823378</td>\n",
       "      <td>-0.928803</td>\n",
       "      <td>0.309128</td>\n",
       "      <td>0.977263</td>\n",
       "      <td>1.551050</td>\n",
       "      <td>1.689265</td>\n",
       "      <td>2.452226</td>\n",
       "      <td>...</td>\n",
       "      <td>1.427909</td>\n",
       "      <td>2.502328</td>\n",
       "      <td>-0.555510</td>\n",
       "      <td>0.693249</td>\n",
       "      <td>-0.095564</td>\n",
       "      <td>2.378366</td>\n",
       "      <td>1.017632</td>\n",
       "      <td>1.490735</td>\n",
       "      <td>-0.439397</td>\n",
       "      <td>-1.758497</td>\n",
       "    </tr>\n",
       "    <tr>\n",
       "      <th>1</th>\n",
       "      <td>-0.410707</td>\n",
       "      <td>-1.351328</td>\n",
       "      <td>-0.260915</td>\n",
       "      <td>1.039125</td>\n",
       "      <td>0.908847</td>\n",
       "      <td>-0.382518</td>\n",
       "      <td>-0.872180</td>\n",
       "      <td>-0.637804</td>\n",
       "      <td>-0.718466</td>\n",
       "      <td>-0.651376</td>\n",
       "      <td>...</td>\n",
       "      <td>-1.125524</td>\n",
       "      <td>-0.571683</td>\n",
       "      <td>-1.170579</td>\n",
       "      <td>-0.131559</td>\n",
       "      <td>-0.095564</td>\n",
       "      <td>-0.420457</td>\n",
       "      <td>1.273963</td>\n",
       "      <td>-1.223290</td>\n",
       "      <td>-0.439397</td>\n",
       "      <td>0.448362</td>\n",
       "    </tr>\n",
       "    <tr>\n",
       "      <th>2</th>\n",
       "      <td>-0.410707</td>\n",
       "      <td>0.740013</td>\n",
       "      <td>0.912646</td>\n",
       "      <td>-0.823378</td>\n",
       "      <td>-0.928803</td>\n",
       "      <td>-0.797506</td>\n",
       "      <td>0.357819</td>\n",
       "      <td>0.569840</td>\n",
       "      <td>-0.178956</td>\n",
       "      <td>1.338580</td>\n",
       "      <td>...</td>\n",
       "      <td>1.427909</td>\n",
       "      <td>-0.230126</td>\n",
       "      <td>1.289696</td>\n",
       "      <td>-0.543963</td>\n",
       "      <td>-0.095564</td>\n",
       "      <td>-0.420457</td>\n",
       "      <td>0.334081</td>\n",
       "      <td>-0.167836</td>\n",
       "      <td>-0.439397</td>\n",
       "      <td>-0.655068</td>\n",
       "    </tr>\n",
       "    <tr>\n",
       "      <th>3</th>\n",
       "      <td>-0.410707</td>\n",
       "      <td>0.740013</td>\n",
       "      <td>-1.175745</td>\n",
       "      <td>1.039125</td>\n",
       "      <td>-0.928803</td>\n",
       "      <td>-0.797506</td>\n",
       "      <td>-0.872180</td>\n",
       "      <td>-0.562326</td>\n",
       "      <td>-0.656043</td>\n",
       "      <td>-0.505325</td>\n",
       "      <td>...</td>\n",
       "      <td>-0.760748</td>\n",
       "      <td>-0.913239</td>\n",
       "      <td>-0.555510</td>\n",
       "      <td>0.280845</td>\n",
       "      <td>-0.095564</td>\n",
       "      <td>-0.420457</td>\n",
       "      <td>-1.289351</td>\n",
       "      <td>-1.072511</td>\n",
       "      <td>-0.439397</td>\n",
       "      <td>0.448362</td>\n",
       "    </tr>\n",
       "    <tr>\n",
       "      <th>4</th>\n",
       "      <td>1.125101</td>\n",
       "      <td>0.740013</td>\n",
       "      <td>0.294029</td>\n",
       "      <td>1.039125</td>\n",
       "      <td>-0.928803</td>\n",
       "      <td>1.554091</td>\n",
       "      <td>-0.392036</td>\n",
       "      <td>0.418884</td>\n",
       "      <td>-0.219085</td>\n",
       "      <td>0.151909</td>\n",
       "      <td>...</td>\n",
       "      <td>0.333580</td>\n",
       "      <td>0.111431</td>\n",
       "      <td>0.059559</td>\n",
       "      <td>-0.131559</td>\n",
       "      <td>-0.095564</td>\n",
       "      <td>-0.420457</td>\n",
       "      <td>-1.033019</td>\n",
       "      <td>-0.921731</td>\n",
       "      <td>-0.439397</td>\n",
       "      <td>0.448362</td>\n",
       "    </tr>\n",
       "  </tbody>\n",
       "</table>\n",
       "<p>5 rows × 23 columns</p>\n",
       "</div>"
      ],
      "text/plain": [
       "   education  marital_status    income   kidhome  teenhome   recency  \\\n",
       "0  -0.410707       -1.351328  0.286830 -0.823378 -0.928803  0.309128   \n",
       "1  -0.410707       -1.351328 -0.260915  1.039125  0.908847 -0.382518   \n",
       "2  -0.410707        0.740013  0.912646 -0.823378 -0.928803 -0.797506   \n",
       "3  -0.410707        0.740013 -1.175745  1.039125 -0.928803 -0.797506   \n",
       "4   1.125101        0.740013  0.294029  1.039125 -0.928803  1.554091   \n",
       "\n",
       "   mntwines  mntfruits  mntmeatproducts  mntfishproducts  ...  \\\n",
       "0  0.977263   1.551050         1.689265         2.452226  ...   \n",
       "1 -0.872180  -0.637804        -0.718466        -0.651376  ...   \n",
       "2  0.357819   0.569840        -0.178956         1.338580  ...   \n",
       "3 -0.872180  -0.562326        -0.656043        -0.505325  ...   \n",
       "4 -0.392036   0.418884        -0.219085         0.151909  ...   \n",
       "\n",
       "   numwebpurchases  numcatalogpurchases  numstorepurchases  numwebvisitsmonth  \\\n",
       "0         1.427909             2.502328          -0.555510           0.693249   \n",
       "1        -1.125524            -0.571683          -1.170579          -0.131559   \n",
       "2         1.427909            -0.230126           1.289696          -0.543963   \n",
       "3        -0.760748            -0.913239          -0.555510           0.280845   \n",
       "4         0.333580             0.111431           0.059559          -0.131559   \n",
       "\n",
       "   complain  response       age  cust_since  acc_camp  household_size  \n",
       "0 -0.095564  2.378366  1.017632    1.490735 -0.439397       -1.758497  \n",
       "1 -0.095564 -0.420457  1.273963   -1.223290 -0.439397        0.448362  \n",
       "2 -0.095564 -0.420457  0.334081   -0.167836 -0.439397       -0.655068  \n",
       "3 -0.095564 -0.420457 -1.289351   -1.072511 -0.439397        0.448362  \n",
       "4 -0.095564 -0.420457 -1.033019   -0.921731 -0.439397        0.448362  \n",
       "\n",
       "[5 rows x 23 columns]"
      ]
     },
     "metadata": {},
     "output_type": "display_data"
    }
   ],
   "source": [
    "scaler = StandardScaler()\n",
    "scaler.fit(df)\n",
    "df_scaled = scaler.transform(df)\n",
    "df_scaled_df = pd.DataFrame(df_scaled, columns = df.columns)\n",
    "display(df.head())\n",
    "print()\n",
    "display(df_scaled_df.head())"
   ]
  },
  {
   "cell_type": "markdown",
   "id": "319c5486",
   "metadata": {},
   "source": [
    "## Clustering using  PCA"
   ]
  },
  {
   "cell_type": "markdown",
   "id": "786cb162",
   "metadata": {},
   "source": [
    "from sklearn.decomposition import PCA\n",
    "\n",
    "pca = PCA(svd_solver='full')\n",
    "\n",
    "pca.fit(df_scaled_df)\n",
    "\n",
    "df_scaled_df = pca.transform(df_scaled_df)\n",
    "\n",
    "cols = [ 'PCA_' + str(i) for i in list(range(1,len(df.columns)+1))]\n",
    "\n",
    "df_scaled_df = pd.DataFrame(df_scaled_df, columns = cols)"
   ]
  },
  {
   "cell_type": "markdown",
   "id": "6fc10ed1",
   "metadata": {},
   "source": [
    "df_scaled_df= df_scaled_df.iloc[:,:11]\n",
    "df_scaled_df"
   ]
  },
  {
   "cell_type": "markdown",
   "id": "24e2d85e",
   "metadata": {},
   "source": [
    "### Getting Variances"
   ]
  },
  {
   "cell_type": "markdown",
   "id": "f961a461",
   "metadata": {},
   "source": [
    "print(pca.explained_variance_ratio_)"
   ]
  },
  {
   "cell_type": "markdown",
   "id": "be7d90a8",
   "metadata": {},
   "source": [
    "variances = pca.explained_variance_ratio_.tolist()"
   ]
  },
  {
   "cell_type": "markdown",
   "id": "ec88d6d8",
   "metadata": {},
   "source": [
    "total_variance = [sum(variances[:i]) for i in range(1, len(variances)+1)]\n",
    "scree = pd.DataFrame({'num_pca': range(1,len(variances)+1),'variance': variances,'cum_variance': total_variance})\n",
    "scree.head(22)"
   ]
  },
  {
   "cell_type": "markdown",
   "id": "0b6bf67e",
   "metadata": {},
   "source": [
    "import matplotlib.pyplot as plt\n",
    "import seaborn as sns\n",
    "%matplotlib inline\n",
    "\n",
    "sns.set_style(\"darkgrid\", {\"axes.facecolor\": \".9\"})\n",
    "\n",
    "fig, ax = plt.subplots(1,2,figsize=(16,8))\n",
    "\n",
    "sns.lineplot(x=\"num_pca\", y=\"variance\", data=scree, ax = ax[0], color = 'black')\n",
    "ax[0].set_xticks(range(1,32))\n",
    "sns.barplot(x=\"num_pca\", y=\"cum_variance\", data=scree, ax = ax[1], color = 'lightblue')"
   ]
  },
  {
   "cell_type": "markdown",
   "id": "7461c79b",
   "metadata": {},
   "source": [
    "### Getting the PCA coefficients"
   ]
  },
  {
   "cell_type": "markdown",
   "id": "d10c51b4",
   "metadata": {},
   "source": [
    "pca.components_"
   ]
  },
  {
   "cell_type": "markdown",
   "id": "baad8a41",
   "metadata": {},
   "source": [
    "for comp in range(1,len(pca.components_)+1):\n",
    "    print(\"Principal component \",comp)\n",
    "    my_list = [(abs(value),index+1,df.columns[index],value) for index,value in enumerate(pca.components_[comp-1,:]) ]\n",
    "    my_list.sort(reverse=True)\n",
    "    my_list = [(elem[1],elem[2],round(elem[3],2)) for elem in my_list]\n",
    "    print(my_list)\n",
    "    print()"
   ]
  },
  {
   "cell_type": "code",
   "execution_count": 1521,
   "id": "f32ac9d3",
   "metadata": {},
   "outputs": [
    {
     "data": {
      "text/html": [
       "<div>\n",
       "<style scoped>\n",
       "    .dataframe tbody tr th:only-of-type {\n",
       "        vertical-align: middle;\n",
       "    }\n",
       "\n",
       "    .dataframe tbody tr th {\n",
       "        vertical-align: top;\n",
       "    }\n",
       "\n",
       "    .dataframe thead th {\n",
       "        text-align: right;\n",
       "    }\n",
       "</style>\n",
       "<table border=\"1\" class=\"dataframe\">\n",
       "  <thead>\n",
       "    <tr style=\"text-align: right;\">\n",
       "      <th></th>\n",
       "      <th>education</th>\n",
       "      <th>marital_status</th>\n",
       "      <th>income</th>\n",
       "      <th>kidhome</th>\n",
       "      <th>teenhome</th>\n",
       "      <th>recency</th>\n",
       "      <th>mntwines</th>\n",
       "      <th>mntfruits</th>\n",
       "      <th>mntmeatproducts</th>\n",
       "      <th>mntfishproducts</th>\n",
       "      <th>...</th>\n",
       "      <th>numwebpurchases</th>\n",
       "      <th>numcatalogpurchases</th>\n",
       "      <th>numstorepurchases</th>\n",
       "      <th>numwebvisitsmonth</th>\n",
       "      <th>complain</th>\n",
       "      <th>response</th>\n",
       "      <th>age</th>\n",
       "      <th>cust_since</th>\n",
       "      <th>acc_camp</th>\n",
       "      <th>household_size</th>\n",
       "    </tr>\n",
       "  </thead>\n",
       "  <tbody>\n",
       "    <tr>\n",
       "      <th>0</th>\n",
       "      <td>1</td>\n",
       "      <td>0</td>\n",
       "      <td>58138</td>\n",
       "      <td>0</td>\n",
       "      <td>0</td>\n",
       "      <td>58</td>\n",
       "      <td>635</td>\n",
       "      <td>88</td>\n",
       "      <td>546</td>\n",
       "      <td>172</td>\n",
       "      <td>...</td>\n",
       "      <td>8</td>\n",
       "      <td>10</td>\n",
       "      <td>4</td>\n",
       "      <td>7</td>\n",
       "      <td>0</td>\n",
       "      <td>1</td>\n",
       "      <td>57</td>\n",
       "      <td>21</td>\n",
       "      <td>0</td>\n",
       "      <td>1</td>\n",
       "    </tr>\n",
       "    <tr>\n",
       "      <th>1</th>\n",
       "      <td>1</td>\n",
       "      <td>0</td>\n",
       "      <td>46344</td>\n",
       "      <td>1</td>\n",
       "      <td>1</td>\n",
       "      <td>38</td>\n",
       "      <td>11</td>\n",
       "      <td>1</td>\n",
       "      <td>6</td>\n",
       "      <td>2</td>\n",
       "      <td>...</td>\n",
       "      <td>1</td>\n",
       "      <td>1</td>\n",
       "      <td>2</td>\n",
       "      <td>5</td>\n",
       "      <td>0</td>\n",
       "      <td>0</td>\n",
       "      <td>60</td>\n",
       "      <td>3</td>\n",
       "      <td>0</td>\n",
       "      <td>3</td>\n",
       "    </tr>\n",
       "    <tr>\n",
       "      <th>2</th>\n",
       "      <td>1</td>\n",
       "      <td>1</td>\n",
       "      <td>71613</td>\n",
       "      <td>0</td>\n",
       "      <td>0</td>\n",
       "      <td>26</td>\n",
       "      <td>426</td>\n",
       "      <td>49</td>\n",
       "      <td>127</td>\n",
       "      <td>111</td>\n",
       "      <td>...</td>\n",
       "      <td>8</td>\n",
       "      <td>2</td>\n",
       "      <td>10</td>\n",
       "      <td>4</td>\n",
       "      <td>0</td>\n",
       "      <td>0</td>\n",
       "      <td>49</td>\n",
       "      <td>10</td>\n",
       "      <td>0</td>\n",
       "      <td>2</td>\n",
       "    </tr>\n",
       "    <tr>\n",
       "      <th>3</th>\n",
       "      <td>1</td>\n",
       "      <td>1</td>\n",
       "      <td>26646</td>\n",
       "      <td>1</td>\n",
       "      <td>0</td>\n",
       "      <td>26</td>\n",
       "      <td>11</td>\n",
       "      <td>4</td>\n",
       "      <td>20</td>\n",
       "      <td>10</td>\n",
       "      <td>...</td>\n",
       "      <td>2</td>\n",
       "      <td>0</td>\n",
       "      <td>4</td>\n",
       "      <td>6</td>\n",
       "      <td>0</td>\n",
       "      <td>0</td>\n",
       "      <td>30</td>\n",
       "      <td>4</td>\n",
       "      <td>0</td>\n",
       "      <td>3</td>\n",
       "    </tr>\n",
       "    <tr>\n",
       "      <th>4</th>\n",
       "      <td>2</td>\n",
       "      <td>1</td>\n",
       "      <td>58293</td>\n",
       "      <td>1</td>\n",
       "      <td>0</td>\n",
       "      <td>94</td>\n",
       "      <td>173</td>\n",
       "      <td>43</td>\n",
       "      <td>118</td>\n",
       "      <td>46</td>\n",
       "      <td>...</td>\n",
       "      <td>5</td>\n",
       "      <td>3</td>\n",
       "      <td>6</td>\n",
       "      <td>5</td>\n",
       "      <td>0</td>\n",
       "      <td>0</td>\n",
       "      <td>33</td>\n",
       "      <td>5</td>\n",
       "      <td>0</td>\n",
       "      <td>3</td>\n",
       "    </tr>\n",
       "    <tr>\n",
       "      <th>...</th>\n",
       "      <td>...</td>\n",
       "      <td>...</td>\n",
       "      <td>...</td>\n",
       "      <td>...</td>\n",
       "      <td>...</td>\n",
       "      <td>...</td>\n",
       "      <td>...</td>\n",
       "      <td>...</td>\n",
       "      <td>...</td>\n",
       "      <td>...</td>\n",
       "      <td>...</td>\n",
       "      <td>...</td>\n",
       "      <td>...</td>\n",
       "      <td>...</td>\n",
       "      <td>...</td>\n",
       "      <td>...</td>\n",
       "      <td>...</td>\n",
       "      <td>...</td>\n",
       "      <td>...</td>\n",
       "      <td>...</td>\n",
       "      <td>...</td>\n",
       "    </tr>\n",
       "    <tr>\n",
       "      <th>2235</th>\n",
       "      <td>1</td>\n",
       "      <td>1</td>\n",
       "      <td>61223</td>\n",
       "      <td>0</td>\n",
       "      <td>1</td>\n",
       "      <td>46</td>\n",
       "      <td>709</td>\n",
       "      <td>43</td>\n",
       "      <td>182</td>\n",
       "      <td>42</td>\n",
       "      <td>...</td>\n",
       "      <td>9</td>\n",
       "      <td>3</td>\n",
       "      <td>4</td>\n",
       "      <td>5</td>\n",
       "      <td>0</td>\n",
       "      <td>0</td>\n",
       "      <td>47</td>\n",
       "      <td>12</td>\n",
       "      <td>0</td>\n",
       "      <td>3</td>\n",
       "    </tr>\n",
       "    <tr>\n",
       "      <th>2236</th>\n",
       "      <td>2</td>\n",
       "      <td>1</td>\n",
       "      <td>64014</td>\n",
       "      <td>2</td>\n",
       "      <td>1</td>\n",
       "      <td>56</td>\n",
       "      <td>406</td>\n",
       "      <td>0</td>\n",
       "      <td>30</td>\n",
       "      <td>0</td>\n",
       "      <td>...</td>\n",
       "      <td>8</td>\n",
       "      <td>2</td>\n",
       "      <td>5</td>\n",
       "      <td>7</td>\n",
       "      <td>0</td>\n",
       "      <td>0</td>\n",
       "      <td>68</td>\n",
       "      <td>0</td>\n",
       "      <td>1</td>\n",
       "      <td>5</td>\n",
       "    </tr>\n",
       "    <tr>\n",
       "      <th>2237</th>\n",
       "      <td>1</td>\n",
       "      <td>0</td>\n",
       "      <td>56981</td>\n",
       "      <td>0</td>\n",
       "      <td>0</td>\n",
       "      <td>91</td>\n",
       "      <td>908</td>\n",
       "      <td>48</td>\n",
       "      <td>217</td>\n",
       "      <td>32</td>\n",
       "      <td>...</td>\n",
       "      <td>2</td>\n",
       "      <td>3</td>\n",
       "      <td>13</td>\n",
       "      <td>6</td>\n",
       "      <td>0</td>\n",
       "      <td>0</td>\n",
       "      <td>33</td>\n",
       "      <td>5</td>\n",
       "      <td>1</td>\n",
       "      <td>1</td>\n",
       "    </tr>\n",
       "    <tr>\n",
       "      <th>2238</th>\n",
       "      <td>2</td>\n",
       "      <td>1</td>\n",
       "      <td>69245</td>\n",
       "      <td>0</td>\n",
       "      <td>1</td>\n",
       "      <td>8</td>\n",
       "      <td>428</td>\n",
       "      <td>30</td>\n",
       "      <td>214</td>\n",
       "      <td>80</td>\n",
       "      <td>...</td>\n",
       "      <td>6</td>\n",
       "      <td>5</td>\n",
       "      <td>10</td>\n",
       "      <td>3</td>\n",
       "      <td>0</td>\n",
       "      <td>0</td>\n",
       "      <td>58</td>\n",
       "      <td>5</td>\n",
       "      <td>0</td>\n",
       "      <td>3</td>\n",
       "    </tr>\n",
       "    <tr>\n",
       "      <th>2239</th>\n",
       "      <td>2</td>\n",
       "      <td>1</td>\n",
       "      <td>52869</td>\n",
       "      <td>1</td>\n",
       "      <td>1</td>\n",
       "      <td>40</td>\n",
       "      <td>84</td>\n",
       "      <td>3</td>\n",
       "      <td>61</td>\n",
       "      <td>2</td>\n",
       "      <td>...</td>\n",
       "      <td>3</td>\n",
       "      <td>1</td>\n",
       "      <td>4</td>\n",
       "      <td>7</td>\n",
       "      <td>0</td>\n",
       "      <td>1</td>\n",
       "      <td>60</td>\n",
       "      <td>20</td>\n",
       "      <td>0</td>\n",
       "      <td>4</td>\n",
       "    </tr>\n",
       "  </tbody>\n",
       "</table>\n",
       "<p>2210 rows × 23 columns</p>\n",
       "</div>"
      ],
      "text/plain": [
       "      education  marital_status  income  kidhome  teenhome  recency  mntwines  \\\n",
       "0             1               0   58138        0         0       58       635   \n",
       "1             1               0   46344        1         1       38        11   \n",
       "2             1               1   71613        0         0       26       426   \n",
       "3             1               1   26646        1         0       26        11   \n",
       "4             2               1   58293        1         0       94       173   \n",
       "...         ...             ...     ...      ...       ...      ...       ...   \n",
       "2235          1               1   61223        0         1       46       709   \n",
       "2236          2               1   64014        2         1       56       406   \n",
       "2237          1               0   56981        0         0       91       908   \n",
       "2238          2               1   69245        0         1        8       428   \n",
       "2239          2               1   52869        1         1       40        84   \n",
       "\n",
       "      mntfruits  mntmeatproducts  mntfishproducts  ...  numwebpurchases  \\\n",
       "0            88              546              172  ...                8   \n",
       "1             1                6                2  ...                1   \n",
       "2            49              127              111  ...                8   \n",
       "3             4               20               10  ...                2   \n",
       "4            43              118               46  ...                5   \n",
       "...         ...              ...              ...  ...              ...   \n",
       "2235         43              182               42  ...                9   \n",
       "2236          0               30                0  ...                8   \n",
       "2237         48              217               32  ...                2   \n",
       "2238         30              214               80  ...                6   \n",
       "2239          3               61                2  ...                3   \n",
       "\n",
       "      numcatalogpurchases  numstorepurchases  numwebvisitsmonth  complain  \\\n",
       "0                      10                  4                  7         0   \n",
       "1                       1                  2                  5         0   \n",
       "2                       2                 10                  4         0   \n",
       "3                       0                  4                  6         0   \n",
       "4                       3                  6                  5         0   \n",
       "...                   ...                ...                ...       ...   \n",
       "2235                    3                  4                  5         0   \n",
       "2236                    2                  5                  7         0   \n",
       "2237                    3                 13                  6         0   \n",
       "2238                    5                 10                  3         0   \n",
       "2239                    1                  4                  7         0   \n",
       "\n",
       "      response  age  cust_since  acc_camp  household_size  \n",
       "0            1   57          21         0               1  \n",
       "1            0   60           3         0               3  \n",
       "2            0   49          10         0               2  \n",
       "3            0   30           4         0               3  \n",
       "4            0   33           5         0               3  \n",
       "...        ...  ...         ...       ...             ...  \n",
       "2235         0   47          12         0               3  \n",
       "2236         0   68           0         1               5  \n",
       "2237         0   33           5         1               1  \n",
       "2238         0   58           5         0               3  \n",
       "2239         1   60          20         0               4  \n",
       "\n",
       "[2210 rows x 23 columns]"
      ]
     },
     "execution_count": 1521,
     "metadata": {},
     "output_type": "execute_result"
    }
   ],
   "source": [
    "df"
   ]
  },
  {
   "cell_type": "markdown",
   "id": "ea992cae",
   "metadata": {},
   "source": [
    "## Clustering using K-Means"
   ]
  },
  {
   "cell_type": "code",
   "execution_count": 1522,
   "id": "ff1ff842",
   "metadata": {},
   "outputs": [
    {
     "data": {
      "text/plain": [
       "KMeans(n_clusters=4, random_state=1234)"
      ]
     },
     "execution_count": 1522,
     "metadata": {},
     "output_type": "execute_result"
    }
   ],
   "source": [
    "kmeans1 = KMeans(n_clusters=4, init=\"k-means++\", random_state=1234)\n",
    "kmeans1.fit(df_scaled_df)"
   ]
  },
  {
   "cell_type": "code",
   "execution_count": 1523,
   "id": "bc382db5",
   "metadata": {},
   "outputs": [
    {
     "data": {
      "text/plain": [
       "array([1, 3, 1, ..., 1, 2, 3], dtype=int32)"
      ]
     },
     "execution_count": 1523,
     "metadata": {},
     "output_type": "execute_result"
    }
   ],
   "source": [
    "kmeans1.labels_"
   ]
  },
  {
   "cell_type": "code",
   "execution_count": 1524,
   "id": "8101dc86",
   "metadata": {},
   "outputs": [],
   "source": [
    "import pickle\n",
    "#model = KMeans()\n",
    "with open(\"Model/kmeans_6.pickle\", \"wb\") as f:\n",
    "    pickle.dump(kmeans1,f)"
   ]
  },
  {
   "cell_type": "code",
   "execution_count": 1525,
   "id": "30b7359d",
   "metadata": {},
   "outputs": [],
   "source": [
    "def load(filename = \"filename.pickle\"): \n",
    "    try: \n",
    "        with open(filename, \"rb\") as f: \n",
    "            return pickle.load(f) \n",
    "        \n",
    "    except FileNotFoundError: \n",
    "        print(\"File not found!\") "
   ]
  },
  {
   "cell_type": "code",
   "execution_count": 1526,
   "id": "2338746a",
   "metadata": {},
   "outputs": [
    {
     "data": {
      "text/plain": [
       "KMeans(n_clusters=4, random_state=1234)"
      ]
     },
     "execution_count": 1526,
     "metadata": {},
     "output_type": "execute_result"
    }
   ],
   "source": [
    "load(\"Model/kmeans_6.pickle\") "
   ]
  },
  {
   "cell_type": "markdown",
   "id": "c7526c5f",
   "metadata": {},
   "source": [
    "### K-Means Scatterplot Example"
   ]
  },
  {
   "cell_type": "code",
   "execution_count": 1440,
   "id": "be473deb",
   "metadata": {
    "scrolled": false
   },
   "outputs": [
    {
     "data": {
      "image/png": "[encoded data removed]",
      "text/plain": [
       "<Figure size 720x720 with 1 Axes>"
      ]
     },
     "metadata": {},
     "output_type": "display_data"
    }
   ],
   "source": [
    "# assign a cluster to each example\n",
    "labels = kmeans1.predict(df_scaled_df)\n",
    "# retrieve unique clusters\n",
    "clusters = np.unique(labels)\n",
    "plt.figure(figsize=(10, 10))\n",
    "# create scatter plot for samples from each cluster\n",
    "for cluster in clusters:\n",
    "    # get row indexes for samples with this cluster\n",
    "    row_ix = np.where(labels == cluster)\n",
    "    # create scatter of these samples (2=\"income\", 6=\"mntwine\")\n",
    "    pyplot.scatter(df.to_numpy()[row_ix, 2], df.to_numpy()[row_ix, 6],linewidths=1)\n",
    "pyplot.show()"
   ]
  },
  {
   "cell_type": "code",
   "execution_count": 1441,
   "id": "2ddf0014",
   "metadata": {},
   "outputs": [
    {
     "data": {
      "text/plain": [
       "0      20\n",
       "1     573\n",
       "2     611\n",
       "3    1006\n",
       "dtype: int64"
      ]
     },
     "execution_count": 1441,
     "metadata": {},
     "output_type": "execute_result"
    }
   ],
   "source": [
    "clusters = kmeans1.predict(df_scaled_df)\n",
    "pd.Series(clusters).value_counts().sort_index()"
   ]
  },
  {
   "cell_type": "code",
   "execution_count": 1442,
   "id": "1c752039",
   "metadata": {},
   "outputs": [],
   "source": [
    "df[\"cluster\"] = clusters"
   ]
  },
  {
   "cell_type": "code",
   "execution_count": 1443,
   "id": "87d30f1a",
   "metadata": {},
   "outputs": [
    {
     "data": {
      "text/html": [
       "<div>\n",
       "<style scoped>\n",
       "    .dataframe tbody tr th:only-of-type {\n",
       "        vertical-align: middle;\n",
       "    }\n",
       "\n",
       "    .dataframe tbody tr th {\n",
       "        vertical-align: top;\n",
       "    }\n",
       "\n",
       "    .dataframe thead th {\n",
       "        text-align: right;\n",
       "    }\n",
       "</style>\n",
       "<table border=\"1\" class=\"dataframe\">\n",
       "  <thead>\n",
       "    <tr style=\"text-align: right;\">\n",
       "      <th></th>\n",
       "      <th>education</th>\n",
       "      <th>marital_status</th>\n",
       "      <th>income</th>\n",
       "      <th>kidhome</th>\n",
       "      <th>teenhome</th>\n",
       "      <th>recency</th>\n",
       "      <th>mntwines</th>\n",
       "      <th>mntfruits</th>\n",
       "      <th>mntmeatproducts</th>\n",
       "      <th>mntfishproducts</th>\n",
       "      <th>...</th>\n",
       "      <th>numcatalogpurchases</th>\n",
       "      <th>numstorepurchases</th>\n",
       "      <th>numwebvisitsmonth</th>\n",
       "      <th>complain</th>\n",
       "      <th>response</th>\n",
       "      <th>age</th>\n",
       "      <th>cust_since</th>\n",
       "      <th>acc_camp</th>\n",
       "      <th>household_size</th>\n",
       "      <th>cluster</th>\n",
       "    </tr>\n",
       "  </thead>\n",
       "  <tbody>\n",
       "    <tr>\n",
       "      <th>151</th>\n",
       "      <td>1</td>\n",
       "      <td>1</td>\n",
       "      <td>65747</td>\n",
       "      <td>0</td>\n",
       "      <td>1</td>\n",
       "      <td>96</td>\n",
       "      <td>346</td>\n",
       "      <td>17</td>\n",
       "      <td>48</td>\n",
       "      <td>23</td>\n",
       "      <td>...</td>\n",
       "      <td>1</td>\n",
       "      <td>6</td>\n",
       "      <td>6</td>\n",
       "      <td>0</td>\n",
       "      <td>0</td>\n",
       "      <td>45</td>\n",
       "      <td>3</td>\n",
       "      <td>1</td>\n",
       "      <td>3</td>\n",
       "      <td>2</td>\n",
       "    </tr>\n",
       "  </tbody>\n",
       "</table>\n",
       "<p>1 rows × 24 columns</p>\n",
       "</div>"
      ],
      "text/plain": [
       "     education  marital_status  income  kidhome  teenhome  recency  mntwines  \\\n",
       "151          1               1   65747        0         1       96       346   \n",
       "\n",
       "     mntfruits  mntmeatproducts  mntfishproducts  ...  numcatalogpurchases  \\\n",
       "151         17               48               23  ...                    1   \n",
       "\n",
       "     numstorepurchases  numwebvisitsmonth  complain  response  age  \\\n",
       "151                  6                  6         0         0   45   \n",
       "\n",
       "     cust_since  acc_camp  household_size  cluster  \n",
       "151           3         1               3        2  \n",
       "\n",
       "[1 rows x 24 columns]"
      ]
     },
     "execution_count": 1443,
     "metadata": {},
     "output_type": "execute_result"
    }
   ],
   "source": [
    "df[df['cluster'] == 2].sample()"
   ]
  },
  {
   "cell_type": "code",
   "execution_count": 1444,
   "id": "14aea034",
   "metadata": {},
   "outputs": [
    {
     "data": {
      "text/plain": [
       "33370.93144794723"
      ]
     },
     "execution_count": 1444,
     "metadata": {},
     "output_type": "execute_result"
    }
   ],
   "source": [
    "kmeans1.inertia_"
   ]
  },
  {
   "cell_type": "markdown",
   "id": "1e208023",
   "metadata": {},
   "source": [
    "### Elbow method"
   ]
  },
  {
   "cell_type": "code",
   "execution_count": 1445,
   "id": "9c79eaa2",
   "metadata": {},
   "outputs": [
    {
     "data": {
      "text/plain": [
       "Text(0.5, 1.0, 'Elbow Method showing the optimal k')"
      ]
     },
     "execution_count": 1445,
     "metadata": {},
     "output_type": "execute_result"
    },
    {
     "data": {
      "image/png": "[encoded data removed]",
      "text/plain": [
       "<Figure size 1152x576 with 1 Axes>"
      ]
     },
     "metadata": {},
     "output_type": "display_data"
    }
   ],
   "source": [
    "K = range(2, 21)\n",
    "inertia = []\n",
    "\n",
    "for k in K:\n",
    "    kmeans = KMeans(n_clusters=k,\n",
    "                    random_state=1234)\n",
    "    kmeans.fit(df_scaled_df)\n",
    "    inertia.append(kmeans.inertia_)\n",
    "\n",
    "plt.figure(figsize=(16,8))\n",
    "plt.plot(K, inertia, 'bx-')\n",
    "plt.xlabel('k')\n",
    "plt.ylabel('inertia')\n",
    "plt.xticks(np.arange(min(K), max(K)+1, 1.0))\n",
    "plt.title('Elbow Method showing the optimal k')"
   ]
  },
  {
   "cell_type": "markdown",
   "id": "4ce5e1be",
   "metadata": {},
   "source": [
    "### Silhouette method"
   ]
  },
  {
   "cell_type": "code",
   "execution_count": 1446,
   "id": "1eb57855",
   "metadata": {},
   "outputs": [
    {
     "data": {
      "text/plain": [
       "Text(0.5, 1.0, 'Silhouette Method showing the optimal k')"
      ]
     },
     "execution_count": 1446,
     "metadata": {},
     "output_type": "execute_result"
    },
    {
     "data": {
      "image/png": "[encoded data removed]",
      "text/plain": [
       "<Figure size 1152x576 with 1 Axes>"
      ]
     },
     "metadata": {},
     "output_type": "display_data"
    }
   ],
   "source": [
    "K = range(2, 20)\n",
    "silhouette = []\n",
    "\n",
    "for k in K:\n",
    "    kmeans = KMeans(n_clusters=k,\n",
    "                    random_state=1234)\n",
    "    kmeans.fit(df_scaled_df)\n",
    "    \n",
    "   \n",
    "    \n",
    "    silhouette.append(silhouette_score(df_scaled_df, kmeans.predict(df_scaled_df)))\n",
    "\n",
    "\n",
    "plt.figure(figsize=(16,8))\n",
    "plt.plot(K, silhouette, 'bx-')\n",
    "plt.xlabel('k')\n",
    "plt.ylabel('silhouette score')\n",
    "plt.xticks(np.arange(min(K), max(K)+1, 1.0))\n",
    "plt.title('Silhouette Method showing the optimal k')"
   ]
  },
  {
   "cell_type": "markdown",
   "id": "64cbd708",
   "metadata": {},
   "source": [
    "### visualize Silhouette"
   ]
  },
  {
   "cell_type": "code",
   "execution_count": 1461,
   "id": "dec8f07a",
   "metadata": {},
   "outputs": [
    {
     "data": {
      "image/png": "[encoded data removed]",
      "text/plain": [
       "<Figure size 576x396 with 1 Axes>"
      ]
     },
     "metadata": {},
     "output_type": "display_data"
    },
    {
     "data": {
      "text/plain": [
       "<AxesSubplot:title={'center':'Silhouette Plot of KMeans Clustering for 2210 Samples in 4 Centers'}, xlabel='silhouette coefficient values', ylabel='cluster label'>"
      ]
     },
     "execution_count": 1461,
     "metadata": {},
     "output_type": "execute_result"
    }
   ],
   "source": [
    "from yellowbrick.cluster import SilhouetteVisualizer\n",
    "model = KMeans(4, random_state=1234)\n",
    "visualizer = SilhouetteVisualizer(model, colors='yellowbrick')\n",
    "visualizer.fit(df_scaled_df)        \n",
    "visualizer.show()       "
   ]
  },
  {
   "cell_type": "markdown",
   "id": "5c59212d",
   "metadata": {},
   "source": [
    "### Ninas Heatmap"
   ]
  },
  {
   "cell_type": "code",
   "execution_count": 1448,
   "id": "02ad3665",
   "metadata": {},
   "outputs": [],
   "source": [
    "df = df.reset_index(drop=True)"
   ]
  },
  {
   "cell_type": "code",
   "execution_count": 1449,
   "id": "4a78f3dd",
   "metadata": {
    "scrolled": false
   },
   "outputs": [
    {
     "data": {
      "image/png": "[encoded data removed]",
      "text/plain": [
       "<Figure size 1800x1080 with 2 Axes>"
      ]
     },
     "metadata": {},
     "output_type": "display_data"
    }
   ],
   "source": [
    "#create dictionary of cluster membership for each label\n",
    "cluster_labels = np.unique(df.cluster)\n",
    "cluster_members = {}\n",
    "for clusters in cluster_labels:\n",
    "    cluster_members[clusters] = np.where(df.cluster == clusters)\n",
    "\n",
    "#for each cluster label (ky) calculate the mean for each feature\n",
    "scaled_feature_means_by_cluster = pd.DataFrame([df_scaled_df.loc[cluster_members[ky]].mean(numeric_only=True) for ky in cluster_members.keys()])\n",
    "\n",
    "#plot results as heatmap \n",
    "with sns.axes_style(\"white\"):\n",
    "    f, ax = plt.subplots(figsize=(25, 15))\n",
    "    ax = sns.heatmap(scaled_feature_means_by_cluster, cmap='coolwarm', vmin=-1, vmax=1, annot=True, square=True)\n"
   ]
  },
  {
   "cell_type": "markdown",
   "id": "07d18b0c",
   "metadata": {},
   "source": [
    "## Describing + plotting Clusters "
   ]
  },
  {
   "cell_type": "markdown",
   "id": "91643d8f",
   "metadata": {},
   "source": [
    "### Save df as excel file"
   ]
  },
  {
   "cell_type": "code",
   "execution_count": 1450,
   "id": "c7752d1c",
   "metadata": {},
   "outputs": [],
   "source": [
    "df.to_excel(r'df_clean2.xlsx', index = False)"
   ]
  },
  {
   "cell_type": "code",
   "execution_count": 1451,
   "id": "4f474c4d",
   "metadata": {},
   "outputs": [],
   "source": [
    "df.to_csv(r'df_clean2.csv', index = False)"
   ]
  },
  {
   "cell_type": "markdown",
   "id": "d42462f0",
   "metadata": {},
   "source": [
    "### exclude cluster 4"
   ]
  },
  {
   "cell_type": "code",
   "execution_count": 1452,
   "id": "dfe3c0e0",
   "metadata": {},
   "outputs": [
    {
     "data": {
      "text/plain": [
       "3    1006\n",
       "2     611\n",
       "1     573\n",
       "0      20\n",
       "Name: cluster, dtype: int64"
      ]
     },
     "execution_count": 1452,
     "metadata": {},
     "output_type": "execute_result"
    }
   ],
   "source": [
    "df = df.drop(df[df.cluster == 4].index)\n",
    "df[\"cluster\"].value_counts()"
   ]
  },
  {
   "cell_type": "markdown",
   "id": "072eb285",
   "metadata": {},
   "source": [
    "### Create custom color palette for seaborn"
   ]
  },
  {
   "cell_type": "code",
   "execution_count": 1453,
   "id": "d153dd4d",
   "metadata": {},
   "outputs": [],
   "source": [
    "#array with colours (dark blue: 000077, Blau: AEBBF4, light blue: BDF7FF, Lila: D8C1F1, red: F20C49, coral: F29188)\n",
    "colors = [\"#000077\",\"#BDF7FF\",\"#F20C49\", \"#D8C1F1\", \"#AEBBF4\",\"#F29188\"]\n",
    "customPalette = sns.set_palette(sns.color_palette(colors))"
   ]
  },
  {
   "cell_type": "markdown",
   "id": "0c5ab633",
   "metadata": {},
   "source": [
    "## Features plotted by Clusters"
   ]
  },
  {
   "cell_type": "markdown",
   "id": "9c07520e",
   "metadata": {},
   "source": [
    "### Education by Cluster"
   ]
  },
  {
   "cell_type": "code",
   "execution_count": 1454,
   "id": "ca55f7fe",
   "metadata": {},
   "outputs": [
    {
     "data": {
      "image/png": "[encoded data removed]",
      "text/plain": [
       "<Figure size 1080x576 with 1 Axes>"
      ]
     },
     "metadata": {},
     "output_type": "display_data"
    }
   ],
   "source": [
    "sns.set_palette(customPalette)\n",
    "fig, ax = plt.subplots(figsize = (15,8))\n",
    "ax = sns.countplot(x = df[\"cluster\"],y = None, hue=df[\"education\"], palette=sns.color_palette(customPalette, 3))"
   ]
  },
  {
   "cell_type": "markdown",
   "id": "4dda3945",
   "metadata": {},
   "source": [
    "### Marital Status by Cluster"
   ]
  },
  {
   "cell_type": "code",
   "execution_count": 1455,
   "id": "3303b72e",
   "metadata": {},
   "outputs": [
    {
     "data": {
      "text/plain": [
       "Text(0.5, 1.0, 'Marital Status by Cluster')"
      ]
     },
     "execution_count": 1455,
     "metadata": {},
     "output_type": "execute_result"
    },
    {
     "data": {
      "image/png": "[encoded data removed]",
      "text/plain": [
       "<Figure size 1080x576 with 1 Axes>"
      ]
     },
     "metadata": {},
     "output_type": "display_data"
    }
   ],
   "source": [
    "sns.set_palette(customPalette)\n",
    "fig, ax = plt.subplots(figsize = (15,8))\n",
    "ax = sns.countplot(x = df[\"cluster\"],y = None, hue=df[\"marital_status\"], palette=sns.color_palette(customPalette, 2))\n",
    "plt.title('Marital Status by Cluster', fontsize=20)"
   ]
  },
  {
   "cell_type": "markdown",
   "id": "f3d860a7",
   "metadata": {},
   "source": [
    "### Income by Cluster"
   ]
  },
  {
   "cell_type": "code",
   "execution_count": 1456,
   "id": "4b2a2bba",
   "metadata": {},
   "outputs": [
    {
     "data": {
      "image/png": "[encoded data removed]",
      "text/plain": [
       "<Figure size 1080x576 with 1 Axes>"
      ]
     },
     "metadata": {},
     "output_type": "display_data"
    }
   ],
   "source": [
    "sns.set_palette(customPalette)\n",
    "plt.figure(figsize=(15,8))\n",
    "pl=sns.boxplot(y=df[\"income\"],x=df[\"cluster\"], palette=sns.color_palette(customPalette, 6))\n",
    "pl.set_title(\"Income by cluster\")\n",
    "plt.show()"
   ]
  },
  {
   "cell_type": "markdown",
   "id": "c6d491c5",
   "metadata": {},
   "source": [
    "### Children by Cluster"
   ]
  },
  {
   "cell_type": "code",
   "execution_count": 1457,
   "id": "c1c74b7c",
   "metadata": {},
   "outputs": [
    {
     "data": {
      "text/plain": [
       "<Figure size 1440x1440 with 0 Axes>"
      ]
     },
     "execution_count": 1457,
     "metadata": {},
     "output_type": "execute_result"
    },
    {
     "data": {
      "image/png": "[encoded data removed]",
      "text/plain": [
       "<Figure size 1080x576 with 1 Axes>"
      ]
     },
     "metadata": {},
     "output_type": "display_data"
    },
    {
     "data": {
      "text/plain": [
       "<Figure size 1440x1440 with 0 Axes>"
      ]
     },
     "metadata": {},
     "output_type": "display_data"
    }
   ],
   "source": [
    "sns.set_palette(customPalette)\n",
    "fig, ax = plt.subplots(figsize = (15,8))\n",
    "ax = sns.countplot(x = df[\"cluster\"],y = None, hue=df[\"kidhome\"], palette=sns.color_palette(customPalette, 3))\n",
    "plt.figure(figsize=(20,20))"
   ]
  },
  {
   "cell_type": "markdown",
   "id": "18766cc5",
   "metadata": {},
   "source": [
    "### Teenagers by Cluster"
   ]
  },
  {
   "cell_type": "code",
   "execution_count": 1458,
   "id": "b8c82cb3",
   "metadata": {},
   "outputs": [
    {
     "data": {
      "image/png": "[encoded data removed]",
      "text/plain": [
       "<Figure size 1080x576 with 1 Axes>"
      ]
     },
     "metadata": {},
     "output_type": "display_data"
    }
   ],
   "source": [
    "sns.set_palette(customPalette)\n",
    "fig, ax = plt.subplots(figsize = (15,8))\n",
    "ax = sns.countplot(x = df[\"cluster\"],y = None, hue=df[\"teenhome\"], palette=sns.color_palette(customPalette, 3))"
   ]
  },
  {
   "cell_type": "markdown",
   "id": "a5131b9a",
   "metadata": {},
   "source": [
    "### Recency by Cluster"
   ]
  },
  {
   "cell_type": "code",
   "execution_count": 1459,
   "id": "608eac8f",
   "metadata": {},
   "outputs": [
    {
     "data": {
      "image/png": "[encoded data removed]",
      "text/plain": [
       "<Figure size 1080x576 with 1 Axes>"
      ]
     },
     "metadata": {},
     "output_type": "display_data"
    }
   ],
   "source": [
    "sns.set_palette(customPalette)\n",
    "plt.figure(figsize=(15,8))\n",
    "pl=sns.boxplot(y=df[\"recency\"],x=df[\"cluster\"], palette=sns.color_palette(customPalette, 6))\n",
    "pl.set_title(\"Recency by cluster\")\n",
    "plt.show()"
   ]
  },
  {
   "cell_type": "code",
   "execution_count": 1460,
   "id": "bcf6ee4a",
   "metadata": {},
   "outputs": [
    {
     "ename": "KeyError",
     "evalue": "'total_spent'",
     "output_type": "error",
     "traceback": [
      "\u001b[0;31m---------------------------------------------------------------------------\u001b[0m",
      "\u001b[0;31mKeyError\u001b[0m                                  Traceback (most recent call last)",
      "\u001b[0;32m/opt/anaconda3/envs/DA_ENV/lib/python3.9/site-packages/pandas/core/indexes/base.py\u001b[0m in \u001b[0;36mget_loc\u001b[0;34m(self, key, method, tolerance)\u001b[0m\n\u001b[1;32m   3360\u001b[0m             \u001b[0;32mtry\u001b[0m\u001b[0;34m:\u001b[0m\u001b[0;34m\u001b[0m\u001b[0;34m\u001b[0m\u001b[0m\n\u001b[0;32m-> 3361\u001b[0;31m                 \u001b[0;32mreturn\u001b[0m \u001b[0mself\u001b[0m\u001b[0;34m.\u001b[0m\u001b[0m_engine\u001b[0m\u001b[0;34m.\u001b[0m\u001b[0mget_loc\u001b[0m\u001b[0;34m(\u001b[0m\u001b[0mcasted_key\u001b[0m\u001b[0;34m)\u001b[0m\u001b[0;34m\u001b[0m\u001b[0;34m\u001b[0m\u001b[0m\n\u001b[0m\u001b[1;32m   3362\u001b[0m             \u001b[0;32mexcept\u001b[0m \u001b[0mKeyError\u001b[0m \u001b[0;32mas\u001b[0m \u001b[0merr\u001b[0m\u001b[0;34m:\u001b[0m\u001b[0;34m\u001b[0m\u001b[0;34m\u001b[0m\u001b[0m\n",
      "\u001b[0;32m/opt/anaconda3/envs/DA_ENV/lib/python3.9/site-packages/pandas/_libs/index.pyx\u001b[0m in \u001b[0;36mpandas._libs.index.IndexEngine.get_loc\u001b[0;34m()\u001b[0m\n",
      "\u001b[0;32m/opt/anaconda3/envs/DA_ENV/lib/python3.9/site-packages/pandas/_libs/index.pyx\u001b[0m in \u001b[0;36mpandas._libs.index.IndexEngine.get_loc\u001b[0;34m()\u001b[0m\n",
      "\u001b[0;32mpandas/_libs/hashtable_class_helper.pxi\u001b[0m in \u001b[0;36mpandas._libs.hashtable.PyObjectHashTable.get_item\u001b[0;34m()\u001b[0m\n",
      "\u001b[0;32mpandas/_libs/hashtable_class_helper.pxi\u001b[0m in \u001b[0;36mpandas._libs.hashtable.PyObjectHashTable.get_item\u001b[0;34m()\u001b[0m\n",
      "\u001b[0;31mKeyError\u001b[0m: 'total_spent'",
      "\nThe above exception was the direct cause of the following exception:\n",
      "\u001b[0;31mKeyError\u001b[0m                                  Traceback (most recent call last)",
      "\u001b[0;32m/var/folders/jl/wz2cfppd1qv9v95b9l5nqm3w0000gn/T/ipykernel_32189/623372226.py\u001b[0m in \u001b[0;36m<module>\u001b[0;34m\u001b[0m\n\u001b[1;32m      1\u001b[0m \u001b[0mplt\u001b[0m\u001b[0;34m.\u001b[0m\u001b[0mfigure\u001b[0m\u001b[0;34m(\u001b[0m\u001b[0mfigsize\u001b[0m\u001b[0;34m=\u001b[0m\u001b[0;34m(\u001b[0m\u001b[0;36m15\u001b[0m\u001b[0;34m,\u001b[0m\u001b[0;36m8\u001b[0m\u001b[0;34m)\u001b[0m\u001b[0;34m)\u001b[0m\u001b[0;34m\u001b[0m\u001b[0;34m\u001b[0m\u001b[0m\n\u001b[0;32m----> 2\u001b[0;31m \u001b[0mpl\u001b[0m\u001b[0;34m=\u001b[0m\u001b[0msns\u001b[0m\u001b[0;34m.\u001b[0m\u001b[0mboxenplot\u001b[0m\u001b[0;34m(\u001b[0m\u001b[0mx\u001b[0m\u001b[0;34m=\u001b[0m\u001b[0mdf\u001b[0m\u001b[0;34m[\u001b[0m\u001b[0;34m\"cluster\"\u001b[0m\u001b[0;34m]\u001b[0m\u001b[0;34m,\u001b[0m \u001b[0my\u001b[0m\u001b[0;34m=\u001b[0m\u001b[0mdf\u001b[0m\u001b[0;34m[\u001b[0m\u001b[0;34m\"total_spent\"\u001b[0m\u001b[0;34m]\u001b[0m\u001b[0;34m,\u001b[0m \u001b[0mpalette\u001b[0m\u001b[0;34m=\u001b[0m\u001b[0mcustomPalette\u001b[0m\u001b[0;34m)\u001b[0m\u001b[0;34m\u001b[0m\u001b[0;34m\u001b[0m\u001b[0m\n\u001b[0m\u001b[1;32m      3\u001b[0m \u001b[0mpl\u001b[0m\u001b[0;34m.\u001b[0m\u001b[0mset_xlabel\u001b[0m\u001b[0;34m(\u001b[0m\u001b[0;34m\"Total spent distribution by Cluster\"\u001b[0m\u001b[0;34m)\u001b[0m\u001b[0;34m\u001b[0m\u001b[0;34m\u001b[0m\u001b[0m\n\u001b[1;32m      4\u001b[0m \u001b[0mplt\u001b[0m\u001b[0;34m.\u001b[0m\u001b[0mshow\u001b[0m\u001b[0;34m(\u001b[0m\u001b[0;34m)\u001b[0m\u001b[0;34m\u001b[0m\u001b[0;34m\u001b[0m\u001b[0m\n",
      "\u001b[0;32m/opt/anaconda3/envs/DA_ENV/lib/python3.9/site-packages/pandas/core/frame.py\u001b[0m in \u001b[0;36m__getitem__\u001b[0;34m(self, key)\u001b[0m\n\u001b[1;32m   3456\u001b[0m             \u001b[0;32mif\u001b[0m \u001b[0mself\u001b[0m\u001b[0;34m.\u001b[0m\u001b[0mcolumns\u001b[0m\u001b[0;34m.\u001b[0m\u001b[0mnlevels\u001b[0m \u001b[0;34m>\u001b[0m \u001b[0;36m1\u001b[0m\u001b[0;34m:\u001b[0m\u001b[0;34m\u001b[0m\u001b[0;34m\u001b[0m\u001b[0m\n\u001b[1;32m   3457\u001b[0m                 \u001b[0;32mreturn\u001b[0m \u001b[0mself\u001b[0m\u001b[0;34m.\u001b[0m\u001b[0m_getitem_multilevel\u001b[0m\u001b[0;34m(\u001b[0m\u001b[0mkey\u001b[0m\u001b[0;34m)\u001b[0m\u001b[0;34m\u001b[0m\u001b[0;34m\u001b[0m\u001b[0m\n\u001b[0;32m-> 3458\u001b[0;31m             \u001b[0mindexer\u001b[0m \u001b[0;34m=\u001b[0m \u001b[0mself\u001b[0m\u001b[0;34m.\u001b[0m\u001b[0mcolumns\u001b[0m\u001b[0;34m.\u001b[0m\u001b[0mget_loc\u001b[0m\u001b[0;34m(\u001b[0m\u001b[0mkey\u001b[0m\u001b[0;34m)\u001b[0m\u001b[0;34m\u001b[0m\u001b[0;34m\u001b[0m\u001b[0m\n\u001b[0m\u001b[1;32m   3459\u001b[0m             \u001b[0;32mif\u001b[0m \u001b[0mis_integer\u001b[0m\u001b[0;34m(\u001b[0m\u001b[0mindexer\u001b[0m\u001b[0;34m)\u001b[0m\u001b[0;34m:\u001b[0m\u001b[0;34m\u001b[0m\u001b[0;34m\u001b[0m\u001b[0m\n\u001b[1;32m   3460\u001b[0m                 \u001b[0mindexer\u001b[0m \u001b[0;34m=\u001b[0m \u001b[0;34m[\u001b[0m\u001b[0mindexer\u001b[0m\u001b[0;34m]\u001b[0m\u001b[0;34m\u001b[0m\u001b[0;34m\u001b[0m\u001b[0m\n",
      "\u001b[0;32m/opt/anaconda3/envs/DA_ENV/lib/python3.9/site-packages/pandas/core/indexes/base.py\u001b[0m in \u001b[0;36mget_loc\u001b[0;34m(self, key, method, tolerance)\u001b[0m\n\u001b[1;32m   3361\u001b[0m                 \u001b[0;32mreturn\u001b[0m \u001b[0mself\u001b[0m\u001b[0;34m.\u001b[0m\u001b[0m_engine\u001b[0m\u001b[0;34m.\u001b[0m\u001b[0mget_loc\u001b[0m\u001b[0;34m(\u001b[0m\u001b[0mcasted_key\u001b[0m\u001b[0;34m)\u001b[0m\u001b[0;34m\u001b[0m\u001b[0;34m\u001b[0m\u001b[0m\n\u001b[1;32m   3362\u001b[0m             \u001b[0;32mexcept\u001b[0m \u001b[0mKeyError\u001b[0m \u001b[0;32mas\u001b[0m \u001b[0merr\u001b[0m\u001b[0;34m:\u001b[0m\u001b[0;34m\u001b[0m\u001b[0;34m\u001b[0m\u001b[0m\n\u001b[0;32m-> 3363\u001b[0;31m                 \u001b[0;32mraise\u001b[0m \u001b[0mKeyError\u001b[0m\u001b[0;34m(\u001b[0m\u001b[0mkey\u001b[0m\u001b[0;34m)\u001b[0m \u001b[0;32mfrom\u001b[0m \u001b[0merr\u001b[0m\u001b[0;34m\u001b[0m\u001b[0;34m\u001b[0m\u001b[0m\n\u001b[0m\u001b[1;32m   3364\u001b[0m \u001b[0;34m\u001b[0m\u001b[0m\n\u001b[1;32m   3365\u001b[0m         \u001b[0;32mif\u001b[0m \u001b[0mis_scalar\u001b[0m\u001b[0;34m(\u001b[0m\u001b[0mkey\u001b[0m\u001b[0;34m)\u001b[0m \u001b[0;32mand\u001b[0m \u001b[0misna\u001b[0m\u001b[0;34m(\u001b[0m\u001b[0mkey\u001b[0m\u001b[0;34m)\u001b[0m \u001b[0;32mand\u001b[0m \u001b[0;32mnot\u001b[0m \u001b[0mself\u001b[0m\u001b[0;34m.\u001b[0m\u001b[0mhasnans\u001b[0m\u001b[0;34m:\u001b[0m\u001b[0;34m\u001b[0m\u001b[0;34m\u001b[0m\u001b[0m\n",
      "\u001b[0;31mKeyError\u001b[0m: 'total_spent'"
     ]
    },
    {
     "data": {
      "text/plain": [
       "<Figure size 1080x576 with 0 Axes>"
      ]
     },
     "metadata": {},
     "output_type": "display_data"
    }
   ],
   "source": [
    "plt.figure(figsize=(15,8))\n",
    "pl=sns.boxenplot(x=df[\"cluster\"], y=df[\"total_spent\"], palette=customPalette)\n",
    "pl.set_xlabel(\"Total spent distribution by Cluster\")\n",
    "plt.show()"
   ]
  },
  {
   "cell_type": "markdown",
   "id": "f51ea4b3",
   "metadata": {},
   "source": [
    "### Wines by Cluster"
   ]
  },
  {
   "cell_type": "code",
   "execution_count": null,
   "id": "cd021fb2",
   "metadata": {},
   "outputs": [],
   "source": [
    "plt.figure(figsize=(15,8))\n",
    "pl=sns.boxenplot(x=df[\"cluster\"], y=df[\"mntwines\"], palette=customPalette)\n",
    "pl.set_xlabel(\"Wine by Cluster\")\n",
    "plt.show()"
   ]
  },
  {
   "cell_type": "markdown",
   "id": "f2c411ce",
   "metadata": {},
   "source": [
    "### Fruit by Cluster"
   ]
  },
  {
   "cell_type": "code",
   "execution_count": null,
   "id": "9ced91ff",
   "metadata": {},
   "outputs": [],
   "source": [
    "sns.set_palette(customPalette)\n",
    "plt.figure(figsize=(15,8))\n",
    "pl=sns.boxplot(y=df[\"mntfruits\"],x=df[\"cluster\"], palette=sns.color_palette(customPalette, 6))\n",
    "pl.set_title(\"Fruit by cluster\")\n",
    "plt.show()"
   ]
  },
  {
   "cell_type": "markdown",
   "id": "321e87e3",
   "metadata": {},
   "source": [
    "### Meat products by Cluster"
   ]
  },
  {
   "cell_type": "code",
   "execution_count": null,
   "id": "fbb6347d",
   "metadata": {},
   "outputs": [],
   "source": [
    "sns.set_palette(customPalette)\n",
    "plt.figure(figsize=(15,8))\n",
    "pl=sns.boxenplot(x=df[\"cluster\"], y=df[\"mntmeatproducts\"], palette=customPalette)\n",
    "pl.set_xlabel(\"Meat Products by Cluster\")\n",
    "plt.show()"
   ]
  },
  {
   "cell_type": "markdown",
   "id": "665fccad",
   "metadata": {},
   "source": [
    "### Fish Products by Cluster"
   ]
  },
  {
   "cell_type": "code",
   "execution_count": null,
   "id": "822f02f8",
   "metadata": {},
   "outputs": [],
   "source": [
    "sns.set_palette(customPalette)\n",
    "plt.figure(figsize=(15,8))\n",
    "pl=sns.boxenplot(x=df[\"cluster\"], y=df[\"mntfishproducts\"], palette=customPalette)\n",
    "pl.set_xlabel(\"Fish Products by Cluster\")\n",
    "plt.show()"
   ]
  },
  {
   "cell_type": "markdown",
   "id": "6a00187c",
   "metadata": {},
   "source": [
    "### Sweet Products by Cluster"
   ]
  },
  {
   "cell_type": "code",
   "execution_count": null,
   "id": "51d0f460",
   "metadata": {},
   "outputs": [],
   "source": [
    "sns.set_palette(customPalette)\n",
    "plt.figure(figsize=(15,8))\n",
    "pl=sns.boxenplot(x=df[\"cluster\"], y=df[\"mntsweetproducts\"], palette=customPalette)\n",
    "pl.set_xlabel(\"Sweet Products by Cluster\")\n",
    "plt.show()"
   ]
  },
  {
   "cell_type": "markdown",
   "id": "69f2494f",
   "metadata": {},
   "source": [
    "### Gold Products by Cluster"
   ]
  },
  {
   "cell_type": "code",
   "execution_count": null,
   "id": "ee617549",
   "metadata": {},
   "outputs": [],
   "source": [
    "sns.set_palette(customPalette)\n",
    "plt.figure(figsize=(15,8))\n",
    "pl=sns.boxenplot(x=df[\"cluster\"], y=df[\"mntgoldprods\"], palette=customPalette)\n",
    "pl.set_xlabel(\"Gold Products by Cluster\")\n",
    "plt.show()"
   ]
  },
  {
   "cell_type": "markdown",
   "id": "1dd0bf1d",
   "metadata": {},
   "source": [
    "### Number of Deals purchased by Cluster"
   ]
  },
  {
   "cell_type": "code",
   "execution_count": null,
   "id": "25a722ef",
   "metadata": {},
   "outputs": [],
   "source": [
    "sns.set_palette(customPalette)\n",
    "plt.figure(figsize=(15,8))\n",
    "pl=sns.boxenplot(x=df[\"cluster\"], y=df[\"numdealspurchases\"], palette=customPalette)\n",
    "pl.set_xlabel(\"Number of Deals by Cluster\")\n",
    "plt.show()"
   ]
  },
  {
   "cell_type": "markdown",
   "id": "8ce8ce15",
   "metadata": {},
   "source": [
    "### Number of Web Purchases by Cluster"
   ]
  },
  {
   "cell_type": "code",
   "execution_count": null,
   "id": "a09b9d70",
   "metadata": {},
   "outputs": [],
   "source": [
    "sns.set_palette(customPalette)\n",
    "plt.figure(figsize=(15,8))\n",
    "pl=sns.boxenplot(x=df[\"cluster\"], y=df[\"numwebpurchases\"], palette=customPalette)\n",
    "pl.set_xlabel(\"Number of Web Purchases by Cluster\")\n",
    "plt.show()"
   ]
  },
  {
   "cell_type": "markdown",
   "id": "433138b8",
   "metadata": {},
   "source": [
    "### Number of Catalogue Purchases by Cluster"
   ]
  },
  {
   "cell_type": "code",
   "execution_count": null,
   "id": "86b5799e",
   "metadata": {},
   "outputs": [],
   "source": [
    "sns.set_palette(customPalette)\n",
    "plt.figure(figsize=(15,8))\n",
    "pl=sns.boxenplot(x=df[\"cluster\"], y=df[\"numcatalogpurchases\"], palette=customPalette)\n",
    "pl.set_xlabel(\"Number of Catalogue Purchases by Cluster\")\n",
    "plt.show()"
   ]
  },
  {
   "cell_type": "markdown",
   "id": "ffc2e586",
   "metadata": {},
   "source": [
    "### Number of Store Purchases by Cluster"
   ]
  },
  {
   "cell_type": "code",
   "execution_count": null,
   "id": "c41abbbb",
   "metadata": {},
   "outputs": [],
   "source": [
    "sns.set_palette(customPalette)\n",
    "plt.figure(figsize=(15,8))\n",
    "pl=sns.boxenplot(x=df[\"cluster\"], y=df[\"numstorepurchases\"], palette=customPalette)\n",
    "pl.set_xlabel(\"Number of Store Purchases by Cluster\")\n",
    "plt.show()"
   ]
  },
  {
   "cell_type": "markdown",
   "id": "0e5af66a",
   "metadata": {},
   "source": [
    "### Web Visits by Cluster"
   ]
  },
  {
   "cell_type": "code",
   "execution_count": null,
   "id": "8d2c3191",
   "metadata": {},
   "outputs": [],
   "source": [
    "sns.set_palette(customPalette)\n",
    "plt.figure(figsize=(15,8))\n",
    "pl=sns.boxenplot(x=df[\"cluster\"], y=df[\"numwebvisitsmonth\"], palette=customPalette)\n",
    "pl.set_xlabel(\"web Visits Purchases by Cluster\")\n",
    "plt.show()"
   ]
  },
  {
   "cell_type": "markdown",
   "id": "573d6147",
   "metadata": {},
   "source": [
    "### Complaints by Cluster"
   ]
  },
  {
   "cell_type": "code",
   "execution_count": null,
   "id": "dcbe15c6",
   "metadata": {},
   "outputs": [],
   "source": [
    "sns.set_palette(customPalette)\n",
    "fig, ax = plt.subplots(figsize = (15,8))\n",
    "ax = sns.countplot(x = df[\"cluster\"],y = None, hue=df[\"complain\"], palette=sns.color_palette(customPalette, 2))"
   ]
  },
  {
   "cell_type": "markdown",
   "id": "617cbaa5",
   "metadata": {},
   "source": [
    "### Response by Cluster"
   ]
  },
  {
   "cell_type": "code",
   "execution_count": null,
   "id": "de46987d",
   "metadata": {},
   "outputs": [],
   "source": [
    "#Response: 1 if customer accepted the offer in the last campaign, 0 otherwise\n",
    "sns.set_palette(customPalette)\n",
    "fig, ax = plt.subplots(figsize = (15,8))\n",
    "ax = sns.countplot(x = df[\"cluster\"],y = None, hue=df[\"response\"], palette=sns.color_palette(customPalette, 2))"
   ]
  },
  {
   "cell_type": "markdown",
   "id": "f94de9d8",
   "metadata": {},
   "source": [
    "### Age by Cluster"
   ]
  },
  {
   "cell_type": "code",
   "execution_count": null,
   "id": "6f45f9f3",
   "metadata": {},
   "outputs": [],
   "source": [
    "sns.set_palette(customPalette)\n",
    "plt.figure(figsize=(15,8))\n",
    "pl=sns.boxplot(y=df[\"age\"],x=df[\"cluster\"], palette=sns.color_palette(customPalette, 6))\n",
    "pl.set_title(\"Age by cluster\")\n",
    "plt.show()"
   ]
  },
  {
   "cell_type": "markdown",
   "id": "8a9cdf19",
   "metadata": {},
   "source": [
    "### Accepted Campaigns by Cluster"
   ]
  },
  {
   "cell_type": "code",
   "execution_count": null,
   "id": "45dbe8e6",
   "metadata": {},
   "outputs": [],
   "source": [
    "sns.set_palette(customPalette)\n",
    "fig, ax = plt.subplots(figsize = (15,8))\n",
    "ax = sns.countplot(x = df[\"cluster\"],y = None, hue=df[\"acc_camp\"],palette=sns.color_palette(customPalette, 5))"
   ]
  },
  {
   "cell_type": "markdown",
   "id": "7838d5c0",
   "metadata": {},
   "source": [
    "### Total Amount spent by Cluster"
   ]
  },
  {
   "cell_type": "code",
   "execution_count": null,
   "id": "77634aed",
   "metadata": {},
   "outputs": [],
   "source": [
    "sns.set_palette(customPalette)\n",
    "plt.figure(figsize=(15,8))\n",
    "pl=sns.boxenplot(x=df[\"cluster\"], y=df[\"total_spent\"], palette=customPalette)\n",
    "pl.set_xlabel(\"Total Amount Spent by Cluster\")\n",
    "plt.show()"
   ]
  },
  {
   "cell_type": "markdown",
   "id": "191e4006",
   "metadata": {},
   "source": [
    "### Household Size by Cluster"
   ]
  },
  {
   "cell_type": "code",
   "execution_count": null,
   "id": "4e1cb26c",
   "metadata": {},
   "outputs": [],
   "source": [
    "sns.set_palette(customPalette)\n",
    "fig, ax = plt.subplots(figsize = (15,8))\n",
    "ax = sns.countplot(x = df[\"cluster\"],y = None, hue=df[\"household_size\"], palette=sns.color_palette(customPalette, 6))"
   ]
  },
  {
   "cell_type": "markdown",
   "id": "f5a775f4",
   "metadata": {},
   "source": [
    "### Customer_since by Cluster"
   ]
  },
  {
   "cell_type": "code",
   "execution_count": null,
   "id": "58f7732d",
   "metadata": {},
   "outputs": [],
   "source": [
    "sns.set_palette(customPalette)\n",
    "plt.figure(figsize=(15,8))\n",
    "pl=sns.boxplot(y=df[\"cust_since\"],x=df[\"cluster\"], palette=sns.color_palette(customPalette, 6))\n",
    "pl.set_title(\"Customer_since by cluster (in months)\")\n",
    "plt.show()"
   ]
  },
  {
   "cell_type": "markdown",
   "id": "d7e8a3af",
   "metadata": {},
   "source": [
    "## Plotting features against each other "
   ]
  },
  {
   "cell_type": "markdown",
   "id": "350493bd",
   "metadata": {},
   "source": [
    "### Wines by Education"
   ]
  },
  {
   "cell_type": "code",
   "execution_count": null,
   "id": "691296f4",
   "metadata": {},
   "outputs": [],
   "source": [
    "sns.set_palette(customPalette)\n",
    "sns.violinplot(x=\"education\", y=\"mntwines\", data=df, palette=sns.color_palette(customPalette, 3))"
   ]
  },
  {
   "cell_type": "markdown",
   "id": "feea2056",
   "metadata": {},
   "source": [
    "### Wines by Children"
   ]
  },
  {
   "cell_type": "code",
   "execution_count": null,
   "id": "ff1f48b9",
   "metadata": {},
   "outputs": [],
   "source": [
    "sns.set_palette(customPalette)\n",
    "sns.violinplot(x=\"kidhome\", y=\"mntwines\", data=df, palette=sns.color_palette(customPalette, 3))"
   ]
  },
  {
   "cell_type": "markdown",
   "id": "2a7e558e",
   "metadata": {},
   "source": [
    "### Wines by Teenager"
   ]
  },
  {
   "cell_type": "code",
   "execution_count": null,
   "id": "fbe5fe87",
   "metadata": {},
   "outputs": [],
   "source": [
    "sns.set_palette(customPalette)\n",
    "sns.violinplot(x=\"teenhome\", y=\"mntwines\", data=df, palette=sns.color_palette(customPalette, 3))"
   ]
  },
  {
   "cell_type": "markdown",
   "id": "23a4b89b",
   "metadata": {},
   "source": [
    "### Meat Products by Education"
   ]
  },
  {
   "cell_type": "code",
   "execution_count": null,
   "id": "f1d26330",
   "metadata": {},
   "outputs": [],
   "source": [
    "sns.set_palette(customPalette)\n",
    "sns.violinplot(x=\"education\", y=\"mntmeatproducts\", data=df, palette=sns.color_palette(customPalette, 3))"
   ]
  },
  {
   "cell_type": "markdown",
   "id": "e6c82f45",
   "metadata": {},
   "source": [
    "### Fish Products by Education"
   ]
  },
  {
   "cell_type": "code",
   "execution_count": null,
   "id": "a7228496",
   "metadata": {},
   "outputs": [],
   "source": [
    "sns.set_palette(customPalette)\n",
    "sns.violinplot(x=\"education\", y=\"mntfishproducts\", data=df, palette=sns.color_palette(customPalette, 3))"
   ]
  },
  {
   "cell_type": "markdown",
   "id": "0fd6a78c",
   "metadata": {},
   "source": [
    "## RFM Analysis"
   ]
  },
  {
   "cell_type": "markdown",
   "id": "6b2173a6",
   "metadata": {},
   "source": [
    "RFM modelling is a marketing analysis technique used to assess customer value. The RFM model is based on three factors:\n",
    "- Recency = the interval between the last action and today\n",
    "- Frequency = the number of actions between the user’s signup date and today\n",
    "- Monetary value = the sum of revenue within the user’s lifetime"
   ]
  },
  {
   "cell_type": "markdown",
   "id": "48a9d659",
   "metadata": {},
   "source": [
    "### create new df and columns for RFM"
   ]
  },
  {
   "cell_type": "code",
   "execution_count": null,
   "id": "63c7b78a",
   "metadata": {},
   "outputs": [],
   "source": [
    "#create frequency column\n",
    "df[\"frequency\"] = df[\"numcatalogpurchases\"] + df[\"numstorepurchases\"] + df[\"numwebpurchases\"]\n",
    "df[\"frequency\"]"
   ]
  },
  {
   "cell_type": "code",
   "execution_count": null,
   "id": "3bc03244",
   "metadata": {},
   "outputs": [],
   "source": [
    "#create new df \n",
    "rfm_df = df.filter(['recency','frequency','total_spent'], axis=1)"
   ]
  },
  {
   "cell_type": "code",
   "execution_count": null,
   "id": "4cef9f9b",
   "metadata": {},
   "outputs": [],
   "source": [
    "#create monetary column\n",
    "df[\"monetary\"] = df[\"mntwines\"]+ df[\"mntfruits\"]+ df[\"mntmeatproducts\"]+ df[\"mntfishproducts\"]+ df[\"mntsweetproducts\"]+ df[\"mntgoldprods\"]"
   ]
  },
  {
   "cell_type": "markdown",
   "id": "84fa5bd0",
   "metadata": {},
   "source": [
    "### get quartiles"
   ]
  },
  {
   "cell_type": "code",
   "execution_count": null,
   "id": "a1c63434",
   "metadata": {
    "scrolled": true
   },
   "outputs": [],
   "source": [
    "#calculate quartiles\n",
    "quartiles = rfm_df.quantile([0.25, 0.5, 0.75])"
   ]
  },
  {
   "cell_type": "code",
   "execution_count": null,
   "id": "dbd0af98",
   "metadata": {},
   "outputs": [],
   "source": [
    "#save quartiles in dictionary\n",
    "quantiles.to_dict()"
   ]
  },
  {
   "cell_type": "code",
   "execution_count": null,
   "id": "68729518",
   "metadata": {},
   "outputs": [],
   "source": [
    "#Recency Score (x = value, p = recency, monetary_value, frequency, q = quartiles dict)\n",
    "def rscore(x,p,q):\n",
    "    if x <= q[p][0.25]:\n",
    "        return 1\n",
    "    elif x <= q[p][0.50]:\n",
    "        return 2\n",
    "    elif x <= q[p][0.75]: \n",
    "        return 3\n",
    "    else:\n",
    "        return 4\n",
    "\n",
    "#Frequency + Monetary Score\n",
    "def fmscore(x,p,q):\n",
    "    if x <= q[p][0.25]:\n",
    "        return 4\n",
    "    elif x <= q[p][0.50]:\n",
    "        return 3\n",
    "    elif x <= q[p][0.75]: \n",
    "        return 2\n",
    "    else:\n",
    "        return 1"
   ]
  },
  {
   "cell_type": "markdown",
   "id": "5b74f611",
   "metadata": {},
   "source": [
    "### RFM segmentation table"
   ]
  },
  {
   "cell_type": "code",
   "execution_count": null,
   "id": "9152aab4",
   "metadata": {},
   "outputs": [],
   "source": [
    "#combine scores to create a single score \n",
    "rfm_df['r_quartile'] = rfm_df['recency'].apply(rscore, args=('recency',quantiles,))\n",
    "rfm_df['f_quartile'] = rfm_df['frequency'].apply(fmscore, args=('frequency',quantiles,))\n",
    "rfm_df['m_quartile'] = rfm_df['monetary'].apply(fmscore, args=('monetary',quantiles,))"
   ]
  },
  {
   "cell_type": "code",
   "execution_count": null,
   "id": "5dceb387",
   "metadata": {},
   "outputs": [],
   "source": [
    "rfm_df['rfmscore'] = rfm_df.r_quartile.map(str) \\\n",
    "                            + rfm_df.f_quartile.map(str) \\\n",
    "                            + rfm_df.m_quartile.map(str)\n",
    "rfm_df.head()"
   ]
  },
  {
   "cell_type": "code",
   "execution_count": null,
   "id": "c7c0e7fc",
   "metadata": {},
   "outputs": [],
   "source": [
    "rfm_df.sort_values(by=['rfmscore', 'monetary'], ascending=[True, False])"
   ]
  },
  {
   "cell_type": "code",
   "execution_count": null,
   "id": "3c885edc",
   "metadata": {},
   "outputs": [],
   "source": [
    "rfm_df.groupby('rfmscore').agg('monetary').mean()"
   ]
  },
  {
   "cell_type": "code",
   "execution_count": null,
   "id": "6f9cd620",
   "metadata": {},
   "outputs": [],
   "source": [
    "rfm_df['Total Score'] = rfm_df['r_quartile'] + rfm_df['f_quartile'] +rfm_df['m_quartile']\n",
    "print(rfm_df.head(), rfm_df.info())"
   ]
  },
  {
   "cell_type": "code",
   "execution_count": null,
   "id": "c6d77625",
   "metadata": {},
   "outputs": [],
   "source": [
    "rfm_df.groupby('Total Score').agg('monetary').mean().groupby('Total Score').agg('monetary').mean()\n",
    "\n"
   ]
  },
  {
   "cell_type": "code",
   "execution_count": null,
   "id": "e8ab9f10",
   "metadata": {},
   "outputs": [],
   "source": [
    "rfm_df.groupby('Total Score').agg('monetary').mean().plot(kind='bar', colormap='Blues_r')"
   ]
  },
  {
   "cell_type": "code",
   "execution_count": null,
   "id": "96de71d9",
   "metadata": {},
   "outputs": [],
   "source": [
    "rfm_df.groupby('Total Score').agg('frequency').mean().plot(kind='bar', colormap='Blues_r')"
   ]
  },
  {
   "cell_type": "code",
   "execution_count": null,
   "id": "bb49272c",
   "metadata": {},
   "outputs": [],
   "source": [
    "rfm_df.groupby('Total Score').agg('recency').mean().plot(kind='bar', colormap='Blues_r')"
   ]
  },
  {
   "cell_type": "code",
   "execution_count": null,
   "id": "13d83c68",
   "metadata": {},
   "outputs": [],
   "source": [
    "ax=rfm_df.groupby('Total Score').agg(df['response']).mean().plot(kind='bar', colormap='copper_r')\n",
    "ax.set_xlabel(\"Total Score\")\n",
    "ax.set_ylabel(\"Proportion of Responders\")"
   ]
  },
  {
   "cell_type": "markdown",
   "id": "ae391e61",
   "metadata": {},
   "source": [
    "### label customer groups"
   ]
  },
  {
   "cell_type": "code",
   "execution_count": null,
   "id": "115bf5f2",
   "metadata": {},
   "outputs": [],
   "source": [
    "print(\"top customers: \",len(rfm_df[rfm_df['rfmscore']=='444']))\n",
    "print(\"loyal customers: \",len(rfm_df[rfm_df['f_quartile']==4]))\n",
    "print(\"big spenders: \",len(rfm_df[rfm_df['m_quartile']==4]))\n",
    "print(\"new customers: \", len(rfm_df[rfm_df['rfmscore']=='411']))\n",
    "print(\"almost lost: \",len(rfm_df[rfm_df['rfmscore']=='144']))\n",
    "print(\"lost: \",len(rfm_df[rfm_df['rfmscore']=='111']))"
   ]
  },
  {
   "cell_type": "code",
   "execution_count": null,
   "id": "121b567a",
   "metadata": {},
   "outputs": [],
   "source": [
    "df[\"cluster\"].value_counts()"
   ]
  },
  {
   "cell_type": "markdown",
   "id": "ea0cd498",
   "metadata": {},
   "source": [
    "## plot RFM elements by Cluster"
   ]
  },
  {
   "cell_type": "markdown",
   "id": "0a4b6684",
   "metadata": {},
   "source": [
    "### Frequency by Cluster"
   ]
  },
  {
   "cell_type": "code",
   "execution_count": null,
   "id": "0a8c76dc",
   "metadata": {},
   "outputs": [],
   "source": [
    "plt.figure(figsize=(15,8))\n",
    "pl=sns.boxplot(x=df[\"cluster\"], y=rfm_df[\"frequency\"])\n",
    "pl.set_title(\"Frequency by Cluster\")\n",
    "plt.show() "
   ]
  },
  {
   "cell_type": "markdown",
   "id": "8ef3026d",
   "metadata": {},
   "source": [
    "### Recency by Cluster"
   ]
  },
  {
   "cell_type": "code",
   "execution_count": null,
   "id": "5db6d2e4",
   "metadata": {},
   "outputs": [],
   "source": [
    "plt.figure(figsize=(15,8))\n",
    "pl=sns.boxplot(x=df[\"cluster\"], y=rfm_df[\"recency\"])\n",
    "pl.set_title(\"Recency by Cluster\")\n",
    "plt.show() "
   ]
  },
  {
   "cell_type": "markdown",
   "id": "140b68fa",
   "metadata": {},
   "source": [
    "### Monetary by Cluster"
   ]
  },
  {
   "cell_type": "code",
   "execution_count": null,
   "id": "5ec4cb4d",
   "metadata": {},
   "outputs": [],
   "source": [
    "plt.figure(figsize=(15,8))\n",
    "pl=sns.boxplot(x=df[\"cluster\"], y=rfm_df[\"monetary\"])\n",
    "pl.set_title(\"Monetary by Cluster\")\n",
    "plt.show() "
   ]
  },
  {
   "cell_type": "code",
   "execution_count": null,
   "id": "f8f00e5a",
   "metadata": {},
   "outputs": [],
   "source": []
  }
 ],
 "metadata": {
  "kernelspec": {
   "display_name": "Python 3 (ipykernel)",
   "language": "python",
   "name": "python3"
  },
  "language_info": {
   "codemirror_mode": {
    "name": "ipython",
    "version": 3
   },
   "file_extension": ".py",
   "mimetype": "text/x-python",
   "name": "python",
   "nbconvert_exporter": "python",
   "pygments_lexer": "ipython3",
   "version": "3.9.7"
  },
  "toc": {
   "base_numbering": 1,
   "nav_menu": {},
   "number_sections": true,
   "sideBar": true,
   "skip_h1_title": false,
   "title_cell": "Table of Contents",
   "title_sidebar": "Contents",
   "toc_cell": false,
   "toc_position": {
    "height": "calc(100% - 180px)",
    "left": "10px",
    "top": "150px",
    "width": "220.59375px"
   },
   "toc_section_display": true,
   "toc_window_display": true
  },
  "varInspector": {
   "cols": {
    "lenName": 16,
    "lenType": 16,
    "lenVar": 40
   },
   "kernels_config": {
    "python": {
     "delete_cmd_postfix": "",
     "delete_cmd_prefix": "del ",
     "library": "var_list.py",
     "varRefreshCmd": "print(var_dic_list())"
    },
    "r": {
     "delete_cmd_postfix": ") ",
     "delete_cmd_prefix": "rm(",
     "library": "var_list.r",
     "varRefreshCmd": "cat(var_dic_list()) "
    }
   },
   "types_to_exclude": [
    "module",
    "function",
    "builtin_function_or_method",
    "instance",
    "_Feature"
   ],
   "window_display": false
  }
 },
 "nbformat": 4,
 "nbformat_minor": 5
}
