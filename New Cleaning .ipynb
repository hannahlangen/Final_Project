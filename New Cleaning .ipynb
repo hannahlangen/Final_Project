{
 "cells": [
  {
   "cell_type": "markdown",
   "id": "ec052151",
   "metadata": {},
   "source": [
    "## Import Libraries and load Data"
   ]
  },
  {
   "cell_type": "code",
   "execution_count": 1217,
   "id": "ddcb492e",
   "metadata": {},
   "outputs": [],
   "source": [
    "#Importing the Libraries\n",
    "import numpy as np\n",
    "import pandas as pd\n",
    "import datetime\n",
    "import matplotlib\n",
    "import matplotlib.pyplot as plt\n",
    "from matplotlib import colors\n",
    "import seaborn as sns\n",
    "from sklearn.preprocessing import LabelEncoder\n",
    "from sklearn.preprocessing import StandardScaler\n",
    "from sklearn.decomposition import PCA\n",
    "from sklearn import cluster\n",
    "from sklearn.cluster import KMeans\n",
    "import matplotlib.pyplot as plt, numpy as np\n",
    "from mpl_toolkits.mplot3d import Axes3D\n",
    "from sklearn.cluster import AgglomerativeClustering\n",
    "from matplotlib.colors import ListedColormap\n",
    "from sklearn import metrics\n",
    "import warnings\n",
    "import sys"
   ]
  },
  {
   "cell_type": "code",
   "execution_count": 1218,
   "id": "4c4c3930",
   "metadata": {},
   "outputs": [],
   "source": [
    "#from yellowbrick.cluster import KElbowVisualizer"
   ]
  },
  {
   "cell_type": "code",
   "execution_count": 1219,
   "id": "f094b6f6",
   "metadata": {},
   "outputs": [],
   "source": [
    "df = pd.read_csv(\"marketing_campaign.csv\", sep = '\\t')"
   ]
  },
  {
   "cell_type": "markdown",
   "id": "ab9b6315",
   "metadata": {},
   "source": [
    "## Data Cleaning"
   ]
  },
  {
   "cell_type": "markdown",
   "id": "10536bb7",
   "metadata": {},
   "source": [
    "### drop missing values "
   ]
  },
  {
   "cell_type": "code",
   "execution_count": 1220,
   "id": "aa047d34",
   "metadata": {},
   "outputs": [],
   "source": [
    "df.dropna(inplace=True)"
   ]
  },
  {
   "cell_type": "code",
   "execution_count": 1221,
   "id": "0723f1c3",
   "metadata": {},
   "outputs": [
    {
     "data": {
      "text/html": [
       "<div>\n",
       "<style scoped>\n",
       "    .dataframe tbody tr th:only-of-type {\n",
       "        vertical-align: middle;\n",
       "    }\n",
       "\n",
       "    .dataframe tbody tr th {\n",
       "        vertical-align: top;\n",
       "    }\n",
       "\n",
       "    .dataframe thead th {\n",
       "        text-align: right;\n",
       "    }\n",
       "</style>\n",
       "<table border=\"1\" class=\"dataframe\">\n",
       "  <thead>\n",
       "    <tr style=\"text-align: right;\">\n",
       "      <th></th>\n",
       "      <th>ID</th>\n",
       "      <th>Year_Birth</th>\n",
       "      <th>Education</th>\n",
       "      <th>Marital_Status</th>\n",
       "      <th>Income</th>\n",
       "      <th>Kidhome</th>\n",
       "      <th>Teenhome</th>\n",
       "      <th>Dt_Customer</th>\n",
       "      <th>Recency</th>\n",
       "      <th>MntWines</th>\n",
       "      <th>...</th>\n",
       "      <th>NumWebVisitsMonth</th>\n",
       "      <th>AcceptedCmp3</th>\n",
       "      <th>AcceptedCmp4</th>\n",
       "      <th>AcceptedCmp5</th>\n",
       "      <th>AcceptedCmp1</th>\n",
       "      <th>AcceptedCmp2</th>\n",
       "      <th>Complain</th>\n",
       "      <th>Z_CostContact</th>\n",
       "      <th>Z_Revenue</th>\n",
       "      <th>Response</th>\n",
       "    </tr>\n",
       "  </thead>\n",
       "  <tbody>\n",
       "    <tr>\n",
       "      <th>0</th>\n",
       "      <td>5524</td>\n",
       "      <td>1957</td>\n",
       "      <td>Graduation</td>\n",
       "      <td>Single</td>\n",
       "      <td>58138.0</td>\n",
       "      <td>0</td>\n",
       "      <td>0</td>\n",
       "      <td>04-09-2012</td>\n",
       "      <td>58</td>\n",
       "      <td>635</td>\n",
       "      <td>...</td>\n",
       "      <td>7</td>\n",
       "      <td>0</td>\n",
       "      <td>0</td>\n",
       "      <td>0</td>\n",
       "      <td>0</td>\n",
       "      <td>0</td>\n",
       "      <td>0</td>\n",
       "      <td>3</td>\n",
       "      <td>11</td>\n",
       "      <td>1</td>\n",
       "    </tr>\n",
       "    <tr>\n",
       "      <th>1</th>\n",
       "      <td>2174</td>\n",
       "      <td>1954</td>\n",
       "      <td>Graduation</td>\n",
       "      <td>Single</td>\n",
       "      <td>46344.0</td>\n",
       "      <td>1</td>\n",
       "      <td>1</td>\n",
       "      <td>08-03-2014</td>\n",
       "      <td>38</td>\n",
       "      <td>11</td>\n",
       "      <td>...</td>\n",
       "      <td>5</td>\n",
       "      <td>0</td>\n",
       "      <td>0</td>\n",
       "      <td>0</td>\n",
       "      <td>0</td>\n",
       "      <td>0</td>\n",
       "      <td>0</td>\n",
       "      <td>3</td>\n",
       "      <td>11</td>\n",
       "      <td>0</td>\n",
       "    </tr>\n",
       "    <tr>\n",
       "      <th>2</th>\n",
       "      <td>4141</td>\n",
       "      <td>1965</td>\n",
       "      <td>Graduation</td>\n",
       "      <td>Together</td>\n",
       "      <td>71613.0</td>\n",
       "      <td>0</td>\n",
       "      <td>0</td>\n",
       "      <td>21-08-2013</td>\n",
       "      <td>26</td>\n",
       "      <td>426</td>\n",
       "      <td>...</td>\n",
       "      <td>4</td>\n",
       "      <td>0</td>\n",
       "      <td>0</td>\n",
       "      <td>0</td>\n",
       "      <td>0</td>\n",
       "      <td>0</td>\n",
       "      <td>0</td>\n",
       "      <td>3</td>\n",
       "      <td>11</td>\n",
       "      <td>0</td>\n",
       "    </tr>\n",
       "    <tr>\n",
       "      <th>3</th>\n",
       "      <td>6182</td>\n",
       "      <td>1984</td>\n",
       "      <td>Graduation</td>\n",
       "      <td>Together</td>\n",
       "      <td>26646.0</td>\n",
       "      <td>1</td>\n",
       "      <td>0</td>\n",
       "      <td>10-02-2014</td>\n",
       "      <td>26</td>\n",
       "      <td>11</td>\n",
       "      <td>...</td>\n",
       "      <td>6</td>\n",
       "      <td>0</td>\n",
       "      <td>0</td>\n",
       "      <td>0</td>\n",
       "      <td>0</td>\n",
       "      <td>0</td>\n",
       "      <td>0</td>\n",
       "      <td>3</td>\n",
       "      <td>11</td>\n",
       "      <td>0</td>\n",
       "    </tr>\n",
       "    <tr>\n",
       "      <th>4</th>\n",
       "      <td>5324</td>\n",
       "      <td>1981</td>\n",
       "      <td>PhD</td>\n",
       "      <td>Married</td>\n",
       "      <td>58293.0</td>\n",
       "      <td>1</td>\n",
       "      <td>0</td>\n",
       "      <td>19-01-2014</td>\n",
       "      <td>94</td>\n",
       "      <td>173</td>\n",
       "      <td>...</td>\n",
       "      <td>5</td>\n",
       "      <td>0</td>\n",
       "      <td>0</td>\n",
       "      <td>0</td>\n",
       "      <td>0</td>\n",
       "      <td>0</td>\n",
       "      <td>0</td>\n",
       "      <td>3</td>\n",
       "      <td>11</td>\n",
       "      <td>0</td>\n",
       "    </tr>\n",
       "    <tr>\n",
       "      <th>...</th>\n",
       "      <td>...</td>\n",
       "      <td>...</td>\n",
       "      <td>...</td>\n",
       "      <td>...</td>\n",
       "      <td>...</td>\n",
       "      <td>...</td>\n",
       "      <td>...</td>\n",
       "      <td>...</td>\n",
       "      <td>...</td>\n",
       "      <td>...</td>\n",
       "      <td>...</td>\n",
       "      <td>...</td>\n",
       "      <td>...</td>\n",
       "      <td>...</td>\n",
       "      <td>...</td>\n",
       "      <td>...</td>\n",
       "      <td>...</td>\n",
       "      <td>...</td>\n",
       "      <td>...</td>\n",
       "      <td>...</td>\n",
       "      <td>...</td>\n",
       "    </tr>\n",
       "    <tr>\n",
       "      <th>2235</th>\n",
       "      <td>10870</td>\n",
       "      <td>1967</td>\n",
       "      <td>Graduation</td>\n",
       "      <td>Married</td>\n",
       "      <td>61223.0</td>\n",
       "      <td>0</td>\n",
       "      <td>1</td>\n",
       "      <td>13-06-2013</td>\n",
       "      <td>46</td>\n",
       "      <td>709</td>\n",
       "      <td>...</td>\n",
       "      <td>5</td>\n",
       "      <td>0</td>\n",
       "      <td>0</td>\n",
       "      <td>0</td>\n",
       "      <td>0</td>\n",
       "      <td>0</td>\n",
       "      <td>0</td>\n",
       "      <td>3</td>\n",
       "      <td>11</td>\n",
       "      <td>0</td>\n",
       "    </tr>\n",
       "    <tr>\n",
       "      <th>2236</th>\n",
       "      <td>4001</td>\n",
       "      <td>1946</td>\n",
       "      <td>PhD</td>\n",
       "      <td>Together</td>\n",
       "      <td>64014.0</td>\n",
       "      <td>2</td>\n",
       "      <td>1</td>\n",
       "      <td>10-06-2014</td>\n",
       "      <td>56</td>\n",
       "      <td>406</td>\n",
       "      <td>...</td>\n",
       "      <td>7</td>\n",
       "      <td>0</td>\n",
       "      <td>0</td>\n",
       "      <td>0</td>\n",
       "      <td>1</td>\n",
       "      <td>0</td>\n",
       "      <td>0</td>\n",
       "      <td>3</td>\n",
       "      <td>11</td>\n",
       "      <td>0</td>\n",
       "    </tr>\n",
       "    <tr>\n",
       "      <th>2237</th>\n",
       "      <td>7270</td>\n",
       "      <td>1981</td>\n",
       "      <td>Graduation</td>\n",
       "      <td>Divorced</td>\n",
       "      <td>56981.0</td>\n",
       "      <td>0</td>\n",
       "      <td>0</td>\n",
       "      <td>25-01-2014</td>\n",
       "      <td>91</td>\n",
       "      <td>908</td>\n",
       "      <td>...</td>\n",
       "      <td>6</td>\n",
       "      <td>0</td>\n",
       "      <td>1</td>\n",
       "      <td>0</td>\n",
       "      <td>0</td>\n",
       "      <td>0</td>\n",
       "      <td>0</td>\n",
       "      <td>3</td>\n",
       "      <td>11</td>\n",
       "      <td>0</td>\n",
       "    </tr>\n",
       "    <tr>\n",
       "      <th>2238</th>\n",
       "      <td>8235</td>\n",
       "      <td>1956</td>\n",
       "      <td>Master</td>\n",
       "      <td>Together</td>\n",
       "      <td>69245.0</td>\n",
       "      <td>0</td>\n",
       "      <td>1</td>\n",
       "      <td>24-01-2014</td>\n",
       "      <td>8</td>\n",
       "      <td>428</td>\n",
       "      <td>...</td>\n",
       "      <td>3</td>\n",
       "      <td>0</td>\n",
       "      <td>0</td>\n",
       "      <td>0</td>\n",
       "      <td>0</td>\n",
       "      <td>0</td>\n",
       "      <td>0</td>\n",
       "      <td>3</td>\n",
       "      <td>11</td>\n",
       "      <td>0</td>\n",
       "    </tr>\n",
       "    <tr>\n",
       "      <th>2239</th>\n",
       "      <td>9405</td>\n",
       "      <td>1954</td>\n",
       "      <td>PhD</td>\n",
       "      <td>Married</td>\n",
       "      <td>52869.0</td>\n",
       "      <td>1</td>\n",
       "      <td>1</td>\n",
       "      <td>15-10-2012</td>\n",
       "      <td>40</td>\n",
       "      <td>84</td>\n",
       "      <td>...</td>\n",
       "      <td>7</td>\n",
       "      <td>0</td>\n",
       "      <td>0</td>\n",
       "      <td>0</td>\n",
       "      <td>0</td>\n",
       "      <td>0</td>\n",
       "      <td>0</td>\n",
       "      <td>3</td>\n",
       "      <td>11</td>\n",
       "      <td>1</td>\n",
       "    </tr>\n",
       "  </tbody>\n",
       "</table>\n",
       "<p>2216 rows × 29 columns</p>\n",
       "</div>"
      ],
      "text/plain": [
       "         ID  Year_Birth   Education Marital_Status   Income  Kidhome  \\\n",
       "0      5524        1957  Graduation         Single  58138.0        0   \n",
       "1      2174        1954  Graduation         Single  46344.0        1   \n",
       "2      4141        1965  Graduation       Together  71613.0        0   \n",
       "3      6182        1984  Graduation       Together  26646.0        1   \n",
       "4      5324        1981         PhD        Married  58293.0        1   \n",
       "...     ...         ...         ...            ...      ...      ...   \n",
       "2235  10870        1967  Graduation        Married  61223.0        0   \n",
       "2236   4001        1946         PhD       Together  64014.0        2   \n",
       "2237   7270        1981  Graduation       Divorced  56981.0        0   \n",
       "2238   8235        1956      Master       Together  69245.0        0   \n",
       "2239   9405        1954         PhD        Married  52869.0        1   \n",
       "\n",
       "      Teenhome Dt_Customer  Recency  MntWines  ...  NumWebVisitsMonth  \\\n",
       "0            0  04-09-2012       58       635  ...                  7   \n",
       "1            1  08-03-2014       38        11  ...                  5   \n",
       "2            0  21-08-2013       26       426  ...                  4   \n",
       "3            0  10-02-2014       26        11  ...                  6   \n",
       "4            0  19-01-2014       94       173  ...                  5   \n",
       "...        ...         ...      ...       ...  ...                ...   \n",
       "2235         1  13-06-2013       46       709  ...                  5   \n",
       "2236         1  10-06-2014       56       406  ...                  7   \n",
       "2237         0  25-01-2014       91       908  ...                  6   \n",
       "2238         1  24-01-2014        8       428  ...                  3   \n",
       "2239         1  15-10-2012       40        84  ...                  7   \n",
       "\n",
       "      AcceptedCmp3  AcceptedCmp4  AcceptedCmp5  AcceptedCmp1  AcceptedCmp2  \\\n",
       "0                0             0             0             0             0   \n",
       "1                0             0             0             0             0   \n",
       "2                0             0             0             0             0   \n",
       "3                0             0             0             0             0   \n",
       "4                0             0             0             0             0   \n",
       "...            ...           ...           ...           ...           ...   \n",
       "2235             0             0             0             0             0   \n",
       "2236             0             0             0             1             0   \n",
       "2237             0             1             0             0             0   \n",
       "2238             0             0             0             0             0   \n",
       "2239             0             0             0             0             0   \n",
       "\n",
       "      Complain  Z_CostContact  Z_Revenue  Response  \n",
       "0            0              3         11         1  \n",
       "1            0              3         11         0  \n",
       "2            0              3         11         0  \n",
       "3            0              3         11         0  \n",
       "4            0              3         11         0  \n",
       "...        ...            ...        ...       ...  \n",
       "2235         0              3         11         0  \n",
       "2236         0              3         11         0  \n",
       "2237         0              3         11         0  \n",
       "2238         0              3         11         0  \n",
       "2239         0              3         11         1  \n",
       "\n",
       "[2216 rows x 29 columns]"
      ]
     },
     "execution_count": 1221,
     "metadata": {},
     "output_type": "execute_result"
    }
   ],
   "source": [
    "df"
   ]
  },
  {
   "cell_type": "markdown",
   "id": "a00c00fa",
   "metadata": {},
   "source": [
    "### convert all columns to lowercase"
   ]
  },
  {
   "cell_type": "code",
   "execution_count": 1222,
   "id": "b1c70047",
   "metadata": {},
   "outputs": [],
   "source": [
    "df.columns= df.columns.str.lower()"
   ]
  },
  {
   "cell_type": "markdown",
   "id": "5630a4c5",
   "metadata": {},
   "source": [
    "### drop unnecessary columns"
   ]
  },
  {
   "cell_type": "code",
   "execution_count": 1223,
   "id": "e14ce513",
   "metadata": {},
   "outputs": [],
   "source": [
    "#drop \"ID\",\"Z_CostContact\" and \"Z_Revenue\" column\n",
    "df = df.drop(columns=[\"id\", \"z_costcontact\",\"z_revenue\" ])"
   ]
  },
  {
   "cell_type": "markdown",
   "id": "51c2d036",
   "metadata": {},
   "source": [
    "### create new column \"age\""
   ]
  },
  {
   "cell_type": "code",
   "execution_count": 1224,
   "id": "e079ea5b",
   "metadata": {},
   "outputs": [],
   "source": [
    "df[\"age\"] = 2014 - df[\"year_birth\"]"
   ]
  },
  {
   "cell_type": "code",
   "execution_count": 1225,
   "id": "a33c1510",
   "metadata": {},
   "outputs": [
    {
     "data": {
      "text/plain": [
       "0       57\n",
       "1       60\n",
       "2       49\n",
       "3       30\n",
       "4       33\n",
       "        ..\n",
       "2235    47\n",
       "2236    68\n",
       "2237    33\n",
       "2238    58\n",
       "2239    60\n",
       "Name: age, Length: 2216, dtype: int64"
      ]
     },
     "execution_count": 1225,
     "metadata": {},
     "output_type": "execute_result"
    }
   ],
   "source": [
    "df[\"age\"]"
   ]
  },
  {
   "cell_type": "code",
   "execution_count": 1226,
   "id": "56d7b8ef",
   "metadata": {},
   "outputs": [],
   "source": [
    "#drop \"year_birth\"\n",
    "df = df.drop(columns=[\"year_birth\"])"
   ]
  },
  {
   "cell_type": "markdown",
   "id": "5ed57fbb",
   "metadata": {},
   "source": [
    "### remove outliers in \"age\" column"
   ]
  },
  {
   "cell_type": "code",
   "execution_count": 1227,
   "id": "86217a6f",
   "metadata": {},
   "outputs": [
    {
     "data": {
      "text/plain": [
       "121"
      ]
     },
     "execution_count": 1227,
     "metadata": {},
     "output_type": "execute_result"
    }
   ],
   "source": [
    "max(df[\"age\"])"
   ]
  },
  {
   "cell_type": "code",
   "execution_count": 1228,
   "id": "9ed6779e",
   "metadata": {},
   "outputs": [
    {
     "name": "stderr",
     "output_type": "stream",
     "text": [
      "/opt/anaconda3/envs/DA_ENV/lib/python3.9/site-packages/seaborn/_decorators.py:36: FutureWarning: Pass the following variable as a keyword arg: x. From version 0.12, the only valid positional argument will be `data`, and passing other arguments without an explicit keyword will result in an error or misinterpretation.\n",
      "  warnings.warn(\n"
     ]
    },
    {
     "data": {
      "text/plain": [
       "<AxesSubplot:xlabel='age'>"
      ]
     },
     "execution_count": 1228,
     "metadata": {},
     "output_type": "execute_result"
    },
    {
     "data": {
      "image/png": "[encoded data removed]",
      "text/plain": [
       "<Figure size 432x288 with 1 Axes>"
      ]
     },
     "metadata": {
      "needs_background": "light"
     },
     "output_type": "display_data"
    }
   ],
   "source": [
    "sns.boxplot(df[\"age\"])"
   ]
  },
  {
   "cell_type": "code",
   "execution_count": 1229,
   "id": "0c136446",
   "metadata": {},
   "outputs": [
    {
     "data": {
      "text/html": [
       "<div>\n",
       "<style scoped>\n",
       "    .dataframe tbody tr th:only-of-type {\n",
       "        vertical-align: middle;\n",
       "    }\n",
       "\n",
       "    .dataframe tbody tr th {\n",
       "        vertical-align: top;\n",
       "    }\n",
       "\n",
       "    .dataframe thead th {\n",
       "        text-align: right;\n",
       "    }\n",
       "</style>\n",
       "<table border=\"1\" class=\"dataframe\">\n",
       "  <thead>\n",
       "    <tr style=\"text-align: right;\">\n",
       "      <th></th>\n",
       "      <th>education</th>\n",
       "      <th>marital_status</th>\n",
       "      <th>income</th>\n",
       "      <th>kidhome</th>\n",
       "      <th>teenhome</th>\n",
       "      <th>dt_customer</th>\n",
       "      <th>recency</th>\n",
       "      <th>mntwines</th>\n",
       "      <th>mntfruits</th>\n",
       "      <th>mntmeatproducts</th>\n",
       "      <th>...</th>\n",
       "      <th>numstorepurchases</th>\n",
       "      <th>numwebvisitsmonth</th>\n",
       "      <th>acceptedcmp3</th>\n",
       "      <th>acceptedcmp4</th>\n",
       "      <th>acceptedcmp5</th>\n",
       "      <th>acceptedcmp1</th>\n",
       "      <th>acceptedcmp2</th>\n",
       "      <th>complain</th>\n",
       "      <th>response</th>\n",
       "      <th>age</th>\n",
       "    </tr>\n",
       "  </thead>\n",
       "  <tbody>\n",
       "    <tr>\n",
       "      <th>239</th>\n",
       "      <td>2n Cycle</td>\n",
       "      <td>Single</td>\n",
       "      <td>60182.0</td>\n",
       "      <td>0</td>\n",
       "      <td>1</td>\n",
       "      <td>17-05-2014</td>\n",
       "      <td>23</td>\n",
       "      <td>8</td>\n",
       "      <td>0</td>\n",
       "      <td>5</td>\n",
       "      <td>...</td>\n",
       "      <td>2</td>\n",
       "      <td>4</td>\n",
       "      <td>0</td>\n",
       "      <td>0</td>\n",
       "      <td>0</td>\n",
       "      <td>0</td>\n",
       "      <td>0</td>\n",
       "      <td>0</td>\n",
       "      <td>0</td>\n",
       "      <td>121</td>\n",
       "    </tr>\n",
       "  </tbody>\n",
       "</table>\n",
       "<p>1 rows × 26 columns</p>\n",
       "</div>"
      ],
      "text/plain": [
       "    education marital_status   income  kidhome  teenhome dt_customer  recency  \\\n",
       "239  2n Cycle         Single  60182.0        0         1  17-05-2014       23   \n",
       "\n",
       "     mntwines  mntfruits  mntmeatproducts  ...  numstorepurchases  \\\n",
       "239         8          0                5  ...                  2   \n",
       "\n",
       "     numwebvisitsmonth  acceptedcmp3  acceptedcmp4  acceptedcmp5  \\\n",
       "239                  4             0             0             0   \n",
       "\n",
       "     acceptedcmp1  acceptedcmp2  complain  response  age  \n",
       "239             0             0         0         0  121  \n",
       "\n",
       "[1 rows x 26 columns]"
      ]
     },
     "execution_count": 1229,
     "metadata": {},
     "output_type": "execute_result"
    }
   ],
   "source": [
    "df.loc[df['age'] == 121]"
   ]
  },
  {
   "cell_type": "code",
   "execution_count": 1230,
   "id": "d33cccc3",
   "metadata": {},
   "outputs": [],
   "source": [
    "df.drop([239], axis=0, inplace=True)"
   ]
  },
  {
   "cell_type": "code",
   "execution_count": 1231,
   "id": "708a1ff2",
   "metadata": {},
   "outputs": [
    {
     "data": {
      "text/plain": [
       "115"
      ]
     },
     "execution_count": 1231,
     "metadata": {},
     "output_type": "execute_result"
    }
   ],
   "source": [
    "max(df[\"age\"])"
   ]
  },
  {
   "cell_type": "code",
   "execution_count": 1232,
   "id": "0e9edddb",
   "metadata": {},
   "outputs": [
    {
     "data": {
      "text/html": [
       "<div>\n",
       "<style scoped>\n",
       "    .dataframe tbody tr th:only-of-type {\n",
       "        vertical-align: middle;\n",
       "    }\n",
       "\n",
       "    .dataframe tbody tr th {\n",
       "        vertical-align: top;\n",
       "    }\n",
       "\n",
       "    .dataframe thead th {\n",
       "        text-align: right;\n",
       "    }\n",
       "</style>\n",
       "<table border=\"1\" class=\"dataframe\">\n",
       "  <thead>\n",
       "    <tr style=\"text-align: right;\">\n",
       "      <th></th>\n",
       "      <th>education</th>\n",
       "      <th>marital_status</th>\n",
       "      <th>income</th>\n",
       "      <th>kidhome</th>\n",
       "      <th>teenhome</th>\n",
       "      <th>dt_customer</th>\n",
       "      <th>recency</th>\n",
       "      <th>mntwines</th>\n",
       "      <th>mntfruits</th>\n",
       "      <th>mntmeatproducts</th>\n",
       "      <th>...</th>\n",
       "      <th>numstorepurchases</th>\n",
       "      <th>numwebvisitsmonth</th>\n",
       "      <th>acceptedcmp3</th>\n",
       "      <th>acceptedcmp4</th>\n",
       "      <th>acceptedcmp5</th>\n",
       "      <th>acceptedcmp1</th>\n",
       "      <th>acceptedcmp2</th>\n",
       "      <th>complain</th>\n",
       "      <th>response</th>\n",
       "      <th>age</th>\n",
       "    </tr>\n",
       "  </thead>\n",
       "  <tbody>\n",
       "    <tr>\n",
       "      <th>339</th>\n",
       "      <td>PhD</td>\n",
       "      <td>Together</td>\n",
       "      <td>83532.0</td>\n",
       "      <td>0</td>\n",
       "      <td>0</td>\n",
       "      <td>26-09-2013</td>\n",
       "      <td>36</td>\n",
       "      <td>755</td>\n",
       "      <td>144</td>\n",
       "      <td>562</td>\n",
       "      <td>...</td>\n",
       "      <td>4</td>\n",
       "      <td>1</td>\n",
       "      <td>0</td>\n",
       "      <td>0</td>\n",
       "      <td>1</td>\n",
       "      <td>0</td>\n",
       "      <td>0</td>\n",
       "      <td>0</td>\n",
       "      <td>0</td>\n",
       "      <td>115</td>\n",
       "    </tr>\n",
       "  </tbody>\n",
       "</table>\n",
       "<p>1 rows × 26 columns</p>\n",
       "</div>"
      ],
      "text/plain": [
       "    education marital_status   income  kidhome  teenhome dt_customer  recency  \\\n",
       "339       PhD       Together  83532.0        0         0  26-09-2013       36   \n",
       "\n",
       "     mntwines  mntfruits  mntmeatproducts  ...  numstorepurchases  \\\n",
       "339       755        144              562  ...                  4   \n",
       "\n",
       "     numwebvisitsmonth  acceptedcmp3  acceptedcmp4  acceptedcmp5  \\\n",
       "339                  1             0             0             1   \n",
       "\n",
       "     acceptedcmp1  acceptedcmp2  complain  response  age  \n",
       "339             0             0         0         0  115  \n",
       "\n",
       "[1 rows x 26 columns]"
      ]
     },
     "execution_count": 1232,
     "metadata": {},
     "output_type": "execute_result"
    }
   ],
   "source": [
    "df.loc[df['age'] == 115]"
   ]
  },
  {
   "cell_type": "code",
   "execution_count": 1233,
   "id": "cb582085",
   "metadata": {},
   "outputs": [],
   "source": [
    "df.drop([339], axis=0, inplace=True)"
   ]
  },
  {
   "cell_type": "code",
   "execution_count": 1234,
   "id": "524045d1",
   "metadata": {},
   "outputs": [
    {
     "data": {
      "text/plain": [
       "114"
      ]
     },
     "execution_count": 1234,
     "metadata": {},
     "output_type": "execute_result"
    }
   ],
   "source": [
    "max(df[\"age\"])"
   ]
  },
  {
   "cell_type": "code",
   "execution_count": 1235,
   "id": "a4efdaed",
   "metadata": {},
   "outputs": [
    {
     "data": {
      "text/html": [
       "<div>\n",
       "<style scoped>\n",
       "    .dataframe tbody tr th:only-of-type {\n",
       "        vertical-align: middle;\n",
       "    }\n",
       "\n",
       "    .dataframe tbody tr th {\n",
       "        vertical-align: top;\n",
       "    }\n",
       "\n",
       "    .dataframe thead th {\n",
       "        text-align: right;\n",
       "    }\n",
       "</style>\n",
       "<table border=\"1\" class=\"dataframe\">\n",
       "  <thead>\n",
       "    <tr style=\"text-align: right;\">\n",
       "      <th></th>\n",
       "      <th>education</th>\n",
       "      <th>marital_status</th>\n",
       "      <th>income</th>\n",
       "      <th>kidhome</th>\n",
       "      <th>teenhome</th>\n",
       "      <th>dt_customer</th>\n",
       "      <th>recency</th>\n",
       "      <th>mntwines</th>\n",
       "      <th>mntfruits</th>\n",
       "      <th>mntmeatproducts</th>\n",
       "      <th>...</th>\n",
       "      <th>numstorepurchases</th>\n",
       "      <th>numwebvisitsmonth</th>\n",
       "      <th>acceptedcmp3</th>\n",
       "      <th>acceptedcmp4</th>\n",
       "      <th>acceptedcmp5</th>\n",
       "      <th>acceptedcmp1</th>\n",
       "      <th>acceptedcmp2</th>\n",
       "      <th>complain</th>\n",
       "      <th>response</th>\n",
       "      <th>age</th>\n",
       "    </tr>\n",
       "  </thead>\n",
       "  <tbody>\n",
       "    <tr>\n",
       "      <th>192</th>\n",
       "      <td>2n Cycle</td>\n",
       "      <td>Divorced</td>\n",
       "      <td>36640.0</td>\n",
       "      <td>1</td>\n",
       "      <td>0</td>\n",
       "      <td>26-09-2013</td>\n",
       "      <td>99</td>\n",
       "      <td>15</td>\n",
       "      <td>6</td>\n",
       "      <td>8</td>\n",
       "      <td>...</td>\n",
       "      <td>2</td>\n",
       "      <td>5</td>\n",
       "      <td>0</td>\n",
       "      <td>0</td>\n",
       "      <td>0</td>\n",
       "      <td>0</td>\n",
       "      <td>0</td>\n",
       "      <td>1</td>\n",
       "      <td>0</td>\n",
       "      <td>114</td>\n",
       "    </tr>\n",
       "  </tbody>\n",
       "</table>\n",
       "<p>1 rows × 26 columns</p>\n",
       "</div>"
      ],
      "text/plain": [
       "    education marital_status   income  kidhome  teenhome dt_customer  recency  \\\n",
       "192  2n Cycle       Divorced  36640.0        1         0  26-09-2013       99   \n",
       "\n",
       "     mntwines  mntfruits  mntmeatproducts  ...  numstorepurchases  \\\n",
       "192        15          6                8  ...                  2   \n",
       "\n",
       "     numwebvisitsmonth  acceptedcmp3  acceptedcmp4  acceptedcmp5  \\\n",
       "192                  5             0             0             0   \n",
       "\n",
       "     acceptedcmp1  acceptedcmp2  complain  response  age  \n",
       "192             0             0         1         0  114  \n",
       "\n",
       "[1 rows x 26 columns]"
      ]
     },
     "execution_count": 1235,
     "metadata": {},
     "output_type": "execute_result"
    }
   ],
   "source": [
    "df.loc[df['age'] == 114]"
   ]
  },
  {
   "cell_type": "code",
   "execution_count": 1236,
   "id": "12df5c90",
   "metadata": {},
   "outputs": [],
   "source": [
    "df.drop([192], axis=0, inplace=True)"
   ]
  },
  {
   "cell_type": "code",
   "execution_count": 1237,
   "id": "f85a540d",
   "metadata": {},
   "outputs": [
    {
     "data": {
      "text/plain": [
       "74"
      ]
     },
     "execution_count": 1237,
     "metadata": {},
     "output_type": "execute_result"
    }
   ],
   "source": [
    "max(df[\"age\"])"
   ]
  },
  {
   "cell_type": "markdown",
   "id": "e44a3995",
   "metadata": {},
   "source": [
    "### convert \"dt_customer\" to datetime"
   ]
  },
  {
   "cell_type": "code",
   "execution_count": 1238,
   "id": "5079930a",
   "metadata": {},
   "outputs": [],
   "source": [
    "df[\"dt_customer\"] = pd.to_datetime(df[\"dt_customer\"])"
   ]
  },
  {
   "cell_type": "code",
   "execution_count": 1239,
   "id": "6a088c47",
   "metadata": {},
   "outputs": [
    {
     "data": {
      "text/plain": [
       "2012-08-31    12\n",
       "2012-12-09    11\n",
       "2013-02-14    11\n",
       "2014-12-05    11\n",
       "2014-05-22    10\n",
       "              ..\n",
       "2013-01-24     1\n",
       "2013-07-20     1\n",
       "2014-03-02     1\n",
       "2013-09-11     1\n",
       "2014-09-01     1\n",
       "Name: dt_customer, Length: 662, dtype: int64"
      ]
     },
     "execution_count": 1239,
     "metadata": {},
     "output_type": "execute_result"
    }
   ],
   "source": [
    "df[\"dt_customer\"].value_counts()"
   ]
  },
  {
   "cell_type": "markdown",
   "id": "ce9c3098",
   "metadata": {},
   "source": [
    "dates = []\n",
    "for i in df[\"dt_customer\"]:\n",
    "    i = i.date()\n",
    "    dates.append(i)"
   ]
  },
  {
   "cell_type": "code",
   "execution_count": 1240,
   "id": "a43eff04",
   "metadata": {},
   "outputs": [
    {
     "data": {
      "text/plain": [
       "Timestamp('2014-12-06 00:00:00')"
      ]
     },
     "execution_count": 1240,
     "metadata": {},
     "output_type": "execute_result"
    }
   ],
   "source": [
    "max(df[\"dt_customer\"])"
   ]
  },
  {
   "cell_type": "code",
   "execution_count": 1241,
   "id": "cc34100f",
   "metadata": {},
   "outputs": [
    {
     "ename": "AttributeError",
     "evalue": "'DatetimeProperties' object has no attribute 'days'",
     "output_type": "error",
     "traceback": [
      "\u001b[0;31m---------------------------------------------------------------------------\u001b[0m",
      "\u001b[0;31mAttributeError\u001b[0m                            Traceback (most recent call last)",
      "\u001b[0;32m/var/folders/jl/wz2cfppd1qv9v95b9l5nqm3w0000gn/T/ipykernel_8280/1709269915.py\u001b[0m in \u001b[0;36m<module>\u001b[0;34m\u001b[0m\n\u001b[0;32m----> 1\u001b[0;31m \u001b[0mdf\u001b[0m\u001b[0;34m[\u001b[0m\u001b[0;34m\"dt_customer\"\u001b[0m\u001b[0;34m]\u001b[0m \u001b[0;34m=\u001b[0m \u001b[0mmax\u001b[0m\u001b[0;34m(\u001b[0m\u001b[0mdf\u001b[0m\u001b[0;34m[\u001b[0m\u001b[0;34m\"dt_customer\"\u001b[0m\u001b[0;34m]\u001b[0m\u001b[0;34m)\u001b[0m \u001b[0;34m-\u001b[0m \u001b[0mdf\u001b[0m\u001b[0;34m[\u001b[0m\u001b[0;34m\"dt_customer\"\u001b[0m\u001b[0;34m]\u001b[0m\u001b[0;34m.\u001b[0m\u001b[0mdt\u001b[0m\u001b[0;34m.\u001b[0m\u001b[0mdays\u001b[0m\u001b[0;34m//\u001b[0m\u001b[0;36m30\u001b[0m\u001b[0;34m\u001b[0m\u001b[0;34m\u001b[0m\u001b[0m\n\u001b[0m",
      "\u001b[0;31mAttributeError\u001b[0m: 'DatetimeProperties' object has no attribute 'days'"
     ]
    }
   ],
   "source": [
    "df[\"dt_customer\"] = max(df[\"dt_customer\"]) - df[\"dt_customer\"].dt.days//30"
   ]
  },
  {
   "cell_type": "code",
   "execution_count": null,
   "id": "2a100ca8",
   "metadata": {},
   "outputs": [],
   "source": [
    "df"
   ]
  },
  {
   "cell_type": "markdown",
   "id": "c7fe11fd",
   "metadata": {},
   "source": [
    "### clean education column"
   ]
  },
  {
   "cell_type": "code",
   "execution_count": null,
   "id": "afd1c78e",
   "metadata": {},
   "outputs": [],
   "source": [
    "df[\"education\"].unique()"
   ]
  },
  {
   "cell_type": "code",
   "execution_count": null,
   "id": "d4ffe3ff",
   "metadata": {},
   "outputs": [],
   "source": [
    "def clean_edu(x):\n",
    "    if x in ['Basic', '2n Cycle']:\n",
    "        return \"Undergraduate\"\n",
    "    elif x in ['Graduation']:\n",
    "        return \"Graduate\"\n",
    "    elif x in ['Master', 'PhD']:\n",
    "        return \"Postgraduate\""
   ]
  },
  {
   "cell_type": "code",
   "execution_count": null,
   "id": "5ac155b4",
   "metadata": {},
   "outputs": [],
   "source": [
    "df['education'] = list(map(clean_edu, df['education']))"
   ]
  },
  {
   "cell_type": "markdown",
   "id": "f253272e",
   "metadata": {},
   "source": [
    "### convert \"income\" to int"
   ]
  },
  {
   "cell_type": "code",
   "execution_count": null,
   "id": "bb9db398",
   "metadata": {},
   "outputs": [],
   "source": [
    "max(df[\"income\"])"
   ]
  },
  {
   "cell_type": "code",
   "execution_count": null,
   "id": "922240bc",
   "metadata": {},
   "outputs": [],
   "source": [
    "df.loc[df['income'] == 666666.0]"
   ]
  },
  {
   "cell_type": "code",
   "execution_count": null,
   "id": "4103c5bb",
   "metadata": {},
   "outputs": [],
   "source": [
    "df.drop([2233], axis=0, inplace=True)"
   ]
  },
  {
   "cell_type": "code",
   "execution_count": null,
   "id": "a31637d1",
   "metadata": {},
   "outputs": [],
   "source": [
    "df[\"income\"] = df[\"income\"].astype(\"Int64\")"
   ]
  },
  {
   "cell_type": "markdown",
   "id": "efcfd927",
   "metadata": {},
   "source": [
    "### clean \"marital_status\""
   ]
  },
  {
   "cell_type": "code",
   "execution_count": null,
   "id": "c9b8baa7",
   "metadata": {},
   "outputs": [],
   "source": [
    "df[\"marital_status\"].unique()"
   ]
  },
  {
   "cell_type": "code",
   "execution_count": null,
   "id": "460e5074",
   "metadata": {},
   "outputs": [],
   "source": [
    "df.loc[df['marital_status'] == \"YOLO\"]"
   ]
  },
  {
   "cell_type": "code",
   "execution_count": null,
   "id": "3454df7e",
   "metadata": {},
   "outputs": [],
   "source": [
    "#remove \"YOLO\" from \"marital_status\"\n",
    "df = df.drop([2177, 2202])"
   ]
  },
  {
   "cell_type": "code",
   "execution_count": null,
   "id": "1a4d44df",
   "metadata": {},
   "outputs": [],
   "source": [
    "df[\"marital_status\"].unique()"
   ]
  },
  {
   "cell_type": "code",
   "execution_count": null,
   "id": "de05cd7c",
   "metadata": {},
   "outputs": [],
   "source": [
    "def clean_marital(x):\n",
    "    if x in ['Together', 'Married']:\n",
    "        return \"together\"\n",
    "    elif x in [\"Single\", \"Alone\", \"Widow\", \"Divorced\", 'Absurd']:\n",
    "        return \"single\""
   ]
  },
  {
   "cell_type": "code",
   "execution_count": null,
   "id": "0840ad48",
   "metadata": {},
   "outputs": [],
   "source": [
    "df['marital_status'] = list(map(clean_marital, df['marital_status']))"
   ]
  },
  {
   "cell_type": "markdown",
   "id": "f817ddd5",
   "metadata": {},
   "source": [
    "### new column \"children\""
   ]
  },
  {
   "cell_type": "code",
   "execution_count": null,
   "id": "7c89b266",
   "metadata": {},
   "outputs": [],
   "source": [
    "#concat \"kidhome\" and \"teenhome\" and create new column \"children\"\n",
    "df[\"children\"]= df[\"kidhome\"] + df[\"teenhome\"]"
   ]
  },
  {
   "cell_type": "code",
   "execution_count": null,
   "id": "215c2b9c",
   "metadata": {},
   "outputs": [],
   "source": [
    "#drop \"kidhome\", \"teenhome\" columns\n",
    "df = df.drop(columns=[\"kidhome\",\"teenhome\"])"
   ]
  },
  {
   "cell_type": "markdown",
   "id": "2a75e7b9",
   "metadata": {},
   "source": [
    "### concatenate campaigns "
   ]
  },
  {
   "cell_type": "code",
   "execution_count": null,
   "id": "76e5e99f",
   "metadata": {},
   "outputs": [],
   "source": [
    "df[\"acc_camp\"] = df[\"acceptedcmp1\"] + df[\"acceptedcmp2\"] + df[\"acceptedcmp3\"] + df[\"acceptedcmp4\"] + df[\"acceptedcmp5\"]"
   ]
  },
  {
   "cell_type": "code",
   "execution_count": null,
   "id": "aee89ad6",
   "metadata": {},
   "outputs": [],
   "source": [
    "df[\"acc_camp\"].value_counts()"
   ]
  },
  {
   "cell_type": "code",
   "execution_count": null,
   "id": "68184bae",
   "metadata": {},
   "outputs": [],
   "source": [
    "df = df.drop(columns=[\"acceptedcmp1\", \"acceptedcmp2\",\"acceptedcmp3\", \"acceptedcmp4\", \"acceptedcmp5\" ])"
   ]
  },
  {
   "cell_type": "code",
   "execution_count": null,
   "id": "e595e193",
   "metadata": {},
   "outputs": [],
   "source": [
    "df"
   ]
  },
  {
   "cell_type": "code",
   "execution_count": null,
   "id": "2e578b8b",
   "metadata": {},
   "outputs": [],
   "source": [
    "# column \"household_size\"\n",
    "# column \"total_amount_spent\""
   ]
  },
  {
   "cell_type": "markdown",
   "id": "bd5aa038",
   "metadata": {},
   "source": [
    "### concatenate columns amounts spent "
   ]
  },
  {
   "cell_type": "code",
   "execution_count": null,
   "id": "6608f976",
   "metadata": {},
   "outputs": [],
   "source": [
    "df[\"total_spent\"] = df[\"mntwines\"]+ df[\"mntfruits\"]+ df[\"mntmeatproducts\"]+ df[\"mntfishproducts\"]+ df[\"mntsweetproducts\"]+ df[\"mntgoldprods\"]"
   ]
  },
  {
   "cell_type": "markdown",
   "id": "bd51fdb5",
   "metadata": {},
   "source": [
    "## plotting"
   ]
  },
  {
   "cell_type": "markdown",
   "id": "92a4117d",
   "metadata": {},
   "source": [
    "### correlation heatmap"
   ]
  },
  {
   "cell_type": "code",
   "execution_count": null,
   "id": "9f30c538",
   "metadata": {},
   "outputs": [],
   "source": [
    "corr = df.corr()\n",
    "mask = np.zeros_like(corr)\n",
    "mask[np.triu_indices_from(mask)] = True\n",
    "with sns.axes_style(\"white\"):\n",
    "    f, ax = plt.subplots(figsize=(20, 20))\n",
    "    ax = sns.heatmap(corr, mask=mask,cmap='coolwarm', vmin=-1,vmax=1,annot=True, square=True)"
   ]
  },
  {
   "cell_type": "markdown",
   "id": "23af9b3b",
   "metadata": {},
   "source": [
    "### export excel to tableau"
   ]
  },
  {
   "cell_type": "code",
   "execution_count": null,
   "id": "9cb4ab64",
   "metadata": {},
   "outputs": [],
   "source": [
    "df.to_excel(r'df_clean.xlsx', index = False)"
   ]
  },
  {
   "cell_type": "code",
   "execution_count": null,
   "id": "eaa47d99",
   "metadata": {},
   "outputs": [],
   "source": [
    "df.describe()"
   ]
  },
  {
   "cell_type": "markdown",
   "id": "d812b623",
   "metadata": {},
   "source": [
    "### histograms"
   ]
  },
  {
   "cell_type": "code",
   "execution_count": null,
   "id": "797bbf02",
   "metadata": {},
   "outputs": [],
   "source": [
    "df.hist(figsize=(16,16))\n",
    "plt.show()"
   ]
  },
  {
   "cell_type": "markdown",
   "id": "d1a1273e",
   "metadata": {},
   "source": [
    "## preprocessing for modeling"
   ]
  },
  {
   "cell_type": "code",
   "execution_count": null,
   "id": "4e08270b",
   "metadata": {},
   "outputs": [],
   "source": [
    "X = df"
   ]
  },
  {
   "cell_type": "markdown",
   "id": "0a6b873c",
   "metadata": {},
   "source": [
    "### encode categorical features"
   ]
  },
  {
   "cell_type": "code",
   "execution_count": null,
   "id": "4c874864",
   "metadata": {},
   "outputs": [],
   "source": []
  },
  {
   "cell_type": "code",
   "execution_count": null,
   "id": "099bdff2",
   "metadata": {},
   "outputs": [],
   "source": [
    "scaler = StandardScaler()\n",
    "scaler.fit(X)\n",
    "X_scaled = scaler.transform(X)\n",
    "X_scaled_df = pd.DataFrame(X_scaled, columns = X.columns)\n",
    "display(X.head())\n",
    "print()\n",
    "display(X_scaled_df.head())"
   ]
  },
  {
   "cell_type": "code",
   "execution_count": null,
   "id": "71ab5449",
   "metadata": {},
   "outputs": [],
   "source": []
  }
 ],
 "metadata": {
  "kernelspec": {
   "display_name": "Python 3 (ipykernel)",
   "language": "python",
   "name": "python3"
  },
  "language_info": {
   "codemirror_mode": {
    "name": "ipython",
    "version": 3
   },
   "file_extension": ".py",
   "mimetype": "text/x-python",
   "name": "python",
   "nbconvert_exporter": "python",
   "pygments_lexer": "ipython3",
   "version": "3.9.7"
  },
  "toc": {
   "base_numbering": 1,
   "nav_menu": {},
   "number_sections": true,
   "sideBar": true,
   "skip_h1_title": false,
   "title_cell": "Table of Contents",
   "title_sidebar": "Contents",
   "toc_cell": false,
   "toc_position": {
    "height": "calc(100% - 180px)",
    "left": "10px",
    "top": "150px",
    "width": "220.59375px"
   },
   "toc_section_display": true,
   "toc_window_display": true
  }
 },
 "nbformat": 4,
 "nbformat_minor": 5
}
