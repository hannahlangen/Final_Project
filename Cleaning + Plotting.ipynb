{
 "cells": [
  {
   "cell_type": "markdown",
   "id": "6f39cc5f",
   "metadata": {},
   "source": [
    "## Import Libraries and load Data"
   ]
  },
  {
   "cell_type": "code",
   "execution_count": 4062,
   "id": "1ce2d128",
   "metadata": {},
   "outputs": [],
   "source": [
    "import numpy as np\n",
    "import pandas as pd\n",
    "import datetime as dt\n",
    "import seaborn as sns\n",
    "import matplotlib\n",
    "from matplotlib import colors\n",
    "from matplotlib import pyplot\n",
    "import matplotlib.pyplot as plt\n",
    "from mpl_toolkits.mplot3d import Axes3D\n",
    "from matplotlib.colors import ListedColormap\n",
    "from sklearn.preprocessing import LabelEncoder\n",
    "from sklearn.preprocessing import StandardScaler\n",
    "from sklearn.decomposition import PCA\n",
    "from sklearn import cluster\n",
    "from sklearn.cluster import KMeans\n",
    "from sklearn.cluster import AgglomerativeClustering\n",
    "from sklearn import metrics\n",
    "from sklearn.metrics import silhouette_score\n",
    "import warnings\n",
    "import sys\n",
    "import pickle\n",
    "from yellowbrick.cluster import KElbowVisualizer"
   ]
  },
  {
   "cell_type": "code",
   "execution_count": 4063,
   "id": "169d5d10",
   "metadata": {},
   "outputs": [],
   "source": [
    "df = pd.read_csv(\"marketing_campaign.csv\", sep = '\\t')"
   ]
  },
  {
   "cell_type": "markdown",
   "id": "8f1c2b99",
   "metadata": {},
   "source": [
    "## Data Cleaning"
   ]
  },
  {
   "cell_type": "markdown",
   "id": "fda920af",
   "metadata": {},
   "source": [
    "### drop missing values "
   ]
  },
  {
   "cell_type": "code",
   "execution_count": 4064,
   "id": "20721334",
   "metadata": {},
   "outputs": [],
   "source": [
    "df.dropna(inplace=True)"
   ]
  },
  {
   "cell_type": "code",
   "execution_count": 4065,
   "id": "0cae2b83",
   "metadata": {},
   "outputs": [
    {
     "data": {
      "text/html": [
       "<div>\n",
       "<style scoped>\n",
       "    .dataframe tbody tr th:only-of-type {\n",
       "        vertical-align: middle;\n",
       "    }\n",
       "\n",
       "    .dataframe tbody tr th {\n",
       "        vertical-align: top;\n",
       "    }\n",
       "\n",
       "    .dataframe thead th {\n",
       "        text-align: right;\n",
       "    }\n",
       "</style>\n",
       "<table border=\"1\" class=\"dataframe\">\n",
       "  <thead>\n",
       "    <tr style=\"text-align: right;\">\n",
       "      <th></th>\n",
       "      <th>ID</th>\n",
       "      <th>Year_Birth</th>\n",
       "      <th>Education</th>\n",
       "      <th>Marital_Status</th>\n",
       "      <th>Income</th>\n",
       "      <th>Kidhome</th>\n",
       "      <th>Teenhome</th>\n",
       "      <th>Dt_Customer</th>\n",
       "      <th>Recency</th>\n",
       "      <th>MntWines</th>\n",
       "      <th>...</th>\n",
       "      <th>NumWebVisitsMonth</th>\n",
       "      <th>AcceptedCmp3</th>\n",
       "      <th>AcceptedCmp4</th>\n",
       "      <th>AcceptedCmp5</th>\n",
       "      <th>AcceptedCmp1</th>\n",
       "      <th>AcceptedCmp2</th>\n",
       "      <th>Complain</th>\n",
       "      <th>Z_CostContact</th>\n",
       "      <th>Z_Revenue</th>\n",
       "      <th>Response</th>\n",
       "    </tr>\n",
       "  </thead>\n",
       "  <tbody>\n",
       "    <tr>\n",
       "      <th>0</th>\n",
       "      <td>5524</td>\n",
       "      <td>1957</td>\n",
       "      <td>Graduation</td>\n",
       "      <td>Single</td>\n",
       "      <td>5813800.00%</td>\n",
       "      <td>0</td>\n",
       "      <td>0</td>\n",
       "      <td>04-09-2012</td>\n",
       "      <td>58</td>\n",
       "      <td>635</td>\n",
       "      <td>...</td>\n",
       "      <td>7</td>\n",
       "      <td>0</td>\n",
       "      <td>0</td>\n",
       "      <td>0</td>\n",
       "      <td>0</td>\n",
       "      <td>0</td>\n",
       "      <td>0</td>\n",
       "      <td>3</td>\n",
       "      <td>11</td>\n",
       "      <td>1</td>\n",
       "    </tr>\n",
       "    <tr>\n",
       "      <th>1</th>\n",
       "      <td>2174</td>\n",
       "      <td>1954</td>\n",
       "      <td>Graduation</td>\n",
       "      <td>Single</td>\n",
       "      <td>4634400.00%</td>\n",
       "      <td>1</td>\n",
       "      <td>1</td>\n",
       "      <td>08-03-2014</td>\n",
       "      <td>38</td>\n",
       "      <td>11</td>\n",
       "      <td>...</td>\n",
       "      <td>5</td>\n",
       "      <td>0</td>\n",
       "      <td>0</td>\n",
       "      <td>0</td>\n",
       "      <td>0</td>\n",
       "      <td>0</td>\n",
       "      <td>0</td>\n",
       "      <td>3</td>\n",
       "      <td>11</td>\n",
       "      <td>0</td>\n",
       "    </tr>\n",
       "    <tr>\n",
       "      <th>2</th>\n",
       "      <td>4141</td>\n",
       "      <td>1965</td>\n",
       "      <td>Graduation</td>\n",
       "      <td>Together</td>\n",
       "      <td>7161300.00%</td>\n",
       "      <td>0</td>\n",
       "      <td>0</td>\n",
       "      <td>21-08-2013</td>\n",
       "      <td>26</td>\n",
       "      <td>426</td>\n",
       "      <td>...</td>\n",
       "      <td>4</td>\n",
       "      <td>0</td>\n",
       "      <td>0</td>\n",
       "      <td>0</td>\n",
       "      <td>0</td>\n",
       "      <td>0</td>\n",
       "      <td>0</td>\n",
       "      <td>3</td>\n",
       "      <td>11</td>\n",
       "      <td>0</td>\n",
       "    </tr>\n",
       "    <tr>\n",
       "      <th>3</th>\n",
       "      <td>6182</td>\n",
       "      <td>1984</td>\n",
       "      <td>Graduation</td>\n",
       "      <td>Together</td>\n",
       "      <td>2664600.00%</td>\n",
       "      <td>1</td>\n",
       "      <td>0</td>\n",
       "      <td>10-02-2014</td>\n",
       "      <td>26</td>\n",
       "      <td>11</td>\n",
       "      <td>...</td>\n",
       "      <td>6</td>\n",
       "      <td>0</td>\n",
       "      <td>0</td>\n",
       "      <td>0</td>\n",
       "      <td>0</td>\n",
       "      <td>0</td>\n",
       "      <td>0</td>\n",
       "      <td>3</td>\n",
       "      <td>11</td>\n",
       "      <td>0</td>\n",
       "    </tr>\n",
       "    <tr>\n",
       "      <th>4</th>\n",
       "      <td>5324</td>\n",
       "      <td>1981</td>\n",
       "      <td>PhD</td>\n",
       "      <td>Married</td>\n",
       "      <td>5829300.00%</td>\n",
       "      <td>1</td>\n",
       "      <td>0</td>\n",
       "      <td>19-01-2014</td>\n",
       "      <td>94</td>\n",
       "      <td>173</td>\n",
       "      <td>...</td>\n",
       "      <td>5</td>\n",
       "      <td>0</td>\n",
       "      <td>0</td>\n",
       "      <td>0</td>\n",
       "      <td>0</td>\n",
       "      <td>0</td>\n",
       "      <td>0</td>\n",
       "      <td>3</td>\n",
       "      <td>11</td>\n",
       "      <td>0</td>\n",
       "    </tr>\n",
       "    <tr>\n",
       "      <th>...</th>\n",
       "      <td>...</td>\n",
       "      <td>...</td>\n",
       "      <td>...</td>\n",
       "      <td>...</td>\n",
       "      <td>...</td>\n",
       "      <td>...</td>\n",
       "      <td>...</td>\n",
       "      <td>...</td>\n",
       "      <td>...</td>\n",
       "      <td>...</td>\n",
       "      <td>...</td>\n",
       "      <td>...</td>\n",
       "      <td>...</td>\n",
       "      <td>...</td>\n",
       "      <td>...</td>\n",
       "      <td>...</td>\n",
       "      <td>...</td>\n",
       "      <td>...</td>\n",
       "      <td>...</td>\n",
       "      <td>...</td>\n",
       "      <td>...</td>\n",
       "    </tr>\n",
       "    <tr>\n",
       "      <th>2235</th>\n",
       "      <td>10870</td>\n",
       "      <td>1967</td>\n",
       "      <td>Graduation</td>\n",
       "      <td>Married</td>\n",
       "      <td>6122300.00%</td>\n",
       "      <td>0</td>\n",
       "      <td>1</td>\n",
       "      <td>13-06-2013</td>\n",
       "      <td>46</td>\n",
       "      <td>709</td>\n",
       "      <td>...</td>\n",
       "      <td>5</td>\n",
       "      <td>0</td>\n",
       "      <td>0</td>\n",
       "      <td>0</td>\n",
       "      <td>0</td>\n",
       "      <td>0</td>\n",
       "      <td>0</td>\n",
       "      <td>3</td>\n",
       "      <td>11</td>\n",
       "      <td>0</td>\n",
       "    </tr>\n",
       "    <tr>\n",
       "      <th>2236</th>\n",
       "      <td>4001</td>\n",
       "      <td>1946</td>\n",
       "      <td>PhD</td>\n",
       "      <td>Together</td>\n",
       "      <td>6401400.00%</td>\n",
       "      <td>2</td>\n",
       "      <td>1</td>\n",
       "      <td>10-06-2014</td>\n",
       "      <td>56</td>\n",
       "      <td>406</td>\n",
       "      <td>...</td>\n",
       "      <td>7</td>\n",
       "      <td>0</td>\n",
       "      <td>0</td>\n",
       "      <td>0</td>\n",
       "      <td>1</td>\n",
       "      <td>0</td>\n",
       "      <td>0</td>\n",
       "      <td>3</td>\n",
       "      <td>11</td>\n",
       "      <td>0</td>\n",
       "    </tr>\n",
       "    <tr>\n",
       "      <th>2237</th>\n",
       "      <td>7270</td>\n",
       "      <td>1981</td>\n",
       "      <td>Graduation</td>\n",
       "      <td>Divorced</td>\n",
       "      <td>5698100.00%</td>\n",
       "      <td>0</td>\n",
       "      <td>0</td>\n",
       "      <td>25-01-2014</td>\n",
       "      <td>91</td>\n",
       "      <td>908</td>\n",
       "      <td>...</td>\n",
       "      <td>6</td>\n",
       "      <td>0</td>\n",
       "      <td>1</td>\n",
       "      <td>0</td>\n",
       "      <td>0</td>\n",
       "      <td>0</td>\n",
       "      <td>0</td>\n",
       "      <td>3</td>\n",
       "      <td>11</td>\n",
       "      <td>0</td>\n",
       "    </tr>\n",
       "    <tr>\n",
       "      <th>2238</th>\n",
       "      <td>8235</td>\n",
       "      <td>1956</td>\n",
       "      <td>Master</td>\n",
       "      <td>Together</td>\n",
       "      <td>6924500.00%</td>\n",
       "      <td>0</td>\n",
       "      <td>1</td>\n",
       "      <td>24-01-2014</td>\n",
       "      <td>8</td>\n",
       "      <td>428</td>\n",
       "      <td>...</td>\n",
       "      <td>3</td>\n",
       "      <td>0</td>\n",
       "      <td>0</td>\n",
       "      <td>0</td>\n",
       "      <td>0</td>\n",
       "      <td>0</td>\n",
       "      <td>0</td>\n",
       "      <td>3</td>\n",
       "      <td>11</td>\n",
       "      <td>0</td>\n",
       "    </tr>\n",
       "    <tr>\n",
       "      <th>2239</th>\n",
       "      <td>9405</td>\n",
       "      <td>1954</td>\n",
       "      <td>PhD</td>\n",
       "      <td>Married</td>\n",
       "      <td>5286900.00%</td>\n",
       "      <td>1</td>\n",
       "      <td>1</td>\n",
       "      <td>15-10-2012</td>\n",
       "      <td>40</td>\n",
       "      <td>84</td>\n",
       "      <td>...</td>\n",
       "      <td>7</td>\n",
       "      <td>0</td>\n",
       "      <td>0</td>\n",
       "      <td>0</td>\n",
       "      <td>0</td>\n",
       "      <td>0</td>\n",
       "      <td>0</td>\n",
       "      <td>3</td>\n",
       "      <td>11</td>\n",
       "      <td>1</td>\n",
       "    </tr>\n",
       "  </tbody>\n",
       "</table>\n",
       "<p>2216 rows × 29 columns</p>\n",
       "</div>"
      ],
      "text/plain": [
       "         ID  Year_Birth   Education Marital_Status      Income  Kidhome  \\\n",
       "0      5524        1957  Graduation         Single 5813800.00%        0   \n",
       "1      2174        1954  Graduation         Single 4634400.00%        1   \n",
       "2      4141        1965  Graduation       Together 7161300.00%        0   \n",
       "3      6182        1984  Graduation       Together 2664600.00%        1   \n",
       "4      5324        1981         PhD        Married 5829300.00%        1   \n",
       "...     ...         ...         ...            ...         ...      ...   \n",
       "2235  10870        1967  Graduation        Married 6122300.00%        0   \n",
       "2236   4001        1946         PhD       Together 6401400.00%        2   \n",
       "2237   7270        1981  Graduation       Divorced 5698100.00%        0   \n",
       "2238   8235        1956      Master       Together 6924500.00%        0   \n",
       "2239   9405        1954         PhD        Married 5286900.00%        1   \n",
       "\n",
       "      Teenhome Dt_Customer  Recency  MntWines  ...  NumWebVisitsMonth  \\\n",
       "0            0  04-09-2012       58       635  ...                  7   \n",
       "1            1  08-03-2014       38        11  ...                  5   \n",
       "2            0  21-08-2013       26       426  ...                  4   \n",
       "3            0  10-02-2014       26        11  ...                  6   \n",
       "4            0  19-01-2014       94       173  ...                  5   \n",
       "...        ...         ...      ...       ...  ...                ...   \n",
       "2235         1  13-06-2013       46       709  ...                  5   \n",
       "2236         1  10-06-2014       56       406  ...                  7   \n",
       "2237         0  25-01-2014       91       908  ...                  6   \n",
       "2238         1  24-01-2014        8       428  ...                  3   \n",
       "2239         1  15-10-2012       40        84  ...                  7   \n",
       "\n",
       "      AcceptedCmp3  AcceptedCmp4  AcceptedCmp5  AcceptedCmp1  AcceptedCmp2  \\\n",
       "0                0             0             0             0             0   \n",
       "1                0             0             0             0             0   \n",
       "2                0             0             0             0             0   \n",
       "3                0             0             0             0             0   \n",
       "4                0             0             0             0             0   \n",
       "...            ...           ...           ...           ...           ...   \n",
       "2235             0             0             0             0             0   \n",
       "2236             0             0             0             1             0   \n",
       "2237             0             1             0             0             0   \n",
       "2238             0             0             0             0             0   \n",
       "2239             0             0             0             0             0   \n",
       "\n",
       "      Complain  Z_CostContact  Z_Revenue  Response  \n",
       "0            0              3         11         1  \n",
       "1            0              3         11         0  \n",
       "2            0              3         11         0  \n",
       "3            0              3         11         0  \n",
       "4            0              3         11         0  \n",
       "...        ...            ...        ...       ...  \n",
       "2235         0              3         11         0  \n",
       "2236         0              3         11         0  \n",
       "2237         0              3         11         0  \n",
       "2238         0              3         11         0  \n",
       "2239         0              3         11         1  \n",
       "\n",
       "[2216 rows x 29 columns]"
      ]
     },
     "execution_count": 4065,
     "metadata": {},
     "output_type": "execute_result"
    }
   ],
   "source": [
    "df"
   ]
  },
  {
   "cell_type": "markdown",
   "id": "657e339b",
   "metadata": {},
   "source": [
    "### convert all columns to lowercase"
   ]
  },
  {
   "cell_type": "code",
   "execution_count": 4066,
   "id": "b568f590",
   "metadata": {},
   "outputs": [],
   "source": [
    "df.columns= df.columns.str.lower()"
   ]
  },
  {
   "cell_type": "markdown",
   "id": "4569b4e0",
   "metadata": {},
   "source": [
    "### drop unnecessary columns"
   ]
  },
  {
   "cell_type": "code",
   "execution_count": 4067,
   "id": "56ed2caa",
   "metadata": {},
   "outputs": [],
   "source": [
    "df = df.drop(columns=[\"id\", \"z_costcontact\",\"z_revenue\"])"
   ]
  },
  {
   "cell_type": "markdown",
   "id": "f7923a79",
   "metadata": {},
   "source": [
    "### create new column \"age\""
   ]
  },
  {
   "cell_type": "code",
   "execution_count": 4068,
   "id": "526f9fbe",
   "metadata": {},
   "outputs": [],
   "source": [
    "df[\"age\"] = 2014 - df[\"year_birth\"]"
   ]
  },
  {
   "cell_type": "code",
   "execution_count": 4069,
   "id": "371b42ae",
   "metadata": {},
   "outputs": [
    {
     "data": {
      "text/plain": [
       "0       57\n",
       "1       60\n",
       "2       49\n",
       "3       30\n",
       "4       33\n",
       "        ..\n",
       "2235    47\n",
       "2236    68\n",
       "2237    33\n",
       "2238    58\n",
       "2239    60\n",
       "Name: age, Length: 2216, dtype: int64"
      ]
     },
     "execution_count": 4069,
     "metadata": {},
     "output_type": "execute_result"
    }
   ],
   "source": [
    "df[\"age\"]"
   ]
  },
  {
   "cell_type": "code",
   "execution_count": 4070,
   "id": "fc4aca3f",
   "metadata": {},
   "outputs": [],
   "source": [
    "#drop \"year_birth\"\n",
    "df = df.drop(columns=[\"year_birth\"])"
   ]
  },
  {
   "cell_type": "markdown",
   "id": "765ce3d9",
   "metadata": {},
   "source": [
    "### remove outliers in \"age\" column"
   ]
  },
  {
   "cell_type": "code",
   "execution_count": 4071,
   "id": "e50a0266",
   "metadata": {},
   "outputs": [
    {
     "data": {
      "text/plain": [
       "121"
      ]
     },
     "execution_count": 4071,
     "metadata": {},
     "output_type": "execute_result"
    }
   ],
   "source": [
    "max(df[\"age\"])"
   ]
  },
  {
   "cell_type": "code",
   "execution_count": 4072,
   "id": "8d30463f",
   "metadata": {},
   "outputs": [
    {
     "name": "stderr",
     "output_type": "stream",
     "text": [
      "/opt/anaconda3/envs/DA_ENV/lib/python3.9/site-packages/seaborn/_decorators.py:36: FutureWarning: Pass the following variable as a keyword arg: x. From version 0.12, the only valid positional argument will be `data`, and passing other arguments without an explicit keyword will result in an error or misinterpretation.\n",
      "  warnings.warn(\n"
     ]
    },
    {
     "data": {
      "text/plain": [
       "<AxesSubplot:xlabel='age'>"
      ]
     },
     "execution_count": 4072,
     "metadata": {},
     "output_type": "execute_result"
    },
    {
     "data": {
      "image/png": "[encoded data removed]",
      "text/plain": [
       "<Figure size 432x288 with 1 Axes>"
      ]
     },
     "metadata": {
      "needs_background": "light"
     },
     "output_type": "display_data"
    }
   ],
   "source": [
    "sns.boxplot(df[\"age\"])"
   ]
  },
  {
   "cell_type": "code",
   "execution_count": 4073,
   "id": "378e9a5c",
   "metadata": {},
   "outputs": [
    {
     "data": {
      "text/html": [
       "<div>\n",
       "<style scoped>\n",
       "    .dataframe tbody tr th:only-of-type {\n",
       "        vertical-align: middle;\n",
       "    }\n",
       "\n",
       "    .dataframe tbody tr th {\n",
       "        vertical-align: top;\n",
       "    }\n",
       "\n",
       "    .dataframe thead th {\n",
       "        text-align: right;\n",
       "    }\n",
       "</style>\n",
       "<table border=\"1\" class=\"dataframe\">\n",
       "  <thead>\n",
       "    <tr style=\"text-align: right;\">\n",
       "      <th></th>\n",
       "      <th>education</th>\n",
       "      <th>marital_status</th>\n",
       "      <th>income</th>\n",
       "      <th>kidhome</th>\n",
       "      <th>teenhome</th>\n",
       "      <th>dt_customer</th>\n",
       "      <th>recency</th>\n",
       "      <th>mntwines</th>\n",
       "      <th>mntfruits</th>\n",
       "      <th>mntmeatproducts</th>\n",
       "      <th>...</th>\n",
       "      <th>numstorepurchases</th>\n",
       "      <th>numwebvisitsmonth</th>\n",
       "      <th>acceptedcmp3</th>\n",
       "      <th>acceptedcmp4</th>\n",
       "      <th>acceptedcmp5</th>\n",
       "      <th>acceptedcmp1</th>\n",
       "      <th>acceptedcmp2</th>\n",
       "      <th>complain</th>\n",
       "      <th>response</th>\n",
       "      <th>age</th>\n",
       "    </tr>\n",
       "  </thead>\n",
       "  <tbody>\n",
       "    <tr>\n",
       "      <th>239</th>\n",
       "      <td>2n Cycle</td>\n",
       "      <td>Single</td>\n",
       "      <td>6018200.00%</td>\n",
       "      <td>0</td>\n",
       "      <td>1</td>\n",
       "      <td>17-05-2014</td>\n",
       "      <td>23</td>\n",
       "      <td>8</td>\n",
       "      <td>0</td>\n",
       "      <td>5</td>\n",
       "      <td>...</td>\n",
       "      <td>2</td>\n",
       "      <td>4</td>\n",
       "      <td>0</td>\n",
       "      <td>0</td>\n",
       "      <td>0</td>\n",
       "      <td>0</td>\n",
       "      <td>0</td>\n",
       "      <td>0</td>\n",
       "      <td>0</td>\n",
       "      <td>121</td>\n",
       "    </tr>\n",
       "  </tbody>\n",
       "</table>\n",
       "<p>1 rows × 26 columns</p>\n",
       "</div>"
      ],
      "text/plain": [
       "    education marital_status      income  kidhome  teenhome dt_customer  \\\n",
       "239  2n Cycle         Single 6018200.00%        0         1  17-05-2014   \n",
       "\n",
       "     recency  mntwines  mntfruits  mntmeatproducts  ...  numstorepurchases  \\\n",
       "239       23         8          0                5  ...                  2   \n",
       "\n",
       "     numwebvisitsmonth  acceptedcmp3  acceptedcmp4  acceptedcmp5  \\\n",
       "239                  4             0             0             0   \n",
       "\n",
       "     acceptedcmp1  acceptedcmp2  complain  response  age  \n",
       "239             0             0         0         0  121  \n",
       "\n",
       "[1 rows x 26 columns]"
      ]
     },
     "execution_count": 4073,
     "metadata": {},
     "output_type": "execute_result"
    }
   ],
   "source": [
    "df.loc[df['age'] == 121]"
   ]
  },
  {
   "cell_type": "code",
   "execution_count": 4074,
   "id": "bb67ac72",
   "metadata": {},
   "outputs": [],
   "source": [
    "df.drop([239], axis=0, inplace=True)"
   ]
  },
  {
   "cell_type": "code",
   "execution_count": 4075,
   "id": "643ac8c9",
   "metadata": {},
   "outputs": [
    {
     "data": {
      "text/plain": [
       "115"
      ]
     },
     "execution_count": 4075,
     "metadata": {},
     "output_type": "execute_result"
    }
   ],
   "source": [
    "max(df[\"age\"])"
   ]
  },
  {
   "cell_type": "code",
   "execution_count": 4076,
   "id": "ca7989e6",
   "metadata": {},
   "outputs": [
    {
     "data": {
      "text/html": [
       "<div>\n",
       "<style scoped>\n",
       "    .dataframe tbody tr th:only-of-type {\n",
       "        vertical-align: middle;\n",
       "    }\n",
       "\n",
       "    .dataframe tbody tr th {\n",
       "        vertical-align: top;\n",
       "    }\n",
       "\n",
       "    .dataframe thead th {\n",
       "        text-align: right;\n",
       "    }\n",
       "</style>\n",
       "<table border=\"1\" class=\"dataframe\">\n",
       "  <thead>\n",
       "    <tr style=\"text-align: right;\">\n",
       "      <th></th>\n",
       "      <th>education</th>\n",
       "      <th>marital_status</th>\n",
       "      <th>income</th>\n",
       "      <th>kidhome</th>\n",
       "      <th>teenhome</th>\n",
       "      <th>dt_customer</th>\n",
       "      <th>recency</th>\n",
       "      <th>mntwines</th>\n",
       "      <th>mntfruits</th>\n",
       "      <th>mntmeatproducts</th>\n",
       "      <th>...</th>\n",
       "      <th>numstorepurchases</th>\n",
       "      <th>numwebvisitsmonth</th>\n",
       "      <th>acceptedcmp3</th>\n",
       "      <th>acceptedcmp4</th>\n",
       "      <th>acceptedcmp5</th>\n",
       "      <th>acceptedcmp1</th>\n",
       "      <th>acceptedcmp2</th>\n",
       "      <th>complain</th>\n",
       "      <th>response</th>\n",
       "      <th>age</th>\n",
       "    </tr>\n",
       "  </thead>\n",
       "  <tbody>\n",
       "    <tr>\n",
       "      <th>339</th>\n",
       "      <td>PhD</td>\n",
       "      <td>Together</td>\n",
       "      <td>8353200.00%</td>\n",
       "      <td>0</td>\n",
       "      <td>0</td>\n",
       "      <td>26-09-2013</td>\n",
       "      <td>36</td>\n",
       "      <td>755</td>\n",
       "      <td>144</td>\n",
       "      <td>562</td>\n",
       "      <td>...</td>\n",
       "      <td>4</td>\n",
       "      <td>1</td>\n",
       "      <td>0</td>\n",
       "      <td>0</td>\n",
       "      <td>1</td>\n",
       "      <td>0</td>\n",
       "      <td>0</td>\n",
       "      <td>0</td>\n",
       "      <td>0</td>\n",
       "      <td>115</td>\n",
       "    </tr>\n",
       "  </tbody>\n",
       "</table>\n",
       "<p>1 rows × 26 columns</p>\n",
       "</div>"
      ],
      "text/plain": [
       "    education marital_status      income  kidhome  teenhome dt_customer  \\\n",
       "339       PhD       Together 8353200.00%        0         0  26-09-2013   \n",
       "\n",
       "     recency  mntwines  mntfruits  mntmeatproducts  ...  numstorepurchases  \\\n",
       "339       36       755        144              562  ...                  4   \n",
       "\n",
       "     numwebvisitsmonth  acceptedcmp3  acceptedcmp4  acceptedcmp5  \\\n",
       "339                  1             0             0             1   \n",
       "\n",
       "     acceptedcmp1  acceptedcmp2  complain  response  age  \n",
       "339             0             0         0         0  115  \n",
       "\n",
       "[1 rows x 26 columns]"
      ]
     },
     "execution_count": 4076,
     "metadata": {},
     "output_type": "execute_result"
    }
   ],
   "source": [
    "df.loc[df['age'] == 115]"
   ]
  },
  {
   "cell_type": "code",
   "execution_count": 4077,
   "id": "3c334a8b",
   "metadata": {},
   "outputs": [],
   "source": [
    "df.drop([339], axis=0, inplace=True)"
   ]
  },
  {
   "cell_type": "code",
   "execution_count": 4078,
   "id": "2f60b755",
   "metadata": {},
   "outputs": [
    {
     "data": {
      "text/plain": [
       "114"
      ]
     },
     "execution_count": 4078,
     "metadata": {},
     "output_type": "execute_result"
    }
   ],
   "source": [
    "max(df[\"age\"])"
   ]
  },
  {
   "cell_type": "code",
   "execution_count": 4079,
   "id": "cda623cc",
   "metadata": {},
   "outputs": [
    {
     "data": {
      "text/html": [
       "<div>\n",
       "<style scoped>\n",
       "    .dataframe tbody tr th:only-of-type {\n",
       "        vertical-align: middle;\n",
       "    }\n",
       "\n",
       "    .dataframe tbody tr th {\n",
       "        vertical-align: top;\n",
       "    }\n",
       "\n",
       "    .dataframe thead th {\n",
       "        text-align: right;\n",
       "    }\n",
       "</style>\n",
       "<table border=\"1\" class=\"dataframe\">\n",
       "  <thead>\n",
       "    <tr style=\"text-align: right;\">\n",
       "      <th></th>\n",
       "      <th>education</th>\n",
       "      <th>marital_status</th>\n",
       "      <th>income</th>\n",
       "      <th>kidhome</th>\n",
       "      <th>teenhome</th>\n",
       "      <th>dt_customer</th>\n",
       "      <th>recency</th>\n",
       "      <th>mntwines</th>\n",
       "      <th>mntfruits</th>\n",
       "      <th>mntmeatproducts</th>\n",
       "      <th>...</th>\n",
       "      <th>numstorepurchases</th>\n",
       "      <th>numwebvisitsmonth</th>\n",
       "      <th>acceptedcmp3</th>\n",
       "      <th>acceptedcmp4</th>\n",
       "      <th>acceptedcmp5</th>\n",
       "      <th>acceptedcmp1</th>\n",
       "      <th>acceptedcmp2</th>\n",
       "      <th>complain</th>\n",
       "      <th>response</th>\n",
       "      <th>age</th>\n",
       "    </tr>\n",
       "  </thead>\n",
       "  <tbody>\n",
       "    <tr>\n",
       "      <th>192</th>\n",
       "      <td>2n Cycle</td>\n",
       "      <td>Divorced</td>\n",
       "      <td>3664000.00%</td>\n",
       "      <td>1</td>\n",
       "      <td>0</td>\n",
       "      <td>26-09-2013</td>\n",
       "      <td>99</td>\n",
       "      <td>15</td>\n",
       "      <td>6</td>\n",
       "      <td>8</td>\n",
       "      <td>...</td>\n",
       "      <td>2</td>\n",
       "      <td>5</td>\n",
       "      <td>0</td>\n",
       "      <td>0</td>\n",
       "      <td>0</td>\n",
       "      <td>0</td>\n",
       "      <td>0</td>\n",
       "      <td>1</td>\n",
       "      <td>0</td>\n",
       "      <td>114</td>\n",
       "    </tr>\n",
       "  </tbody>\n",
       "</table>\n",
       "<p>1 rows × 26 columns</p>\n",
       "</div>"
      ],
      "text/plain": [
       "    education marital_status      income  kidhome  teenhome dt_customer  \\\n",
       "192  2n Cycle       Divorced 3664000.00%        1         0  26-09-2013   \n",
       "\n",
       "     recency  mntwines  mntfruits  mntmeatproducts  ...  numstorepurchases  \\\n",
       "192       99        15          6                8  ...                  2   \n",
       "\n",
       "     numwebvisitsmonth  acceptedcmp3  acceptedcmp4  acceptedcmp5  \\\n",
       "192                  5             0             0             0   \n",
       "\n",
       "     acceptedcmp1  acceptedcmp2  complain  response  age  \n",
       "192             0             0         1         0  114  \n",
       "\n",
       "[1 rows x 26 columns]"
      ]
     },
     "execution_count": 4079,
     "metadata": {},
     "output_type": "execute_result"
    }
   ],
   "source": [
    "df.loc[df['age'] == 114]"
   ]
  },
  {
   "cell_type": "code",
   "execution_count": 4080,
   "id": "42180ce3",
   "metadata": {},
   "outputs": [],
   "source": [
    "df.drop([192], axis=0, inplace=True)"
   ]
  },
  {
   "cell_type": "code",
   "execution_count": 4081,
   "id": "ca3f8445",
   "metadata": {},
   "outputs": [
    {
     "data": {
      "text/plain": [
       "74"
      ]
     },
     "execution_count": 4081,
     "metadata": {},
     "output_type": "execute_result"
    }
   ],
   "source": [
    "max(df[\"age\"])"
   ]
  },
  {
   "cell_type": "markdown",
   "id": "0b8b5691",
   "metadata": {},
   "source": [
    "### convert \"dt_customer\" to datetime"
   ]
  },
  {
   "cell_type": "code",
   "execution_count": 4082,
   "id": "d12b1e32",
   "metadata": {},
   "outputs": [
    {
     "data": {
      "text/plain": [
       "str"
      ]
     },
     "execution_count": 4082,
     "metadata": {},
     "output_type": "execute_result"
    }
   ],
   "source": [
    "type(df[\"dt_customer\"][0])"
   ]
  },
  {
   "cell_type": "markdown",
   "id": "2eec04f4",
   "metadata": {},
   "source": [
    "def date(datestr=\"\", format=\"%d-%m-%Y\"):\n",
    "    from datetime import datetime\n",
    "    if not datestr:\n",
    "        return datetime.today().date()\n",
    "    return datetime.strptime(datestr, format).date()"
   ]
  },
  {
   "cell_type": "code",
   "execution_count": 4083,
   "id": "fd94c9d1",
   "metadata": {},
   "outputs": [],
   "source": [
    "df[\"dt_customer\"] = pd.to_datetime(df[\"dt_customer\"], format=\"%d-%m-%Y\")"
   ]
  },
  {
   "cell_type": "markdown",
   "id": "8580af8b",
   "metadata": {},
   "source": [
    "### create \"cust_since\" column + drop \"dt_customer\""
   ]
  },
  {
   "cell_type": "code",
   "execution_count": 4084,
   "id": "f4a74269",
   "metadata": {},
   "outputs": [],
   "source": [
    "#Convert datetime column/series to month\n",
    "df['cust_since'] = df['dt_customer'].dt.month"
   ]
  },
  {
   "cell_type": "code",
   "execution_count": 4085,
   "id": "3dd08453",
   "metadata": {},
   "outputs": [
    {
     "data": {
      "text/plain": [
       "0        9\n",
       "1        3\n",
       "2        8\n",
       "3        2\n",
       "4        1\n",
       "        ..\n",
       "2235     6\n",
       "2236     6\n",
       "2237     1\n",
       "2238     1\n",
       "2239    10\n",
       "Name: cust_since, Length: 2213, dtype: int64"
      ]
     },
     "execution_count": 4085,
     "metadata": {},
     "output_type": "execute_result"
    }
   ],
   "source": [
    "df['cust_since']"
   ]
  },
  {
   "cell_type": "code",
   "execution_count": 4086,
   "id": "5fa3082a",
   "metadata": {},
   "outputs": [],
   "source": [
    "df[\"cust_since\"] = (max(df[\"dt_customer\"]) - df[\"dt_customer\"]).astype('timedelta64[M]')"
   ]
  },
  {
   "cell_type": "code",
   "execution_count": 4087,
   "id": "1ca64325",
   "metadata": {},
   "outputs": [],
   "source": [
    "df[\"cust_since\"] = df[\"cust_since\"].astype(\"Int64\")"
   ]
  },
  {
   "cell_type": "code",
   "execution_count": 4088,
   "id": "426a8779",
   "metadata": {},
   "outputs": [
    {
     "data": {
      "text/html": [
       "<div>\n",
       "<style scoped>\n",
       "    .dataframe tbody tr th:only-of-type {\n",
       "        vertical-align: middle;\n",
       "    }\n",
       "\n",
       "    .dataframe tbody tr th {\n",
       "        vertical-align: top;\n",
       "    }\n",
       "\n",
       "    .dataframe thead th {\n",
       "        text-align: right;\n",
       "    }\n",
       "</style>\n",
       "<table border=\"1\" class=\"dataframe\">\n",
       "  <thead>\n",
       "    <tr style=\"text-align: right;\">\n",
       "      <th></th>\n",
       "      <th>cust_since</th>\n",
       "      <th>dt_customer</th>\n",
       "    </tr>\n",
       "  </thead>\n",
       "  <tbody>\n",
       "    <tr>\n",
       "      <th>0</th>\n",
       "      <td>21</td>\n",
       "      <td>2012-09-04</td>\n",
       "    </tr>\n",
       "    <tr>\n",
       "      <th>1</th>\n",
       "      <td>3</td>\n",
       "      <td>2014-03-08</td>\n",
       "    </tr>\n",
       "    <tr>\n",
       "      <th>2</th>\n",
       "      <td>10</td>\n",
       "      <td>2013-08-21</td>\n",
       "    </tr>\n",
       "    <tr>\n",
       "      <th>3</th>\n",
       "      <td>4</td>\n",
       "      <td>2014-02-10</td>\n",
       "    </tr>\n",
       "    <tr>\n",
       "      <th>4</th>\n",
       "      <td>5</td>\n",
       "      <td>2014-01-19</td>\n",
       "    </tr>\n",
       "    <tr>\n",
       "      <th>...</th>\n",
       "      <td>...</td>\n",
       "      <td>...</td>\n",
       "    </tr>\n",
       "    <tr>\n",
       "      <th>2235</th>\n",
       "      <td>12</td>\n",
       "      <td>2013-06-13</td>\n",
       "    </tr>\n",
       "    <tr>\n",
       "      <th>2236</th>\n",
       "      <td>0</td>\n",
       "      <td>2014-06-10</td>\n",
       "    </tr>\n",
       "    <tr>\n",
       "      <th>2237</th>\n",
       "      <td>5</td>\n",
       "      <td>2014-01-25</td>\n",
       "    </tr>\n",
       "    <tr>\n",
       "      <th>2238</th>\n",
       "      <td>5</td>\n",
       "      <td>2014-01-24</td>\n",
       "    </tr>\n",
       "    <tr>\n",
       "      <th>2239</th>\n",
       "      <td>20</td>\n",
       "      <td>2012-10-15</td>\n",
       "    </tr>\n",
       "  </tbody>\n",
       "</table>\n",
       "<p>2213 rows × 2 columns</p>\n",
       "</div>"
      ],
      "text/plain": [
       "      cust_since dt_customer\n",
       "0             21  2012-09-04\n",
       "1              3  2014-03-08\n",
       "2             10  2013-08-21\n",
       "3              4  2014-02-10\n",
       "4              5  2014-01-19\n",
       "...          ...         ...\n",
       "2235          12  2013-06-13\n",
       "2236           0  2014-06-10\n",
       "2237           5  2014-01-25\n",
       "2238           5  2014-01-24\n",
       "2239          20  2012-10-15\n",
       "\n",
       "[2213 rows x 2 columns]"
      ]
     },
     "execution_count": 4088,
     "metadata": {},
     "output_type": "execute_result"
    }
   ],
   "source": [
    "df[[\"cust_since\", \"dt_customer\"]]"
   ]
  },
  {
   "cell_type": "code",
   "execution_count": 4089,
   "id": "277baecc",
   "metadata": {},
   "outputs": [],
   "source": [
    "df.drop([\"dt_customer\"],axis=1, inplace=True)"
   ]
  },
  {
   "cell_type": "markdown",
   "id": "7948455f",
   "metadata": {},
   "source": [
    "### clean education column"
   ]
  },
  {
   "cell_type": "code",
   "execution_count": 4090,
   "id": "ca46c7b8",
   "metadata": {},
   "outputs": [
    {
     "data": {
      "text/plain": [
       "array(['Graduation', 'PhD', 'Master', 'Basic', '2n Cycle'], dtype=object)"
      ]
     },
     "execution_count": 4090,
     "metadata": {},
     "output_type": "execute_result"
    }
   ],
   "source": [
    "df[\"education\"].unique()"
   ]
  },
  {
   "cell_type": "code",
   "execution_count": 4091,
   "id": "426c0d75",
   "metadata": {},
   "outputs": [],
   "source": [
    "def clean_edu(x):\n",
    "    if x in ['Basic', '2n Cycle']:\n",
    "        return \"0\"\n",
    "    elif x in ['Graduation']:\n",
    "        return \"1\"\n",
    "    elif x in ['Master', 'PhD']:\n",
    "        return \"2\""
   ]
  },
  {
   "cell_type": "code",
   "execution_count": 4092,
   "id": "e36174a0",
   "metadata": {},
   "outputs": [],
   "source": [
    "df['education'] = list(map(clean_edu, df['education']))"
   ]
  },
  {
   "cell_type": "code",
   "execution_count": 4093,
   "id": "90b611a2",
   "metadata": {},
   "outputs": [],
   "source": [
    "df['education'] = df['education'].astype(int)"
   ]
  },
  {
   "cell_type": "markdown",
   "id": "9f558de2",
   "metadata": {},
   "source": [
    "### convert \"income\" to int"
   ]
  },
  {
   "cell_type": "code",
   "execution_count": 4094,
   "id": "f972e706",
   "metadata": {},
   "outputs": [
    {
     "name": "stderr",
     "output_type": "stream",
     "text": [
      "/opt/anaconda3/envs/DA_ENV/lib/python3.9/site-packages/IPython/core/displayhook.py:275: UserWarning: Output cache limit (currently 1000 entries) hit.\n",
      "Flushing oldest 200 entries.\n",
      "  warn('Output cache limit (currently {sz} entries) hit.\\n'\n"
     ]
    },
    {
     "data": {
      "text/plain": [
       "666666.0"
      ]
     },
     "execution_count": 4094,
     "metadata": {},
     "output_type": "execute_result"
    }
   ],
   "source": [
    "max(df[\"income\"])"
   ]
  },
  {
   "cell_type": "code",
   "execution_count": 4095,
   "id": "72ddddf8",
   "metadata": {},
   "outputs": [
    {
     "data": {
      "text/html": [
       "<div>\n",
       "<style scoped>\n",
       "    .dataframe tbody tr th:only-of-type {\n",
       "        vertical-align: middle;\n",
       "    }\n",
       "\n",
       "    .dataframe tbody tr th {\n",
       "        vertical-align: top;\n",
       "    }\n",
       "\n",
       "    .dataframe thead th {\n",
       "        text-align: right;\n",
       "    }\n",
       "</style>\n",
       "<table border=\"1\" class=\"dataframe\">\n",
       "  <thead>\n",
       "    <tr style=\"text-align: right;\">\n",
       "      <th></th>\n",
       "      <th>education</th>\n",
       "      <th>marital_status</th>\n",
       "      <th>income</th>\n",
       "      <th>kidhome</th>\n",
       "      <th>teenhome</th>\n",
       "      <th>recency</th>\n",
       "      <th>mntwines</th>\n",
       "      <th>mntfruits</th>\n",
       "      <th>mntmeatproducts</th>\n",
       "      <th>mntfishproducts</th>\n",
       "      <th>...</th>\n",
       "      <th>numwebvisitsmonth</th>\n",
       "      <th>acceptedcmp3</th>\n",
       "      <th>acceptedcmp4</th>\n",
       "      <th>acceptedcmp5</th>\n",
       "      <th>acceptedcmp1</th>\n",
       "      <th>acceptedcmp2</th>\n",
       "      <th>complain</th>\n",
       "      <th>response</th>\n",
       "      <th>age</th>\n",
       "      <th>cust_since</th>\n",
       "    </tr>\n",
       "  </thead>\n",
       "  <tbody>\n",
       "    <tr>\n",
       "      <th>2233</th>\n",
       "      <td>1</td>\n",
       "      <td>Together</td>\n",
       "      <td>66666600.00%</td>\n",
       "      <td>1</td>\n",
       "      <td>0</td>\n",
       "      <td>23</td>\n",
       "      <td>9</td>\n",
       "      <td>14</td>\n",
       "      <td>18</td>\n",
       "      <td>8</td>\n",
       "      <td>...</td>\n",
       "      <td>6</td>\n",
       "      <td>0</td>\n",
       "      <td>0</td>\n",
       "      <td>0</td>\n",
       "      <td>0</td>\n",
       "      <td>0</td>\n",
       "      <td>0</td>\n",
       "      <td>0</td>\n",
       "      <td>37</td>\n",
       "      <td>12</td>\n",
       "    </tr>\n",
       "  </tbody>\n",
       "</table>\n",
       "<p>1 rows × 26 columns</p>\n",
       "</div>"
      ],
      "text/plain": [
       "      education marital_status       income  kidhome  teenhome  recency  \\\n",
       "2233          1       Together 66666600.00%        1         0       23   \n",
       "\n",
       "      mntwines  mntfruits  mntmeatproducts  mntfishproducts  ...  \\\n",
       "2233         9         14               18                8  ...   \n",
       "\n",
       "      numwebvisitsmonth  acceptedcmp3  acceptedcmp4  acceptedcmp5  \\\n",
       "2233                  6             0             0             0   \n",
       "\n",
       "      acceptedcmp1  acceptedcmp2  complain  response  age  cust_since  \n",
       "2233             0             0         0         0   37          12  \n",
       "\n",
       "[1 rows x 26 columns]"
      ]
     },
     "execution_count": 4095,
     "metadata": {},
     "output_type": "execute_result"
    }
   ],
   "source": [
    "df.loc[df['income'] == 666666.0]"
   ]
  },
  {
   "cell_type": "code",
   "execution_count": 4096,
   "id": "6a19769c",
   "metadata": {},
   "outputs": [],
   "source": [
    "df.drop([2233], axis=0, inplace=True)"
   ]
  },
  {
   "cell_type": "code",
   "execution_count": 4097,
   "id": "e1233df7",
   "metadata": {},
   "outputs": [],
   "source": [
    "df[\"income\"] = df[\"income\"].astype(\"Int64\")"
   ]
  },
  {
   "cell_type": "markdown",
   "id": "bd429b92",
   "metadata": {},
   "source": [
    "### clean \"marital_status\""
   ]
  },
  {
   "cell_type": "code",
   "execution_count": 4098,
   "id": "974865f6",
   "metadata": {},
   "outputs": [
    {
     "data": {
      "text/plain": [
       "array(['Single', 'Together', 'Married', 'Divorced', 'Widow', 'Alone',\n",
       "       'Absurd', 'YOLO'], dtype=object)"
      ]
     },
     "execution_count": 4098,
     "metadata": {},
     "output_type": "execute_result"
    }
   ],
   "source": [
    "df[\"marital_status\"].unique()"
   ]
  },
  {
   "cell_type": "code",
   "execution_count": 4099,
   "id": "b714d503",
   "metadata": {},
   "outputs": [
    {
     "data": {
      "text/html": [
       "<div>\n",
       "<style scoped>\n",
       "    .dataframe tbody tr th:only-of-type {\n",
       "        vertical-align: middle;\n",
       "    }\n",
       "\n",
       "    .dataframe tbody tr th {\n",
       "        vertical-align: top;\n",
       "    }\n",
       "\n",
       "    .dataframe thead th {\n",
       "        text-align: right;\n",
       "    }\n",
       "</style>\n",
       "<table border=\"1\" class=\"dataframe\">\n",
       "  <thead>\n",
       "    <tr style=\"text-align: right;\">\n",
       "      <th></th>\n",
       "      <th>education</th>\n",
       "      <th>marital_status</th>\n",
       "      <th>income</th>\n",
       "      <th>kidhome</th>\n",
       "      <th>teenhome</th>\n",
       "      <th>recency</th>\n",
       "      <th>mntwines</th>\n",
       "      <th>mntfruits</th>\n",
       "      <th>mntmeatproducts</th>\n",
       "      <th>mntfishproducts</th>\n",
       "      <th>...</th>\n",
       "      <th>numwebvisitsmonth</th>\n",
       "      <th>acceptedcmp3</th>\n",
       "      <th>acceptedcmp4</th>\n",
       "      <th>acceptedcmp5</th>\n",
       "      <th>acceptedcmp1</th>\n",
       "      <th>acceptedcmp2</th>\n",
       "      <th>complain</th>\n",
       "      <th>response</th>\n",
       "      <th>age</th>\n",
       "      <th>cust_since</th>\n",
       "    </tr>\n",
       "  </thead>\n",
       "  <tbody>\n",
       "    <tr>\n",
       "      <th>2177</th>\n",
       "      <td>2</td>\n",
       "      <td>YOLO</td>\n",
       "      <td>48432</td>\n",
       "      <td>0</td>\n",
       "      <td>1</td>\n",
       "      <td>3</td>\n",
       "      <td>322</td>\n",
       "      <td>3</td>\n",
       "      <td>50</td>\n",
       "      <td>4</td>\n",
       "      <td>...</td>\n",
       "      <td>8</td>\n",
       "      <td>0</td>\n",
       "      <td>0</td>\n",
       "      <td>0</td>\n",
       "      <td>0</td>\n",
       "      <td>0</td>\n",
       "      <td>0</td>\n",
       "      <td>0</td>\n",
       "      <td>41</td>\n",
       "      <td>20</td>\n",
       "    </tr>\n",
       "    <tr>\n",
       "      <th>2202</th>\n",
       "      <td>2</td>\n",
       "      <td>YOLO</td>\n",
       "      <td>48432</td>\n",
       "      <td>0</td>\n",
       "      <td>1</td>\n",
       "      <td>3</td>\n",
       "      <td>322</td>\n",
       "      <td>3</td>\n",
       "      <td>50</td>\n",
       "      <td>4</td>\n",
       "      <td>...</td>\n",
       "      <td>8</td>\n",
       "      <td>0</td>\n",
       "      <td>0</td>\n",
       "      <td>0</td>\n",
       "      <td>0</td>\n",
       "      <td>0</td>\n",
       "      <td>0</td>\n",
       "      <td>1</td>\n",
       "      <td>41</td>\n",
       "      <td>20</td>\n",
       "    </tr>\n",
       "  </tbody>\n",
       "</table>\n",
       "<p>2 rows × 26 columns</p>\n",
       "</div>"
      ],
      "text/plain": [
       "      education marital_status  income  kidhome  teenhome  recency  mntwines  \\\n",
       "2177          2           YOLO   48432        0         1        3       322   \n",
       "2202          2           YOLO   48432        0         1        3       322   \n",
       "\n",
       "      mntfruits  mntmeatproducts  mntfishproducts  ...  numwebvisitsmonth  \\\n",
       "2177          3               50                4  ...                  8   \n",
       "2202          3               50                4  ...                  8   \n",
       "\n",
       "      acceptedcmp3  acceptedcmp4  acceptedcmp5  acceptedcmp1  acceptedcmp2  \\\n",
       "2177             0             0             0             0             0   \n",
       "2202             0             0             0             0             0   \n",
       "\n",
       "      complain  response  age  cust_since  \n",
       "2177         0         0   41          20  \n",
       "2202         0         1   41          20  \n",
       "\n",
       "[2 rows x 26 columns]"
      ]
     },
     "execution_count": 4099,
     "metadata": {},
     "output_type": "execute_result"
    }
   ],
   "source": [
    "df.loc[df['marital_status'] == \"YOLO\"]"
   ]
  },
  {
   "cell_type": "code",
   "execution_count": 4100,
   "id": "2533e48c",
   "metadata": {},
   "outputs": [],
   "source": [
    "#remove \"YOLO\" from \"marital_status\"\n",
    "df = df.drop([2177, 2202])"
   ]
  },
  {
   "cell_type": "code",
   "execution_count": 4101,
   "id": "ada2372c",
   "metadata": {},
   "outputs": [
    {
     "data": {
      "text/plain": [
       "array(['Single', 'Together', 'Married', 'Divorced', 'Widow', 'Alone',\n",
       "       'Absurd'], dtype=object)"
      ]
     },
     "execution_count": 4101,
     "metadata": {},
     "output_type": "execute_result"
    }
   ],
   "source": [
    "df[\"marital_status\"].unique()"
   ]
  },
  {
   "cell_type": "code",
   "execution_count": 4102,
   "id": "5452662e",
   "metadata": {},
   "outputs": [],
   "source": [
    "def clean_marital(x):\n",
    "    if x in ['Together', 'Married']:\n",
    "        return \"1\"\n",
    "    elif x in [\"Single\", \"Alone\", \"Widow\", \"Divorced\", 'Absurd']:\n",
    "        return \"0\""
   ]
  },
  {
   "cell_type": "code",
   "execution_count": 4103,
   "id": "e39a5cbb",
   "metadata": {},
   "outputs": [],
   "source": [
    "df['marital_status'] = list(map(clean_marital, df['marital_status']))"
   ]
  },
  {
   "cell_type": "code",
   "execution_count": 4104,
   "id": "d02a7f57",
   "metadata": {},
   "outputs": [],
   "source": [
    "df['marital_status'] = df['marital_status'].astype(int)"
   ]
  },
  {
   "cell_type": "markdown",
   "id": "8c378782",
   "metadata": {},
   "source": [
    "### new column \"children\""
   ]
  },
  {
   "cell_type": "code",
   "execution_count": 4105,
   "id": "92038374",
   "metadata": {},
   "outputs": [],
   "source": [
    "df[\"children\"]= df[\"kidhome\"] + df[\"teenhome\"]"
   ]
  },
  {
   "cell_type": "markdown",
   "id": "56698dc5",
   "metadata": {},
   "source": [
    "### concatenate campaigns "
   ]
  },
  {
   "cell_type": "code",
   "execution_count": 4106,
   "id": "668a0d34",
   "metadata": {},
   "outputs": [],
   "source": [
    "df[\"acc_camp\"] = df[\"acceptedcmp1\"] + df[\"acceptedcmp2\"] + df[\"acceptedcmp3\"] + df[\"acceptedcmp4\"] + df[\"acceptedcmp5\"]"
   ]
  },
  {
   "cell_type": "code",
   "execution_count": 4107,
   "id": "c4740440",
   "metadata": {},
   "outputs": [
    {
     "data": {
      "text/plain": [
       "0    1752\n",
       "1     322\n",
       "2      81\n",
       "3      44\n",
       "4      11\n",
       "Name: acc_camp, dtype: int64"
      ]
     },
     "execution_count": 4107,
     "metadata": {},
     "output_type": "execute_result"
    }
   ],
   "source": [
    "df[\"acc_camp\"].value_counts()"
   ]
  },
  {
   "cell_type": "code",
   "execution_count": 4108,
   "id": "9ff670e7",
   "metadata": {},
   "outputs": [],
   "source": [
    "df = df.drop(columns=[\"acceptedcmp1\", \"acceptedcmp2\",\"acceptedcmp3\", \"acceptedcmp4\", \"acceptedcmp5\" ])"
   ]
  },
  {
   "cell_type": "code",
   "execution_count": 4109,
   "id": "7305c3e0",
   "metadata": {},
   "outputs": [],
   "source": [
    "# column \"household_size\"\n",
    "# column \"total_amount_spent\""
   ]
  },
  {
   "cell_type": "markdown",
   "id": "8efcd181",
   "metadata": {},
   "source": [
    "### concatenate columns amounts spent "
   ]
  },
  {
   "cell_type": "code",
   "execution_count": 4110,
   "id": "1d6ecda3",
   "metadata": {},
   "outputs": [],
   "source": [
    "df[\"total_spent\"] = df[\"mntwines\"]+ df[\"mntfruits\"]+ df[\"mntmeatproducts\"]+ df[\"mntfishproducts\"]+ df[\"mntsweetproducts\"]+ df[\"mntgoldprods\"]"
   ]
  },
  {
   "cell_type": "markdown",
   "id": "9f457a3b",
   "metadata": {},
   "source": [
    "### creating household size column"
   ]
  },
  {
   "cell_type": "code",
   "execution_count": 4111,
   "id": "1dd15f58",
   "metadata": {},
   "outputs": [
    {
     "data": {
      "text/plain": [
       "education              int64\n",
       "marital_status         int64\n",
       "income                 Int64\n",
       "kidhome                int64\n",
       "teenhome               int64\n",
       "recency                int64\n",
       "mntwines               int64\n",
       "mntfruits              int64\n",
       "mntmeatproducts        int64\n",
       "mntfishproducts        int64\n",
       "mntsweetproducts       int64\n",
       "mntgoldprods           int64\n",
       "numdealspurchases      int64\n",
       "numwebpurchases        int64\n",
       "numcatalogpurchases    int64\n",
       "numstorepurchases      int64\n",
       "numwebvisitsmonth      int64\n",
       "complain               int64\n",
       "response               int64\n",
       "age                    int64\n",
       "cust_since             Int64\n",
       "children               int64\n",
       "acc_camp               int64\n",
       "total_spent            int64\n",
       "dtype: object"
      ]
     },
     "execution_count": 4111,
     "metadata": {},
     "output_type": "execute_result"
    }
   ],
   "source": [
    "df.dtypes"
   ]
  },
  {
   "cell_type": "code",
   "execution_count": 4112,
   "id": "8408f2d9",
   "metadata": {},
   "outputs": [],
   "source": [
    "df[\"household_size\"] = df[\"marital_status\"] + df[\"children\"] + 1"
   ]
  },
  {
   "cell_type": "code",
   "execution_count": 4113,
   "id": "f1d21d11",
   "metadata": {},
   "outputs": [],
   "source": [
    "df.drop([\"children\"], axis=1, inplace=True)"
   ]
  },
  {
   "cell_type": "markdown",
   "id": "bce40914",
   "metadata": {},
   "source": [
    "## plotting"
   ]
  },
  {
   "cell_type": "markdown",
   "id": "795bb45c",
   "metadata": {},
   "source": [
    "### correlation heatmap"
   ]
  },
  {
   "cell_type": "code",
   "execution_count": 4114,
   "id": "e8634c05",
   "metadata": {},
   "outputs": [
    {
     "data": {
      "image/png": "[encoded data removed]",
      "text/plain": [
       "<Figure size 1440x1440 with 2 Axes>"
      ]
     },
     "metadata": {},
     "output_type": "display_data"
    }
   ],
   "source": [
    "corr = df.corr()\n",
    "mask = np.zeros_like(corr)\n",
    "mask[np.triu_indices_from(mask)] = True\n",
    "with sns.axes_style(\"white\"):\n",
    "    f, ax = plt.subplots(figsize=(20, 20))\n",
    "    ax = sns.heatmap(corr, mask=mask,cmap='coolwarm', vmin=-1,vmax=1,annot=True, square=True)"
   ]
  },
  {
   "cell_type": "code",
   "execution_count": 4115,
   "id": "ff25e5a8",
   "metadata": {},
   "outputs": [
    {
     "name": "stdout",
     "output_type": "stream",
     "text": [
      "['total_spent', 'numcatalogpurchases', 'mntmeatproducts', 'mntwines', 'numwebvisitsmonth', 'numstorepurchases', 'mntsweetproducts', 'mntfishproducts', 'kidhome', 'mntfruits', 'numwebpurchases', 'mntgoldprods', 'acc_camp', 'income']\n"
     ]
    },
    {
     "data": {
      "text/html": [
       "<div>\n",
       "<style scoped>\n",
       "    .dataframe tbody tr th:only-of-type {\n",
       "        vertical-align: middle;\n",
       "    }\n",
       "\n",
       "    .dataframe tbody tr th {\n",
       "        vertical-align: top;\n",
       "    }\n",
       "\n",
       "    .dataframe thead th {\n",
       "        text-align: right;\n",
       "    }\n",
       "</style>\n",
       "<table border=\"1\" class=\"dataframe\">\n",
       "  <thead>\n",
       "    <tr style=\"text-align: right;\">\n",
       "      <th></th>\n",
       "      <th>total_spent</th>\n",
       "      <th>numcatalogpurchases</th>\n",
       "      <th>mntmeatproducts</th>\n",
       "      <th>mntwines</th>\n",
       "      <th>numwebvisitsmonth</th>\n",
       "      <th>numstorepurchases</th>\n",
       "      <th>mntsweetproducts</th>\n",
       "      <th>mntfishproducts</th>\n",
       "      <th>kidhome</th>\n",
       "      <th>mntfruits</th>\n",
       "      <th>numwebpurchases</th>\n",
       "      <th>mntgoldprods</th>\n",
       "      <th>acc_camp</th>\n",
       "      <th>income</th>\n",
       "    </tr>\n",
       "  </thead>\n",
       "  <tbody>\n",
       "    <tr>\n",
       "      <th>0</th>\n",
       "      <td>1617</td>\n",
       "      <td>10</td>\n",
       "      <td>546</td>\n",
       "      <td>635</td>\n",
       "      <td>7</td>\n",
       "      <td>4</td>\n",
       "      <td>88</td>\n",
       "      <td>172</td>\n",
       "      <td>0</td>\n",
       "      <td>88</td>\n",
       "      <td>8</td>\n",
       "      <td>88</td>\n",
       "      <td>0</td>\n",
       "      <td>58138</td>\n",
       "    </tr>\n",
       "    <tr>\n",
       "      <th>1</th>\n",
       "      <td>27</td>\n",
       "      <td>1</td>\n",
       "      <td>6</td>\n",
       "      <td>11</td>\n",
       "      <td>5</td>\n",
       "      <td>2</td>\n",
       "      <td>1</td>\n",
       "      <td>2</td>\n",
       "      <td>1</td>\n",
       "      <td>1</td>\n",
       "      <td>1</td>\n",
       "      <td>6</td>\n",
       "      <td>0</td>\n",
       "      <td>46344</td>\n",
       "    </tr>\n",
       "    <tr>\n",
       "      <th>2</th>\n",
       "      <td>776</td>\n",
       "      <td>2</td>\n",
       "      <td>127</td>\n",
       "      <td>426</td>\n",
       "      <td>4</td>\n",
       "      <td>10</td>\n",
       "      <td>21</td>\n",
       "      <td>111</td>\n",
       "      <td>0</td>\n",
       "      <td>49</td>\n",
       "      <td>8</td>\n",
       "      <td>42</td>\n",
       "      <td>0</td>\n",
       "      <td>71613</td>\n",
       "    </tr>\n",
       "    <tr>\n",
       "      <th>3</th>\n",
       "      <td>53</td>\n",
       "      <td>0</td>\n",
       "      <td>20</td>\n",
       "      <td>11</td>\n",
       "      <td>6</td>\n",
       "      <td>4</td>\n",
       "      <td>3</td>\n",
       "      <td>10</td>\n",
       "      <td>1</td>\n",
       "      <td>4</td>\n",
       "      <td>2</td>\n",
       "      <td>5</td>\n",
       "      <td>0</td>\n",
       "      <td>26646</td>\n",
       "    </tr>\n",
       "    <tr>\n",
       "      <th>4</th>\n",
       "      <td>422</td>\n",
       "      <td>3</td>\n",
       "      <td>118</td>\n",
       "      <td>173</td>\n",
       "      <td>5</td>\n",
       "      <td>6</td>\n",
       "      <td>27</td>\n",
       "      <td>46</td>\n",
       "      <td>1</td>\n",
       "      <td>43</td>\n",
       "      <td>5</td>\n",
       "      <td>15</td>\n",
       "      <td>0</td>\n",
       "      <td>58293</td>\n",
       "    </tr>\n",
       "    <tr>\n",
       "      <th>...</th>\n",
       "      <td>...</td>\n",
       "      <td>...</td>\n",
       "      <td>...</td>\n",
       "      <td>...</td>\n",
       "      <td>...</td>\n",
       "      <td>...</td>\n",
       "      <td>...</td>\n",
       "      <td>...</td>\n",
       "      <td>...</td>\n",
       "      <td>...</td>\n",
       "      <td>...</td>\n",
       "      <td>...</td>\n",
       "      <td>...</td>\n",
       "      <td>...</td>\n",
       "    </tr>\n",
       "    <tr>\n",
       "      <th>2235</th>\n",
       "      <td>1341</td>\n",
       "      <td>3</td>\n",
       "      <td>182</td>\n",
       "      <td>709</td>\n",
       "      <td>5</td>\n",
       "      <td>4</td>\n",
       "      <td>118</td>\n",
       "      <td>42</td>\n",
       "      <td>0</td>\n",
       "      <td>43</td>\n",
       "      <td>9</td>\n",
       "      <td>247</td>\n",
       "      <td>0</td>\n",
       "      <td>61223</td>\n",
       "    </tr>\n",
       "    <tr>\n",
       "      <th>2236</th>\n",
       "      <td>444</td>\n",
       "      <td>2</td>\n",
       "      <td>30</td>\n",
       "      <td>406</td>\n",
       "      <td>7</td>\n",
       "      <td>5</td>\n",
       "      <td>0</td>\n",
       "      <td>0</td>\n",
       "      <td>2</td>\n",
       "      <td>0</td>\n",
       "      <td>8</td>\n",
       "      <td>8</td>\n",
       "      <td>1</td>\n",
       "      <td>64014</td>\n",
       "    </tr>\n",
       "    <tr>\n",
       "      <th>2237</th>\n",
       "      <td>1241</td>\n",
       "      <td>3</td>\n",
       "      <td>217</td>\n",
       "      <td>908</td>\n",
       "      <td>6</td>\n",
       "      <td>13</td>\n",
       "      <td>12</td>\n",
       "      <td>32</td>\n",
       "      <td>0</td>\n",
       "      <td>48</td>\n",
       "      <td>2</td>\n",
       "      <td>24</td>\n",
       "      <td>1</td>\n",
       "      <td>56981</td>\n",
       "    </tr>\n",
       "    <tr>\n",
       "      <th>2238</th>\n",
       "      <td>843</td>\n",
       "      <td>5</td>\n",
       "      <td>214</td>\n",
       "      <td>428</td>\n",
       "      <td>3</td>\n",
       "      <td>10</td>\n",
       "      <td>30</td>\n",
       "      <td>80</td>\n",
       "      <td>0</td>\n",
       "      <td>30</td>\n",
       "      <td>6</td>\n",
       "      <td>61</td>\n",
       "      <td>0</td>\n",
       "      <td>69245</td>\n",
       "    </tr>\n",
       "    <tr>\n",
       "      <th>2239</th>\n",
       "      <td>172</td>\n",
       "      <td>1</td>\n",
       "      <td>61</td>\n",
       "      <td>84</td>\n",
       "      <td>7</td>\n",
       "      <td>4</td>\n",
       "      <td>1</td>\n",
       "      <td>2</td>\n",
       "      <td>1</td>\n",
       "      <td>3</td>\n",
       "      <td>3</td>\n",
       "      <td>21</td>\n",
       "      <td>0</td>\n",
       "      <td>52869</td>\n",
       "    </tr>\n",
       "  </tbody>\n",
       "</table>\n",
       "<p>2210 rows × 14 columns</p>\n",
       "</div>"
      ],
      "text/plain": [
       "      total_spent  numcatalogpurchases  mntmeatproducts  mntwines  \\\n",
       "0            1617                   10              546       635   \n",
       "1              27                    1                6        11   \n",
       "2             776                    2              127       426   \n",
       "3              53                    0               20        11   \n",
       "4             422                    3              118       173   \n",
       "...           ...                  ...              ...       ...   \n",
       "2235         1341                    3              182       709   \n",
       "2236          444                    2               30       406   \n",
       "2237         1241                    3              217       908   \n",
       "2238          843                    5              214       428   \n",
       "2239          172                    1               61        84   \n",
       "\n",
       "      numwebvisitsmonth  numstorepurchases  mntsweetproducts  mntfishproducts  \\\n",
       "0                     7                  4                88              172   \n",
       "1                     5                  2                 1                2   \n",
       "2                     4                 10                21              111   \n",
       "3                     6                  4                 3               10   \n",
       "4                     5                  6                27               46   \n",
       "...                 ...                ...               ...              ...   \n",
       "2235                  5                  4               118               42   \n",
       "2236                  7                  5                 0                0   \n",
       "2237                  6                 13                12               32   \n",
       "2238                  3                 10                30               80   \n",
       "2239                  7                  4                 1                2   \n",
       "\n",
       "      kidhome  mntfruits  numwebpurchases  mntgoldprods  acc_camp  income  \n",
       "0           0         88                8            88         0   58138  \n",
       "1           1          1                1             6         0   46344  \n",
       "2           0         49                8            42         0   71613  \n",
       "3           1          4                2             5         0   26646  \n",
       "4           1         43                5            15         0   58293  \n",
       "...       ...        ...              ...           ...       ...     ...  \n",
       "2235        0         43                9           247         0   61223  \n",
       "2236        2          0                8             8         1   64014  \n",
       "2237        0         48                2            24         1   56981  \n",
       "2238        0         30                6            61         0   69245  \n",
       "2239        1          3                3            21         0   52869  \n",
       "\n",
       "[2210 rows x 14 columns]"
      ]
     },
     "execution_count": 4115,
     "metadata": {},
     "output_type": "execute_result"
    }
   ],
   "source": [
    "import seaborn as sns\n",
    "import matplotlib.pyplot as plt\n",
    "\n",
    "c = abs(df.corr())\n",
    "#c\n",
    "\n",
    "#fig, ax = plt.subplots(figsize=(14,14))\n",
    "#sns.heatmap(c, annot=True);\n",
    "\n",
    "#c['SalePrice']\n",
    "c_last = c['income'].sort_values(ascending=False)\n",
    "#c_last\n",
    "c_thr = .3\n",
    "cols_to_keep = list(c_last[c_last > c_thr].index)[1:] + [list(c_last[c_last > c_thr].index)[0]]\n",
    "print(cols_to_keep)\n",
    "\n",
    "df[cols_to_keep]"
   ]
  },
  {
   "cell_type": "code",
   "execution_count": 4116,
   "id": "af13f82b",
   "metadata": {},
   "outputs": [
    {
     "data": {
      "text/html": [
       "<div>\n",
       "<style scoped>\n",
       "    .dataframe tbody tr th:only-of-type {\n",
       "        vertical-align: middle;\n",
       "    }\n",
       "\n",
       "    .dataframe tbody tr th {\n",
       "        vertical-align: top;\n",
       "    }\n",
       "\n",
       "    .dataframe thead th {\n",
       "        text-align: right;\n",
       "    }\n",
       "</style>\n",
       "<table border=\"1\" class=\"dataframe\">\n",
       "  <thead>\n",
       "    <tr style=\"text-align: right;\">\n",
       "      <th></th>\n",
       "      <th>education</th>\n",
       "      <th>marital_status</th>\n",
       "      <th>income</th>\n",
       "      <th>kidhome</th>\n",
       "      <th>teenhome</th>\n",
       "      <th>recency</th>\n",
       "      <th>mntwines</th>\n",
       "      <th>mntfruits</th>\n",
       "      <th>mntmeatproducts</th>\n",
       "      <th>mntfishproducts</th>\n",
       "      <th>...</th>\n",
       "      <th>numcatalogpurchases</th>\n",
       "      <th>numstorepurchases</th>\n",
       "      <th>numwebvisitsmonth</th>\n",
       "      <th>complain</th>\n",
       "      <th>response</th>\n",
       "      <th>age</th>\n",
       "      <th>cust_since</th>\n",
       "      <th>acc_camp</th>\n",
       "      <th>total_spent</th>\n",
       "      <th>household_size</th>\n",
       "    </tr>\n",
       "  </thead>\n",
       "  <tbody>\n",
       "    <tr>\n",
       "      <th>count</th>\n",
       "      <td>221000.00%</td>\n",
       "      <td>221000.00%</td>\n",
       "      <td>221000.00%</td>\n",
       "      <td>221000.00%</td>\n",
       "      <td>221000.00%</td>\n",
       "      <td>221000.00%</td>\n",
       "      <td>221000.00%</td>\n",
       "      <td>221000.00%</td>\n",
       "      <td>221000.00%</td>\n",
       "      <td>221000.00%</td>\n",
       "      <td>...</td>\n",
       "      <td>221000.00%</td>\n",
       "      <td>221000.00%</td>\n",
       "      <td>221000.00%</td>\n",
       "      <td>221000.00%</td>\n",
       "      <td>221000.00%</td>\n",
       "      <td>221000.00%</td>\n",
       "      <td>221000.00%</td>\n",
       "      <td>221000.00%</td>\n",
       "      <td>221000.00%</td>\n",
       "      <td>221000.00%</td>\n",
       "    </tr>\n",
       "    <tr>\n",
       "      <th>mean</th>\n",
       "      <td>126.74%</td>\n",
       "      <td>64.62%</td>\n",
       "      <td>5196200.23%</td>\n",
       "      <td>44.21%</td>\n",
       "      <td>50.54%</td>\n",
       "      <td>4906.11%</td>\n",
       "      <td>30527.24%</td>\n",
       "      <td>2635.07%</td>\n",
       "      <td>16713.57%</td>\n",
       "      <td>3767.92%</td>\n",
       "      <td>...</td>\n",
       "      <td>267.38%</td>\n",
       "      <td>580.63%</td>\n",
       "      <td>531.90%</td>\n",
       "      <td>0.90%</td>\n",
       "      <td>15.02%</td>\n",
       "      <td>4509.00%</td>\n",
       "      <td>1111.31%</td>\n",
       "      <td>29.86%</td>\n",
       "      <td>60743.39%</td>\n",
       "      <td>259.37%</td>\n",
       "    </tr>\n",
       "    <tr>\n",
       "      <th>std</th>\n",
       "      <td>65.13%</td>\n",
       "      <td>47.83%</td>\n",
       "      <td>2153676.02%</td>\n",
       "      <td>53.70%</td>\n",
       "      <td>54.43%</td>\n",
       "      <td>2892.31%</td>\n",
       "      <td>33747.52%</td>\n",
       "      <td>3975.58%</td>\n",
       "      <td>22432.83%</td>\n",
       "      <td>5478.75%</td>\n",
       "      <td>...</td>\n",
       "      <td>292.84%</td>\n",
       "      <td>325.24%</td>\n",
       "      <td>242.54%</td>\n",
       "      <td>9.47%</td>\n",
       "      <td>35.74%</td>\n",
       "      <td>1170.62%</td>\n",
       "      <td>663.37%</td>\n",
       "      <td>67.98%</td>\n",
       "      <td>60276.08%</td>\n",
       "      <td>90.65%</td>\n",
       "    </tr>\n",
       "    <tr>\n",
       "      <th>min</th>\n",
       "      <td>0.00%</td>\n",
       "      <td>0.00%</td>\n",
       "      <td>173000.00%</td>\n",
       "      <td>0.00%</td>\n",
       "      <td>0.00%</td>\n",
       "      <td>0.00%</td>\n",
       "      <td>0.00%</td>\n",
       "      <td>0.00%</td>\n",
       "      <td>0.00%</td>\n",
       "      <td>0.00%</td>\n",
       "      <td>...</td>\n",
       "      <td>0.00%</td>\n",
       "      <td>0.00%</td>\n",
       "      <td>0.00%</td>\n",
       "      <td>0.00%</td>\n",
       "      <td>0.00%</td>\n",
       "      <td>1800.00%</td>\n",
       "      <td>0.00%</td>\n",
       "      <td>0.00%</td>\n",
       "      <td>500.00%</td>\n",
       "      <td>100.00%</td>\n",
       "    </tr>\n",
       "    <tr>\n",
       "      <th>25%</th>\n",
       "      <td>100.00%</td>\n",
       "      <td>0.00%</td>\n",
       "      <td>3520850.00%</td>\n",
       "      <td>0.00%</td>\n",
       "      <td>0.00%</td>\n",
       "      <td>2400.00%</td>\n",
       "      <td>2400.00%</td>\n",
       "      <td>200.00%</td>\n",
       "      <td>1600.00%</td>\n",
       "      <td>300.00%</td>\n",
       "      <td>...</td>\n",
       "      <td>0.00%</td>\n",
       "      <td>300.00%</td>\n",
       "      <td>300.00%</td>\n",
       "      <td>0.00%</td>\n",
       "      <td>0.00%</td>\n",
       "      <td>3700.00%</td>\n",
       "      <td>500.00%</td>\n",
       "      <td>0.00%</td>\n",
       "      <td>6900.00%</td>\n",
       "      <td>200.00%</td>\n",
       "    </tr>\n",
       "    <tr>\n",
       "      <th>50%</th>\n",
       "      <td>100.00%</td>\n",
       "      <td>100.00%</td>\n",
       "      <td>5138150.00%</td>\n",
       "      <td>0.00%</td>\n",
       "      <td>0.00%</td>\n",
       "      <td>4900.00%</td>\n",
       "      <td>17450.00%</td>\n",
       "      <td>800.00%</td>\n",
       "      <td>6800.00%</td>\n",
       "      <td>1200.00%</td>\n",
       "      <td>...</td>\n",
       "      <td>200.00%</td>\n",
       "      <td>500.00%</td>\n",
       "      <td>600.00%</td>\n",
       "      <td>0.00%</td>\n",
       "      <td>0.00%</td>\n",
       "      <td>4400.00%</td>\n",
       "      <td>1100.00%</td>\n",
       "      <td>0.00%</td>\n",
       "      <td>39650.00%</td>\n",
       "      <td>300.00%</td>\n",
       "    </tr>\n",
       "    <tr>\n",
       "      <th>75%</th>\n",
       "      <td>200.00%</td>\n",
       "      <td>100.00%</td>\n",
       "      <td>6848700.00%</td>\n",
       "      <td>100.00%</td>\n",
       "      <td>100.00%</td>\n",
       "      <td>7400.00%</td>\n",
       "      <td>50500.00%</td>\n",
       "      <td>3300.00%</td>\n",
       "      <td>23275.00%</td>\n",
       "      <td>5000.00%</td>\n",
       "      <td>...</td>\n",
       "      <td>400.00%</td>\n",
       "      <td>800.00%</td>\n",
       "      <td>700.00%</td>\n",
       "      <td>0.00%</td>\n",
       "      <td>0.00%</td>\n",
       "      <td>5500.00%</td>\n",
       "      <td>1700.00%</td>\n",
       "      <td>0.00%</td>\n",
       "      <td>104800.00%</td>\n",
       "      <td>300.00%</td>\n",
       "    </tr>\n",
       "    <tr>\n",
       "      <th>max</th>\n",
       "      <td>200.00%</td>\n",
       "      <td>100.00%</td>\n",
       "      <td>16239700.00%</td>\n",
       "      <td>200.00%</td>\n",
       "      <td>200.00%</td>\n",
       "      <td>9900.00%</td>\n",
       "      <td>149300.00%</td>\n",
       "      <td>19900.00%</td>\n",
       "      <td>172500.00%</td>\n",
       "      <td>25900.00%</td>\n",
       "      <td>...</td>\n",
       "      <td>2800.00%</td>\n",
       "      <td>1300.00%</td>\n",
       "      <td>2000.00%</td>\n",
       "      <td>100.00%</td>\n",
       "      <td>100.00%</td>\n",
       "      <td>7400.00%</td>\n",
       "      <td>2200.00%</td>\n",
       "      <td>400.00%</td>\n",
       "      <td>252500.00%</td>\n",
       "      <td>500.00%</td>\n",
       "    </tr>\n",
       "  </tbody>\n",
       "</table>\n",
       "<p>8 rows × 24 columns</p>\n",
       "</div>"
      ],
      "text/plain": [
       "       education  marital_status       income    kidhome   teenhome  \\\n",
       "count 221000.00%      221000.00%   221000.00% 221000.00% 221000.00%   \n",
       "mean     126.74%          64.62%  5196200.23%     44.21%     50.54%   \n",
       "std       65.13%          47.83%  2153676.02%     53.70%     54.43%   \n",
       "min        0.00%           0.00%   173000.00%      0.00%      0.00%   \n",
       "25%      100.00%           0.00%  3520850.00%      0.00%      0.00%   \n",
       "50%      100.00%         100.00%  5138150.00%      0.00%      0.00%   \n",
       "75%      200.00%         100.00%  6848700.00%    100.00%    100.00%   \n",
       "max      200.00%         100.00% 16239700.00%    200.00%    200.00%   \n",
       "\n",
       "         recency   mntwines  mntfruits  mntmeatproducts  mntfishproducts  ...  \\\n",
       "count 221000.00% 221000.00% 221000.00%       221000.00%       221000.00%  ...   \n",
       "mean    4906.11%  30527.24%   2635.07%        16713.57%         3767.92%  ...   \n",
       "std     2892.31%  33747.52%   3975.58%        22432.83%         5478.75%  ...   \n",
       "min        0.00%      0.00%      0.00%            0.00%            0.00%  ...   \n",
       "25%     2400.00%   2400.00%    200.00%         1600.00%          300.00%  ...   \n",
       "50%     4900.00%  17450.00%    800.00%         6800.00%         1200.00%  ...   \n",
       "75%     7400.00%  50500.00%   3300.00%        23275.00%         5000.00%  ...   \n",
       "max     9900.00% 149300.00%  19900.00%       172500.00%        25900.00%  ...   \n",
       "\n",
       "       numcatalogpurchases  numstorepurchases  numwebvisitsmonth   complain  \\\n",
       "count           221000.00%         221000.00%         221000.00% 221000.00%   \n",
       "mean               267.38%            580.63%            531.90%      0.90%   \n",
       "std                292.84%            325.24%            242.54%      9.47%   \n",
       "min                  0.00%              0.00%              0.00%      0.00%   \n",
       "25%                  0.00%            300.00%            300.00%      0.00%   \n",
       "50%                200.00%            500.00%            600.00%      0.00%   \n",
       "75%                400.00%            800.00%            700.00%      0.00%   \n",
       "max               2800.00%           1300.00%           2000.00%    100.00%   \n",
       "\n",
       "        response        age  cust_since   acc_camp  total_spent  \\\n",
       "count 221000.00% 221000.00%  221000.00% 221000.00%   221000.00%   \n",
       "mean      15.02%   4509.00%    1111.31%     29.86%    60743.39%   \n",
       "std       35.74%   1170.62%     663.37%     67.98%    60276.08%   \n",
       "min        0.00%   1800.00%       0.00%      0.00%      500.00%   \n",
       "25%        0.00%   3700.00%     500.00%      0.00%     6900.00%   \n",
       "50%        0.00%   4400.00%    1100.00%      0.00%    39650.00%   \n",
       "75%        0.00%   5500.00%    1700.00%      0.00%   104800.00%   \n",
       "max      100.00%   7400.00%    2200.00%    400.00%   252500.00%   \n",
       "\n",
       "       household_size  \n",
       "count      221000.00%  \n",
       "mean          259.37%  \n",
       "std            90.65%  \n",
       "min           100.00%  \n",
       "25%           200.00%  \n",
       "50%           300.00%  \n",
       "75%           300.00%  \n",
       "max           500.00%  \n",
       "\n",
       "[8 rows x 24 columns]"
      ]
     },
     "execution_count": 4116,
     "metadata": {},
     "output_type": "execute_result"
    }
   ],
   "source": [
    "df.describe()"
   ]
  },
  {
   "cell_type": "markdown",
   "id": "8c2f7c19",
   "metadata": {},
   "source": [
    "### histograms"
   ]
  },
  {
   "cell_type": "code",
   "execution_count": 4117,
   "id": "c5fbbc5e",
   "metadata": {},
   "outputs": [
    {
     "data": {
      "image/png": "[encoded data removed]",
      "text/plain": [
       "<Figure size 1152x1152 with 25 Axes>"
      ]
     },
     "metadata": {
      "needs_background": "light"
     },
     "output_type": "display_data"
    }
   ],
   "source": [
    "df.hist(figsize=(16,16))\n",
    "plt.show()"
   ]
  },
  {
   "cell_type": "markdown",
   "id": "a0634b61",
   "metadata": {},
   "source": [
    "## preprocessing for modeling"
   ]
  },
  {
   "cell_type": "markdown",
   "id": "99f26630",
   "metadata": {},
   "source": [
    "### encode categorical features"
   ]
  },
  {
   "cell_type": "code",
   "execution_count": 4118,
   "id": "b6839058",
   "metadata": {},
   "outputs": [],
   "source": [
    "# heatmap to show mean of each feature in the cluster\n",
    "from sklearn.preprocessing import OneHotEncoder"
   ]
  },
  {
   "cell_type": "code",
   "execution_count": 4119,
   "id": "fb0b2933",
   "metadata": {},
   "outputs": [],
   "source": [
    "df[\"marital_status\"]=pd.get_dummies(df[\"marital_status\"], drop_first=True)"
   ]
  },
  {
   "cell_type": "code",
   "execution_count": 4120,
   "id": "a5a05acc",
   "metadata": {},
   "outputs": [
    {
     "data": {
      "text/plain": [
       "0       0\n",
       "1       0\n",
       "2       1\n",
       "3       1\n",
       "4       1\n",
       "       ..\n",
       "2235    1\n",
       "2236    1\n",
       "2237    0\n",
       "2238    1\n",
       "2239    1\n",
       "Name: marital_status, Length: 2210, dtype: uint8"
      ]
     },
     "execution_count": 4120,
     "metadata": {},
     "output_type": "execute_result"
    }
   ],
   "source": [
    "df[\"marital_status\"]"
   ]
  },
  {
   "cell_type": "markdown",
   "id": "d4eef665",
   "metadata": {},
   "source": [
    "### Standard scaler"
   ]
  },
  {
   "cell_type": "code",
   "execution_count": 4121,
   "id": "8c2b2aa8",
   "metadata": {},
   "outputs": [
    {
     "data": {
      "text/html": [
       "<div>\n",
       "<style scoped>\n",
       "    .dataframe tbody tr th:only-of-type {\n",
       "        vertical-align: middle;\n",
       "    }\n",
       "\n",
       "    .dataframe tbody tr th {\n",
       "        vertical-align: top;\n",
       "    }\n",
       "\n",
       "    .dataframe thead th {\n",
       "        text-align: right;\n",
       "    }\n",
       "</style>\n",
       "<table border=\"1\" class=\"dataframe\">\n",
       "  <thead>\n",
       "    <tr style=\"text-align: right;\">\n",
       "      <th></th>\n",
       "      <th>education</th>\n",
       "      <th>marital_status</th>\n",
       "      <th>income</th>\n",
       "      <th>kidhome</th>\n",
       "      <th>teenhome</th>\n",
       "      <th>recency</th>\n",
       "      <th>mntwines</th>\n",
       "      <th>mntfruits</th>\n",
       "      <th>mntmeatproducts</th>\n",
       "      <th>mntfishproducts</th>\n",
       "      <th>...</th>\n",
       "      <th>numcatalogpurchases</th>\n",
       "      <th>numstorepurchases</th>\n",
       "      <th>numwebvisitsmonth</th>\n",
       "      <th>complain</th>\n",
       "      <th>response</th>\n",
       "      <th>age</th>\n",
       "      <th>cust_since</th>\n",
       "      <th>acc_camp</th>\n",
       "      <th>total_spent</th>\n",
       "      <th>household_size</th>\n",
       "    </tr>\n",
       "  </thead>\n",
       "  <tbody>\n",
       "    <tr>\n",
       "      <th>0</th>\n",
       "      <td>1</td>\n",
       "      <td>0</td>\n",
       "      <td>58138</td>\n",
       "      <td>0</td>\n",
       "      <td>0</td>\n",
       "      <td>58</td>\n",
       "      <td>635</td>\n",
       "      <td>88</td>\n",
       "      <td>546</td>\n",
       "      <td>172</td>\n",
       "      <td>...</td>\n",
       "      <td>10</td>\n",
       "      <td>4</td>\n",
       "      <td>7</td>\n",
       "      <td>0</td>\n",
       "      <td>1</td>\n",
       "      <td>57</td>\n",
       "      <td>21</td>\n",
       "      <td>0</td>\n",
       "      <td>1617</td>\n",
       "      <td>1</td>\n",
       "    </tr>\n",
       "    <tr>\n",
       "      <th>1</th>\n",
       "      <td>1</td>\n",
       "      <td>0</td>\n",
       "      <td>46344</td>\n",
       "      <td>1</td>\n",
       "      <td>1</td>\n",
       "      <td>38</td>\n",
       "      <td>11</td>\n",
       "      <td>1</td>\n",
       "      <td>6</td>\n",
       "      <td>2</td>\n",
       "      <td>...</td>\n",
       "      <td>1</td>\n",
       "      <td>2</td>\n",
       "      <td>5</td>\n",
       "      <td>0</td>\n",
       "      <td>0</td>\n",
       "      <td>60</td>\n",
       "      <td>3</td>\n",
       "      <td>0</td>\n",
       "      <td>27</td>\n",
       "      <td>3</td>\n",
       "    </tr>\n",
       "    <tr>\n",
       "      <th>2</th>\n",
       "      <td>1</td>\n",
       "      <td>1</td>\n",
       "      <td>71613</td>\n",
       "      <td>0</td>\n",
       "      <td>0</td>\n",
       "      <td>26</td>\n",
       "      <td>426</td>\n",
       "      <td>49</td>\n",
       "      <td>127</td>\n",
       "      <td>111</td>\n",
       "      <td>...</td>\n",
       "      <td>2</td>\n",
       "      <td>10</td>\n",
       "      <td>4</td>\n",
       "      <td>0</td>\n",
       "      <td>0</td>\n",
       "      <td>49</td>\n",
       "      <td>10</td>\n",
       "      <td>0</td>\n",
       "      <td>776</td>\n",
       "      <td>2</td>\n",
       "    </tr>\n",
       "    <tr>\n",
       "      <th>3</th>\n",
       "      <td>1</td>\n",
       "      <td>1</td>\n",
       "      <td>26646</td>\n",
       "      <td>1</td>\n",
       "      <td>0</td>\n",
       "      <td>26</td>\n",
       "      <td>11</td>\n",
       "      <td>4</td>\n",
       "      <td>20</td>\n",
       "      <td>10</td>\n",
       "      <td>...</td>\n",
       "      <td>0</td>\n",
       "      <td>4</td>\n",
       "      <td>6</td>\n",
       "      <td>0</td>\n",
       "      <td>0</td>\n",
       "      <td>30</td>\n",
       "      <td>4</td>\n",
       "      <td>0</td>\n",
       "      <td>53</td>\n",
       "      <td>3</td>\n",
       "    </tr>\n",
       "    <tr>\n",
       "      <th>4</th>\n",
       "      <td>2</td>\n",
       "      <td>1</td>\n",
       "      <td>58293</td>\n",
       "      <td>1</td>\n",
       "      <td>0</td>\n",
       "      <td>94</td>\n",
       "      <td>173</td>\n",
       "      <td>43</td>\n",
       "      <td>118</td>\n",
       "      <td>46</td>\n",
       "      <td>...</td>\n",
       "      <td>3</td>\n",
       "      <td>6</td>\n",
       "      <td>5</td>\n",
       "      <td>0</td>\n",
       "      <td>0</td>\n",
       "      <td>33</td>\n",
       "      <td>5</td>\n",
       "      <td>0</td>\n",
       "      <td>422</td>\n",
       "      <td>3</td>\n",
       "    </tr>\n",
       "  </tbody>\n",
       "</table>\n",
       "<p>5 rows × 24 columns</p>\n",
       "</div>"
      ],
      "text/plain": [
       "   education  marital_status  income  kidhome  teenhome  recency  mntwines  \\\n",
       "0          1               0   58138        0         0       58       635   \n",
       "1          1               0   46344        1         1       38        11   \n",
       "2          1               1   71613        0         0       26       426   \n",
       "3          1               1   26646        1         0       26        11   \n",
       "4          2               1   58293        1         0       94       173   \n",
       "\n",
       "   mntfruits  mntmeatproducts  mntfishproducts  ...  numcatalogpurchases  \\\n",
       "0         88              546              172  ...                   10   \n",
       "1          1                6                2  ...                    1   \n",
       "2         49              127              111  ...                    2   \n",
       "3          4               20               10  ...                    0   \n",
       "4         43              118               46  ...                    3   \n",
       "\n",
       "   numstorepurchases  numwebvisitsmonth  complain  response  age  cust_since  \\\n",
       "0                  4                  7         0         1   57          21   \n",
       "1                  2                  5         0         0   60           3   \n",
       "2                 10                  4         0         0   49          10   \n",
       "3                  4                  6         0         0   30           4   \n",
       "4                  6                  5         0         0   33           5   \n",
       "\n",
       "   acc_camp  total_spent  household_size  \n",
       "0         0         1617               1  \n",
       "1         0           27               3  \n",
       "2         0          776               2  \n",
       "3         0           53               3  \n",
       "4         0          422               3  \n",
       "\n",
       "[5 rows x 24 columns]"
      ]
     },
     "metadata": {},
     "output_type": "display_data"
    },
    {
     "name": "stdout",
     "output_type": "stream",
     "text": [
      "\n"
     ]
    },
    {
     "data": {
      "text/html": [
       "<div>\n",
       "<style scoped>\n",
       "    .dataframe tbody tr th:only-of-type {\n",
       "        vertical-align: middle;\n",
       "    }\n",
       "\n",
       "    .dataframe tbody tr th {\n",
       "        vertical-align: top;\n",
       "    }\n",
       "\n",
       "    .dataframe thead th {\n",
       "        text-align: right;\n",
       "    }\n",
       "</style>\n",
       "<table border=\"1\" class=\"dataframe\">\n",
       "  <thead>\n",
       "    <tr style=\"text-align: right;\">\n",
       "      <th></th>\n",
       "      <th>education</th>\n",
       "      <th>marital_status</th>\n",
       "      <th>income</th>\n",
       "      <th>kidhome</th>\n",
       "      <th>teenhome</th>\n",
       "      <th>recency</th>\n",
       "      <th>mntwines</th>\n",
       "      <th>mntfruits</th>\n",
       "      <th>mntmeatproducts</th>\n",
       "      <th>mntfishproducts</th>\n",
       "      <th>...</th>\n",
       "      <th>numcatalogpurchases</th>\n",
       "      <th>numstorepurchases</th>\n",
       "      <th>numwebvisitsmonth</th>\n",
       "      <th>complain</th>\n",
       "      <th>response</th>\n",
       "      <th>age</th>\n",
       "      <th>cust_since</th>\n",
       "      <th>acc_camp</th>\n",
       "      <th>total_spent</th>\n",
       "      <th>household_size</th>\n",
       "    </tr>\n",
       "  </thead>\n",
       "  <tbody>\n",
       "    <tr>\n",
       "      <th>0</th>\n",
       "      <td>-41.07%</td>\n",
       "      <td>-135.13%</td>\n",
       "      <td>28.68%</td>\n",
       "      <td>-82.34%</td>\n",
       "      <td>-92.88%</td>\n",
       "      <td>30.91%</td>\n",
       "      <td>97.73%</td>\n",
       "      <td>155.10%</td>\n",
       "      <td>168.93%</td>\n",
       "      <td>245.22%</td>\n",
       "      <td>...</td>\n",
       "      <td>250.23%</td>\n",
       "      <td>-55.55%</td>\n",
       "      <td>69.32%</td>\n",
       "      <td>-9.56%</td>\n",
       "      <td>237.84%</td>\n",
       "      <td>101.76%</td>\n",
       "      <td>149.07%</td>\n",
       "      <td>-43.94%</td>\n",
       "      <td>167.53%</td>\n",
       "      <td>-175.85%</td>\n",
       "    </tr>\n",
       "    <tr>\n",
       "      <th>1</th>\n",
       "      <td>-41.07%</td>\n",
       "      <td>-135.13%</td>\n",
       "      <td>-26.09%</td>\n",
       "      <td>103.91%</td>\n",
       "      <td>90.88%</td>\n",
       "      <td>-38.25%</td>\n",
       "      <td>-87.22%</td>\n",
       "      <td>-63.78%</td>\n",
       "      <td>-71.85%</td>\n",
       "      <td>-65.14%</td>\n",
       "      <td>...</td>\n",
       "      <td>-57.17%</td>\n",
       "      <td>-117.06%</td>\n",
       "      <td>-13.16%</td>\n",
       "      <td>-9.56%</td>\n",
       "      <td>-42.05%</td>\n",
       "      <td>127.40%</td>\n",
       "      <td>-122.33%</td>\n",
       "      <td>-43.94%</td>\n",
       "      <td>-96.32%</td>\n",
       "      <td>44.84%</td>\n",
       "    </tr>\n",
       "    <tr>\n",
       "      <th>2</th>\n",
       "      <td>-41.07%</td>\n",
       "      <td>74.00%</td>\n",
       "      <td>91.26%</td>\n",
       "      <td>-82.34%</td>\n",
       "      <td>-92.88%</td>\n",
       "      <td>-79.75%</td>\n",
       "      <td>35.78%</td>\n",
       "      <td>56.98%</td>\n",
       "      <td>-17.90%</td>\n",
       "      <td>133.86%</td>\n",
       "      <td>...</td>\n",
       "      <td>-23.01%</td>\n",
       "      <td>128.97%</td>\n",
       "      <td>-54.40%</td>\n",
       "      <td>-9.56%</td>\n",
       "      <td>-42.05%</td>\n",
       "      <td>33.41%</td>\n",
       "      <td>-16.78%</td>\n",
       "      <td>-43.94%</td>\n",
       "      <td>27.97%</td>\n",
       "      <td>-65.51%</td>\n",
       "    </tr>\n",
       "    <tr>\n",
       "      <th>3</th>\n",
       "      <td>-41.07%</td>\n",
       "      <td>74.00%</td>\n",
       "      <td>-117.57%</td>\n",
       "      <td>103.91%</td>\n",
       "      <td>-92.88%</td>\n",
       "      <td>-79.75%</td>\n",
       "      <td>-87.22%</td>\n",
       "      <td>-56.23%</td>\n",
       "      <td>-65.60%</td>\n",
       "      <td>-50.53%</td>\n",
       "      <td>...</td>\n",
       "      <td>-91.32%</td>\n",
       "      <td>-55.55%</td>\n",
       "      <td>28.08%</td>\n",
       "      <td>-9.56%</td>\n",
       "      <td>-42.05%</td>\n",
       "      <td>-128.94%</td>\n",
       "      <td>-107.25%</td>\n",
       "      <td>-43.94%</td>\n",
       "      <td>-92.00%</td>\n",
       "      <td>44.84%</td>\n",
       "    </tr>\n",
       "    <tr>\n",
       "      <th>4</th>\n",
       "      <td>112.51%</td>\n",
       "      <td>74.00%</td>\n",
       "      <td>29.40%</td>\n",
       "      <td>103.91%</td>\n",
       "      <td>-92.88%</td>\n",
       "      <td>155.41%</td>\n",
       "      <td>-39.20%</td>\n",
       "      <td>41.89%</td>\n",
       "      <td>-21.91%</td>\n",
       "      <td>15.19%</td>\n",
       "      <td>...</td>\n",
       "      <td>11.14%</td>\n",
       "      <td>5.96%</td>\n",
       "      <td>-13.16%</td>\n",
       "      <td>-9.56%</td>\n",
       "      <td>-42.05%</td>\n",
       "      <td>-103.30%</td>\n",
       "      <td>-92.17%</td>\n",
       "      <td>-43.94%</td>\n",
       "      <td>-30.77%</td>\n",
       "      <td>44.84%</td>\n",
       "    </tr>\n",
       "  </tbody>\n",
       "</table>\n",
       "<p>5 rows × 24 columns</p>\n",
       "</div>"
      ],
      "text/plain": [
       "   education  marital_status   income  kidhome  teenhome  recency  mntwines  \\\n",
       "0    -41.07%        -135.13%   28.68%  -82.34%   -92.88%   30.91%    97.73%   \n",
       "1    -41.07%        -135.13%  -26.09%  103.91%    90.88%  -38.25%   -87.22%   \n",
       "2    -41.07%          74.00%   91.26%  -82.34%   -92.88%  -79.75%    35.78%   \n",
       "3    -41.07%          74.00% -117.57%  103.91%   -92.88%  -79.75%   -87.22%   \n",
       "4    112.51%          74.00%   29.40%  103.91%   -92.88%  155.41%   -39.20%   \n",
       "\n",
       "   mntfruits  mntmeatproducts  mntfishproducts  ...  numcatalogpurchases  \\\n",
       "0    155.10%          168.93%          245.22%  ...              250.23%   \n",
       "1    -63.78%          -71.85%          -65.14%  ...              -57.17%   \n",
       "2     56.98%          -17.90%          133.86%  ...              -23.01%   \n",
       "3    -56.23%          -65.60%          -50.53%  ...              -91.32%   \n",
       "4     41.89%          -21.91%           15.19%  ...               11.14%   \n",
       "\n",
       "   numstorepurchases  numwebvisitsmonth  complain  response      age  \\\n",
       "0            -55.55%             69.32%    -9.56%   237.84%  101.76%   \n",
       "1           -117.06%            -13.16%    -9.56%   -42.05%  127.40%   \n",
       "2            128.97%            -54.40%    -9.56%   -42.05%   33.41%   \n",
       "3            -55.55%             28.08%    -9.56%   -42.05% -128.94%   \n",
       "4              5.96%            -13.16%    -9.56%   -42.05% -103.30%   \n",
       "\n",
       "   cust_since  acc_camp  total_spent  household_size  \n",
       "0     149.07%   -43.94%      167.53%        -175.85%  \n",
       "1    -122.33%   -43.94%      -96.32%          44.84%  \n",
       "2     -16.78%   -43.94%       27.97%         -65.51%  \n",
       "3    -107.25%   -43.94%      -92.00%          44.84%  \n",
       "4     -92.17%   -43.94%      -30.77%          44.84%  \n",
       "\n",
       "[5 rows x 24 columns]"
      ]
     },
     "metadata": {},
     "output_type": "display_data"
    }
   ],
   "source": [
    "scaler = StandardScaler()\n",
    "scaler.fit(df)\n",
    "df_scaled = scaler.transform(df)\n",
    "df_scaled_df = pd.DataFrame(df_scaled, columns = df.columns)\n",
    "display(df.head())\n",
    "print()\n",
    "display(df_scaled_df.head())"
   ]
  },
  {
   "cell_type": "markdown",
   "id": "319c5486",
   "metadata": {},
   "source": [
    "## Clustering using  PCA"
   ]
  },
  {
   "cell_type": "markdown",
   "id": "786cb162",
   "metadata": {},
   "source": [
    "from sklearn.decomposition import PCA\n",
    "\n",
    "pca = PCA(svd_solver='full')\n",
    "\n",
    "pca.fit(df_scaled_df)\n",
    "\n",
    "df_scaled_df = pca.transform(df_scaled_df)\n",
    "\n",
    "cols = [ 'PCA_' + str(i) for i in list(range(1,len(df.columns)+1))]\n",
    "\n",
    "df_scaled_df = pd.DataFrame(df_scaled_df, columns = cols)"
   ]
  },
  {
   "cell_type": "markdown",
   "id": "6fc10ed1",
   "metadata": {},
   "source": [
    "df_scaled_df= df_scaled_df.iloc[:,:11]\n",
    "df_scaled_df"
   ]
  },
  {
   "cell_type": "markdown",
   "id": "24e2d85e",
   "metadata": {},
   "source": [
    "### Getting Variances"
   ]
  },
  {
   "cell_type": "markdown",
   "id": "f961a461",
   "metadata": {},
   "source": [
    "print(pca.explained_variance_ratio_)"
   ]
  },
  {
   "cell_type": "markdown",
   "id": "be7d90a8",
   "metadata": {},
   "source": [
    "variances = pca.explained_variance_ratio_.tolist()"
   ]
  },
  {
   "cell_type": "markdown",
   "id": "ec88d6d8",
   "metadata": {},
   "source": [
    "total_variance = [sum(variances[:i]) for i in range(1, len(variances)+1)]\n",
    "scree = pd.DataFrame({'num_pca': range(1,len(variances)+1),'variance': variances,'cum_variance': total_variance})\n",
    "scree.head(22)"
   ]
  },
  {
   "cell_type": "markdown",
   "id": "0b6bf67e",
   "metadata": {},
   "source": [
    "import matplotlib.pyplot as plt\n",
    "import seaborn as sns\n",
    "%matplotlib inline\n",
    "\n",
    "sns.set_style(\"darkgrid\", {\"axes.facecolor\": \".9\"})\n",
    "\n",
    "fig, ax = plt.subplots(1,2,figsize=(16,8))\n",
    "\n",
    "sns.lineplot(x=\"num_pca\", y=\"variance\", data=scree, ax = ax[0], color = 'black')\n",
    "ax[0].set_xticks(range(1,32))\n",
    "sns.barplot(x=\"num_pca\", y=\"cum_variance\", data=scree, ax = ax[1], color = 'lightblue')"
   ]
  },
  {
   "cell_type": "markdown",
   "id": "7461c79b",
   "metadata": {},
   "source": [
    "### Getting the PCA coefficients"
   ]
  },
  {
   "cell_type": "markdown",
   "id": "d10c51b4",
   "metadata": {},
   "source": [
    "pca.components_"
   ]
  },
  {
   "cell_type": "markdown",
   "id": "baad8a41",
   "metadata": {},
   "source": [
    "for comp in range(1,len(pca.components_)+1):\n",
    "    print(\"Principal component \",comp)\n",
    "    my_list = [(abs(value),index+1,df.columns[index],value) for index,value in enumerate(pca.components_[comp-1,:]) ]\n",
    "    my_list.sort(reverse=True)\n",
    "    my_list = [(elem[1],elem[2],round(elem[3],2)) for elem in my_list]\n",
    "    print(my_list)\n",
    "    print()"
   ]
  },
  {
   "cell_type": "code",
   "execution_count": 4122,
   "id": "f32ac9d3",
   "metadata": {},
   "outputs": [
    {
     "data": {
      "text/html": [
       "<div>\n",
       "<style scoped>\n",
       "    .dataframe tbody tr th:only-of-type {\n",
       "        vertical-align: middle;\n",
       "    }\n",
       "\n",
       "    .dataframe tbody tr th {\n",
       "        vertical-align: top;\n",
       "    }\n",
       "\n",
       "    .dataframe thead th {\n",
       "        text-align: right;\n",
       "    }\n",
       "</style>\n",
       "<table border=\"1\" class=\"dataframe\">\n",
       "  <thead>\n",
       "    <tr style=\"text-align: right;\">\n",
       "      <th></th>\n",
       "      <th>education</th>\n",
       "      <th>marital_status</th>\n",
       "      <th>income</th>\n",
       "      <th>kidhome</th>\n",
       "      <th>teenhome</th>\n",
       "      <th>recency</th>\n",
       "      <th>mntwines</th>\n",
       "      <th>mntfruits</th>\n",
       "      <th>mntmeatproducts</th>\n",
       "      <th>mntfishproducts</th>\n",
       "      <th>...</th>\n",
       "      <th>numcatalogpurchases</th>\n",
       "      <th>numstorepurchases</th>\n",
       "      <th>numwebvisitsmonth</th>\n",
       "      <th>complain</th>\n",
       "      <th>response</th>\n",
       "      <th>age</th>\n",
       "      <th>cust_since</th>\n",
       "      <th>acc_camp</th>\n",
       "      <th>total_spent</th>\n",
       "      <th>household_size</th>\n",
       "    </tr>\n",
       "  </thead>\n",
       "  <tbody>\n",
       "    <tr>\n",
       "      <th>0</th>\n",
       "      <td>1</td>\n",
       "      <td>0</td>\n",
       "      <td>58138</td>\n",
       "      <td>0</td>\n",
       "      <td>0</td>\n",
       "      <td>58</td>\n",
       "      <td>635</td>\n",
       "      <td>88</td>\n",
       "      <td>546</td>\n",
       "      <td>172</td>\n",
       "      <td>...</td>\n",
       "      <td>10</td>\n",
       "      <td>4</td>\n",
       "      <td>7</td>\n",
       "      <td>0</td>\n",
       "      <td>1</td>\n",
       "      <td>57</td>\n",
       "      <td>21</td>\n",
       "      <td>0</td>\n",
       "      <td>1617</td>\n",
       "      <td>1</td>\n",
       "    </tr>\n",
       "    <tr>\n",
       "      <th>1</th>\n",
       "      <td>1</td>\n",
       "      <td>0</td>\n",
       "      <td>46344</td>\n",
       "      <td>1</td>\n",
       "      <td>1</td>\n",
       "      <td>38</td>\n",
       "      <td>11</td>\n",
       "      <td>1</td>\n",
       "      <td>6</td>\n",
       "      <td>2</td>\n",
       "      <td>...</td>\n",
       "      <td>1</td>\n",
       "      <td>2</td>\n",
       "      <td>5</td>\n",
       "      <td>0</td>\n",
       "      <td>0</td>\n",
       "      <td>60</td>\n",
       "      <td>3</td>\n",
       "      <td>0</td>\n",
       "      <td>27</td>\n",
       "      <td>3</td>\n",
       "    </tr>\n",
       "    <tr>\n",
       "      <th>2</th>\n",
       "      <td>1</td>\n",
       "      <td>1</td>\n",
       "      <td>71613</td>\n",
       "      <td>0</td>\n",
       "      <td>0</td>\n",
       "      <td>26</td>\n",
       "      <td>426</td>\n",
       "      <td>49</td>\n",
       "      <td>127</td>\n",
       "      <td>111</td>\n",
       "      <td>...</td>\n",
       "      <td>2</td>\n",
       "      <td>10</td>\n",
       "      <td>4</td>\n",
       "      <td>0</td>\n",
       "      <td>0</td>\n",
       "      <td>49</td>\n",
       "      <td>10</td>\n",
       "      <td>0</td>\n",
       "      <td>776</td>\n",
       "      <td>2</td>\n",
       "    </tr>\n",
       "    <tr>\n",
       "      <th>3</th>\n",
       "      <td>1</td>\n",
       "      <td>1</td>\n",
       "      <td>26646</td>\n",
       "      <td>1</td>\n",
       "      <td>0</td>\n",
       "      <td>26</td>\n",
       "      <td>11</td>\n",
       "      <td>4</td>\n",
       "      <td>20</td>\n",
       "      <td>10</td>\n",
       "      <td>...</td>\n",
       "      <td>0</td>\n",
       "      <td>4</td>\n",
       "      <td>6</td>\n",
       "      <td>0</td>\n",
       "      <td>0</td>\n",
       "      <td>30</td>\n",
       "      <td>4</td>\n",
       "      <td>0</td>\n",
       "      <td>53</td>\n",
       "      <td>3</td>\n",
       "    </tr>\n",
       "    <tr>\n",
       "      <th>4</th>\n",
       "      <td>2</td>\n",
       "      <td>1</td>\n",
       "      <td>58293</td>\n",
       "      <td>1</td>\n",
       "      <td>0</td>\n",
       "      <td>94</td>\n",
       "      <td>173</td>\n",
       "      <td>43</td>\n",
       "      <td>118</td>\n",
       "      <td>46</td>\n",
       "      <td>...</td>\n",
       "      <td>3</td>\n",
       "      <td>6</td>\n",
       "      <td>5</td>\n",
       "      <td>0</td>\n",
       "      <td>0</td>\n",
       "      <td>33</td>\n",
       "      <td>5</td>\n",
       "      <td>0</td>\n",
       "      <td>422</td>\n",
       "      <td>3</td>\n",
       "    </tr>\n",
       "    <tr>\n",
       "      <th>...</th>\n",
       "      <td>...</td>\n",
       "      <td>...</td>\n",
       "      <td>...</td>\n",
       "      <td>...</td>\n",
       "      <td>...</td>\n",
       "      <td>...</td>\n",
       "      <td>...</td>\n",
       "      <td>...</td>\n",
       "      <td>...</td>\n",
       "      <td>...</td>\n",
       "      <td>...</td>\n",
       "      <td>...</td>\n",
       "      <td>...</td>\n",
       "      <td>...</td>\n",
       "      <td>...</td>\n",
       "      <td>...</td>\n",
       "      <td>...</td>\n",
       "      <td>...</td>\n",
       "      <td>...</td>\n",
       "      <td>...</td>\n",
       "      <td>...</td>\n",
       "    </tr>\n",
       "    <tr>\n",
       "      <th>2235</th>\n",
       "      <td>1</td>\n",
       "      <td>1</td>\n",
       "      <td>61223</td>\n",
       "      <td>0</td>\n",
       "      <td>1</td>\n",
       "      <td>46</td>\n",
       "      <td>709</td>\n",
       "      <td>43</td>\n",
       "      <td>182</td>\n",
       "      <td>42</td>\n",
       "      <td>...</td>\n",
       "      <td>3</td>\n",
       "      <td>4</td>\n",
       "      <td>5</td>\n",
       "      <td>0</td>\n",
       "      <td>0</td>\n",
       "      <td>47</td>\n",
       "      <td>12</td>\n",
       "      <td>0</td>\n",
       "      <td>1341</td>\n",
       "      <td>3</td>\n",
       "    </tr>\n",
       "    <tr>\n",
       "      <th>2236</th>\n",
       "      <td>2</td>\n",
       "      <td>1</td>\n",
       "      <td>64014</td>\n",
       "      <td>2</td>\n",
       "      <td>1</td>\n",
       "      <td>56</td>\n",
       "      <td>406</td>\n",
       "      <td>0</td>\n",
       "      <td>30</td>\n",
       "      <td>0</td>\n",
       "      <td>...</td>\n",
       "      <td>2</td>\n",
       "      <td>5</td>\n",
       "      <td>7</td>\n",
       "      <td>0</td>\n",
       "      <td>0</td>\n",
       "      <td>68</td>\n",
       "      <td>0</td>\n",
       "      <td>1</td>\n",
       "      <td>444</td>\n",
       "      <td>5</td>\n",
       "    </tr>\n",
       "    <tr>\n",
       "      <th>2237</th>\n",
       "      <td>1</td>\n",
       "      <td>0</td>\n",
       "      <td>56981</td>\n",
       "      <td>0</td>\n",
       "      <td>0</td>\n",
       "      <td>91</td>\n",
       "      <td>908</td>\n",
       "      <td>48</td>\n",
       "      <td>217</td>\n",
       "      <td>32</td>\n",
       "      <td>...</td>\n",
       "      <td>3</td>\n",
       "      <td>13</td>\n",
       "      <td>6</td>\n",
       "      <td>0</td>\n",
       "      <td>0</td>\n",
       "      <td>33</td>\n",
       "      <td>5</td>\n",
       "      <td>1</td>\n",
       "      <td>1241</td>\n",
       "      <td>1</td>\n",
       "    </tr>\n",
       "    <tr>\n",
       "      <th>2238</th>\n",
       "      <td>2</td>\n",
       "      <td>1</td>\n",
       "      <td>69245</td>\n",
       "      <td>0</td>\n",
       "      <td>1</td>\n",
       "      <td>8</td>\n",
       "      <td>428</td>\n",
       "      <td>30</td>\n",
       "      <td>214</td>\n",
       "      <td>80</td>\n",
       "      <td>...</td>\n",
       "      <td>5</td>\n",
       "      <td>10</td>\n",
       "      <td>3</td>\n",
       "      <td>0</td>\n",
       "      <td>0</td>\n",
       "      <td>58</td>\n",
       "      <td>5</td>\n",
       "      <td>0</td>\n",
       "      <td>843</td>\n",
       "      <td>3</td>\n",
       "    </tr>\n",
       "    <tr>\n",
       "      <th>2239</th>\n",
       "      <td>2</td>\n",
       "      <td>1</td>\n",
       "      <td>52869</td>\n",
       "      <td>1</td>\n",
       "      <td>1</td>\n",
       "      <td>40</td>\n",
       "      <td>84</td>\n",
       "      <td>3</td>\n",
       "      <td>61</td>\n",
       "      <td>2</td>\n",
       "      <td>...</td>\n",
       "      <td>1</td>\n",
       "      <td>4</td>\n",
       "      <td>7</td>\n",
       "      <td>0</td>\n",
       "      <td>1</td>\n",
       "      <td>60</td>\n",
       "      <td>20</td>\n",
       "      <td>0</td>\n",
       "      <td>172</td>\n",
       "      <td>4</td>\n",
       "    </tr>\n",
       "  </tbody>\n",
       "</table>\n",
       "<p>2210 rows × 24 columns</p>\n",
       "</div>"
      ],
      "text/plain": [
       "      education  marital_status  income  kidhome  teenhome  recency  mntwines  \\\n",
       "0             1               0   58138        0         0       58       635   \n",
       "1             1               0   46344        1         1       38        11   \n",
       "2             1               1   71613        0         0       26       426   \n",
       "3             1               1   26646        1         0       26        11   \n",
       "4             2               1   58293        1         0       94       173   \n",
       "...         ...             ...     ...      ...       ...      ...       ...   \n",
       "2235          1               1   61223        0         1       46       709   \n",
       "2236          2               1   64014        2         1       56       406   \n",
       "2237          1               0   56981        0         0       91       908   \n",
       "2238          2               1   69245        0         1        8       428   \n",
       "2239          2               1   52869        1         1       40        84   \n",
       "\n",
       "      mntfruits  mntmeatproducts  mntfishproducts  ...  numcatalogpurchases  \\\n",
       "0            88              546              172  ...                   10   \n",
       "1             1                6                2  ...                    1   \n",
       "2            49              127              111  ...                    2   \n",
       "3             4               20               10  ...                    0   \n",
       "4            43              118               46  ...                    3   \n",
       "...         ...              ...              ...  ...                  ...   \n",
       "2235         43              182               42  ...                    3   \n",
       "2236          0               30                0  ...                    2   \n",
       "2237         48              217               32  ...                    3   \n",
       "2238         30              214               80  ...                    5   \n",
       "2239          3               61                2  ...                    1   \n",
       "\n",
       "      numstorepurchases  numwebvisitsmonth  complain  response  age  \\\n",
       "0                     4                  7         0         1   57   \n",
       "1                     2                  5         0         0   60   \n",
       "2                    10                  4         0         0   49   \n",
       "3                     4                  6         0         0   30   \n",
       "4                     6                  5         0         0   33   \n",
       "...                 ...                ...       ...       ...  ...   \n",
       "2235                  4                  5         0         0   47   \n",
       "2236                  5                  7         0         0   68   \n",
       "2237                 13                  6         0         0   33   \n",
       "2238                 10                  3         0         0   58   \n",
       "2239                  4                  7         0         1   60   \n",
       "\n",
       "      cust_since  acc_camp  total_spent  household_size  \n",
       "0             21         0         1617               1  \n",
       "1              3         0           27               3  \n",
       "2             10         0          776               2  \n",
       "3              4         0           53               3  \n",
       "4              5         0          422               3  \n",
       "...          ...       ...          ...             ...  \n",
       "2235          12         0         1341               3  \n",
       "2236           0         1          444               5  \n",
       "2237           5         1         1241               1  \n",
       "2238           5         0          843               3  \n",
       "2239          20         0          172               4  \n",
       "\n",
       "[2210 rows x 24 columns]"
      ]
     },
     "execution_count": 4122,
     "metadata": {},
     "output_type": "execute_result"
    }
   ],
   "source": [
    "df"
   ]
  },
  {
   "cell_type": "markdown",
   "id": "ea992cae",
   "metadata": {},
   "source": [
    "## Clustering using K-Means"
   ]
  },
  {
   "cell_type": "code",
   "execution_count": 4123,
   "id": "ff1ff842",
   "metadata": {},
   "outputs": [
    {
     "data": {
      "text/plain": [
       "KMeans(n_clusters=6, random_state=1234)"
      ]
     },
     "execution_count": 4123,
     "metadata": {},
     "output_type": "execute_result"
    }
   ],
   "source": [
    "kmeans = KMeans(n_clusters=6, init=\"k-means++\", random_state=1234)\n",
    "kmeans.fit(df_scaled_df)"
   ]
  },
  {
   "cell_type": "code",
   "execution_count": 4124,
   "id": "bc382db5",
   "metadata": {},
   "outputs": [
    {
     "data": {
      "text/plain": [
       "array([1, 0, 1, ..., 1, 2, 0], dtype=int32)"
      ]
     },
     "execution_count": 4124,
     "metadata": {},
     "output_type": "execute_result"
    }
   ],
   "source": [
    "kmeans.labels_"
   ]
  },
  {
   "cell_type": "markdown",
   "id": "c7526c5f",
   "metadata": {},
   "source": [
    "### K-Means Scatterplot Example"
   ]
  },
  {
   "cell_type": "code",
   "execution_count": 4125,
   "id": "be473deb",
   "metadata": {
    "scrolled": false
   },
   "outputs": [
    {
     "data": {
      "image/png": "[encoded data removed]",
      "text/plain": [
       "<Figure size 720x720 with 1 Axes>"
      ]
     },
     "metadata": {
      "needs_background": "light"
     },
     "output_type": "display_data"
    }
   ],
   "source": [
    "# assign a cluster to each example\n",
    "labels = kmeans.predict(df_scaled_df)\n",
    "# retrieve unique clusters\n",
    "clusters = np.unique(labels)\n",
    "plt.figure(figsize=(10, 10))\n",
    "# create scatter plot for samples from each cluster\n",
    "for cluster in clusters:\n",
    "    # get row indexes for samples with this cluster\n",
    "    row_ix = np.where(labels == cluster)\n",
    "    # create scatter of these samples (2=\"income\", 22=\"total_spent\", 6=\"mntwine\")\n",
    "    pyplot.scatter(df.to_numpy()[row_ix, 22], df.to_numpy()[row_ix, 2],linewidths=1)\n",
    "pyplot.show()"
   ]
  },
  {
   "cell_type": "code",
   "execution_count": 4126,
   "id": "2ddf0014",
   "metadata": {},
   "outputs": [
    {
     "data": {
      "text/plain": [
       "0    733\n",
       "1    423\n",
       "2    535\n",
       "3    345\n",
       "4     20\n",
       "5    154\n",
       "dtype: int64"
      ]
     },
     "execution_count": 4126,
     "metadata": {},
     "output_type": "execute_result"
    }
   ],
   "source": [
    "clusters = kmeans.predict(df_scaled_df)\n",
    "pd.Series(clusters).value_counts().sort_index()"
   ]
  },
  {
   "cell_type": "code",
   "execution_count": 4127,
   "id": "1c752039",
   "metadata": {},
   "outputs": [],
   "source": [
    "df[\"cluster\"] = clusters"
   ]
  },
  {
   "cell_type": "code",
   "execution_count": 4128,
   "id": "87d30f1a",
   "metadata": {},
   "outputs": [
    {
     "data": {
      "text/html": [
       "<div>\n",
       "<style scoped>\n",
       "    .dataframe tbody tr th:only-of-type {\n",
       "        vertical-align: middle;\n",
       "    }\n",
       "\n",
       "    .dataframe tbody tr th {\n",
       "        vertical-align: top;\n",
       "    }\n",
       "\n",
       "    .dataframe thead th {\n",
       "        text-align: right;\n",
       "    }\n",
       "</style>\n",
       "<table border=\"1\" class=\"dataframe\">\n",
       "  <thead>\n",
       "    <tr style=\"text-align: right;\">\n",
       "      <th></th>\n",
       "      <th>education</th>\n",
       "      <th>marital_status</th>\n",
       "      <th>income</th>\n",
       "      <th>kidhome</th>\n",
       "      <th>teenhome</th>\n",
       "      <th>recency</th>\n",
       "      <th>mntwines</th>\n",
       "      <th>mntfruits</th>\n",
       "      <th>mntmeatproducts</th>\n",
       "      <th>mntfishproducts</th>\n",
       "      <th>...</th>\n",
       "      <th>numstorepurchases</th>\n",
       "      <th>numwebvisitsmonth</th>\n",
       "      <th>complain</th>\n",
       "      <th>response</th>\n",
       "      <th>age</th>\n",
       "      <th>cust_since</th>\n",
       "      <th>acc_camp</th>\n",
       "      <th>total_spent</th>\n",
       "      <th>household_size</th>\n",
       "      <th>cluster</th>\n",
       "    </tr>\n",
       "  </thead>\n",
       "  <tbody>\n",
       "    <tr>\n",
       "      <th>131</th>\n",
       "      <td>2</td>\n",
       "      <td>0</td>\n",
       "      <td>61331</td>\n",
       "      <td>1</td>\n",
       "      <td>1</td>\n",
       "      <td>42</td>\n",
       "      <td>534</td>\n",
       "      <td>5</td>\n",
       "      <td>47</td>\n",
       "      <td>0</td>\n",
       "      <td>...</td>\n",
       "      <td>6</td>\n",
       "      <td>8</td>\n",
       "      <td>0</td>\n",
       "      <td>0</td>\n",
       "      <td>56</td>\n",
       "      <td>15</td>\n",
       "      <td>0</td>\n",
       "      <td>632</td>\n",
       "      <td>3</td>\n",
       "      <td>2</td>\n",
       "    </tr>\n",
       "  </tbody>\n",
       "</table>\n",
       "<p>1 rows × 25 columns</p>\n",
       "</div>"
      ],
      "text/plain": [
       "     education  marital_status  income  kidhome  teenhome  recency  mntwines  \\\n",
       "131          2               0   61331        1         1       42       534   \n",
       "\n",
       "     mntfruits  mntmeatproducts  mntfishproducts  ...  numstorepurchases  \\\n",
       "131          5               47                0  ...                  6   \n",
       "\n",
       "     numwebvisitsmonth  complain  response  age  cust_since  acc_camp  \\\n",
       "131                  8         0         0   56          15         0   \n",
       "\n",
       "     total_spent  household_size  cluster  \n",
       "131          632               3        2  \n",
       "\n",
       "[1 rows x 25 columns]"
      ]
     },
     "execution_count": 4128,
     "metadata": {},
     "output_type": "execute_result"
    }
   ],
   "source": [
    "df[df['cluster'] == 2].sample()"
   ]
  },
  {
   "cell_type": "code",
   "execution_count": 4129,
   "id": "14aea034",
   "metadata": {},
   "outputs": [
    {
     "data": {
      "text/plain": [
       "30923.61576920087"
      ]
     },
     "execution_count": 4129,
     "metadata": {},
     "output_type": "execute_result"
    }
   ],
   "source": [
    "kmeans.inertia_"
   ]
  },
  {
   "cell_type": "code",
   "execution_count": 4130,
   "id": "9a8da1e8",
   "metadata": {},
   "outputs": [
    {
     "name": "stdout",
     "output_type": "stream",
     "text": [
      "30560.038245300355\n"
     ]
    }
   ],
   "source": [
    "kmeans2 = KMeans(n_clusters=6,\n",
    "                init=\"k-means++\",\n",
    "                n_init=50,  # try with 1, 4, 8, 20, 30, 100...\n",
    "                max_iter=10,\n",
    "                tol=0,\n",
    "                algorithm=\"elkan\",\n",
    "                random_state=1234)\n",
    "kmeans2.fit(df_scaled_df)\n",
    "print(kmeans2.inertia_)"
   ]
  },
  {
   "cell_type": "markdown",
   "id": "1e208023",
   "metadata": {},
   "source": [
    "### Elbow method"
   ]
  },
  {
   "cell_type": "code",
   "execution_count": 4131,
   "id": "9c79eaa2",
   "metadata": {},
   "outputs": [
    {
     "data": {
      "text/plain": [
       "Text(0.5, 1.0, 'Elbow Method showing the optimal k')"
      ]
     },
     "execution_count": 4131,
     "metadata": {},
     "output_type": "execute_result"
    },
    {
     "data": {
      "image/png": "[encoded data removed]",
      "text/plain": [
       "<Figure size 1152x576 with 1 Axes>"
      ]
     },
     "metadata": {
      "needs_background": "light"
     },
     "output_type": "display_data"
    }
   ],
   "source": [
    "K = range(2, 21)\n",
    "inertia = []\n",
    "\n",
    "for k in K:\n",
    "    kmeans = KMeans(n_clusters=k,\n",
    "                    random_state=1234)\n",
    "    kmeans.fit(df_scaled_df)\n",
    "    inertia.append(kmeans.inertia_)\n",
    "\n",
    "plt.figure(figsize=(16,8))\n",
    "plt.plot(K, inertia, 'bx-')\n",
    "plt.xlabel('k')\n",
    "plt.ylabel('inertia')\n",
    "plt.xticks(np.arange(min(K), max(K)+1, 1.0))\n",
    "plt.title('Elbow Method showing the optimal k')"
   ]
  },
  {
   "cell_type": "markdown",
   "id": "4ce5e1be",
   "metadata": {},
   "source": [
    "### Silhouette method"
   ]
  },
  {
   "cell_type": "code",
   "execution_count": 4132,
   "id": "1eb57855",
   "metadata": {},
   "outputs": [
    {
     "data": {
      "text/plain": [
       "Text(0.5, 1.0, 'Silhouette Method showing the optimal k')"
      ]
     },
     "execution_count": 4132,
     "metadata": {},
     "output_type": "execute_result"
    },
    {
     "data": {
      "image/png": "[encoded data removed]",
      "text/plain": [
       "<Figure size 1152x576 with 1 Axes>"
      ]
     },
     "metadata": {
      "needs_background": "light"
     },
     "output_type": "display_data"
    }
   ],
   "source": [
    "K = range(2, 20)\n",
    "silhouette = []\n",
    "\n",
    "for k in K:\n",
    "    kmeans = KMeans(n_clusters=k,\n",
    "                    random_state=1234)\n",
    "    kmeans.fit(df_scaled_df)\n",
    "    \n",
    "   \n",
    "    \n",
    "    silhouette.append(silhouette_score(df_scaled_df, kmeans.predict(df_scaled_df)))\n",
    "\n",
    "\n",
    "plt.figure(figsize=(16,8))\n",
    "plt.plot(K, silhouette, 'bx-')\n",
    "plt.xlabel('k')\n",
    "plt.ylabel('silhouette score')\n",
    "plt.xticks(np.arange(min(K), max(K)+1, 1.0))\n",
    "plt.title('Silhouette Method showing the optimal k')"
   ]
  },
  {
   "cell_type": "markdown",
   "id": "64cbd708",
   "metadata": {},
   "source": [
    "### visualize Silhouette"
   ]
  },
  {
   "cell_type": "code",
   "execution_count": 4133,
   "id": "dec8f07a",
   "metadata": {},
   "outputs": [
    {
     "data": {
      "image/png": "[encoded data removed]",
      "text/plain": [
       "<Figure size 432x288 with 1 Axes>"
      ]
     },
     "metadata": {
      "needs_background": "light"
     },
     "output_type": "display_data"
    },
    {
     "data": {
      "text/plain": [
       "<AxesSubplot:title={'center':'Silhouette Plot of KMeans Clustering for 2210 Samples in 6 Centers'}, xlabel='silhouette coefficient values', ylabel='cluster label'>"
      ]
     },
     "execution_count": 4133,
     "metadata": {},
     "output_type": "execute_result"
    }
   ],
   "source": [
    "from yellowbrick.cluster import SilhouetteVisualizer\n",
    "model = KMeans(6, random_state=1234)\n",
    "visualizer = SilhouetteVisualizer(model, colors='yellowbrick')\n",
    "visualizer.fit(df_scaled_df)        \n",
    "visualizer.show()       "
   ]
  },
  {
   "cell_type": "markdown",
   "id": "5c59212d",
   "metadata": {},
   "source": [
    "### Ninas Heatmap"
   ]
  },
  {
   "cell_type": "code",
   "execution_count": 4134,
   "id": "02ad3665",
   "metadata": {},
   "outputs": [],
   "source": [
    "df = df.reset_index(drop=True)"
   ]
  },
  {
   "cell_type": "code",
   "execution_count": 4135,
   "id": "4a78f3dd",
   "metadata": {
    "scrolled": false
   },
   "outputs": [
    {
     "data": {
      "image/png": "[encoded data removed]",
      "text/plain": [
       "<Figure size 1800x1080 with 2 Axes>"
      ]
     },
     "metadata": {},
     "output_type": "display_data"
    }
   ],
   "source": [
    "#create dictionary of cluster membership for each label\n",
    "cluster_labels = np.unique(df.cluster)\n",
    "cluster_members = {}\n",
    "for clusters in cluster_labels:\n",
    "    cluster_members[clusters] = np.where(df.cluster == clusters)\n",
    "\n",
    "#for each cluster label (ky) calculate the mean for each feature\n",
    "scaled_feature_means_by_cluster = pd.DataFrame([df_scaled_df.loc[cluster_members[ky]].mean(numeric_only=True) for ky in cluster_members.keys()])\n",
    "\n",
    "#plot results as heatmap \n",
    "with sns.axes_style(\"white\"):\n",
    "    f, ax = plt.subplots(figsize=(25, 15))\n",
    "    ax = sns.heatmap(scaled_feature_means_by_cluster, cmap='coolwarm', vmin=-1, vmax=1, annot=True, square=True)\n"
   ]
  },
  {
   "cell_type": "markdown",
   "id": "07d18b0c",
   "metadata": {},
   "source": [
    "## Describing + plotting Clusters "
   ]
  },
  {
   "cell_type": "markdown",
   "id": "91643d8f",
   "metadata": {},
   "source": [
    "### Save df as excel file"
   ]
  },
  {
   "cell_type": "code",
   "execution_count": 4136,
   "id": "c7752d1c",
   "metadata": {},
   "outputs": [],
   "source": [
    "df.to_excel(r'df_clean2.xlsx', index = False)"
   ]
  },
  {
   "cell_type": "code",
   "execution_count": 4137,
   "id": "4f474c4d",
   "metadata": {},
   "outputs": [],
   "source": [
    "df.to_csv(r'df_clean2.csv', index = False)"
   ]
  },
  {
   "cell_type": "markdown",
   "id": "d42462f0",
   "metadata": {},
   "source": [
    "### exclude cluster 4"
   ]
  },
  {
   "cell_type": "code",
   "execution_count": 4138,
   "id": "dfe3c0e0",
   "metadata": {},
   "outputs": [
    {
     "data": {
      "text/plain": [
       "0    733\n",
       "2    535\n",
       "1    423\n",
       "3    345\n",
       "5    154\n",
       "Name: cluster, dtype: int64"
      ]
     },
     "execution_count": 4138,
     "metadata": {},
     "output_type": "execute_result"
    }
   ],
   "source": [
    "df = df.drop(df[df.cluster == 4].index)\n",
    "df[\"cluster\"].value_counts()"
   ]
  },
  {
   "cell_type": "markdown",
   "id": "072eb285",
   "metadata": {},
   "source": [
    "### Create custom color palette for seaborn"
   ]
  },
  {
   "cell_type": "code",
   "execution_count": 4139,
   "id": "d153dd4d",
   "metadata": {},
   "outputs": [],
   "source": [
    "#array with colours (dark blue: 000077, Blau: AEBBF4, light blue: BDF7FF, Lila: D8C1F1, red: F20C49, coral: F29188)\n",
    "colors = [\"#000077\",\"#BDF7FF\",\"#F20C49\", \"#D8C1F1\", \"#AEBBF4\",\"#F29188\"]\n",
    "customPalette = sns.set_palette(sns.color_palette(colors))"
   ]
  },
  {
   "cell_type": "markdown",
   "id": "0c5ab633",
   "metadata": {},
   "source": [
    "## Features plotted by Clusters"
   ]
  },
  {
   "cell_type": "markdown",
   "id": "9c07520e",
   "metadata": {},
   "source": [
    "### Education by Cluster"
   ]
  },
  {
   "cell_type": "code",
   "execution_count": 4140,
   "id": "ca55f7fe",
   "metadata": {},
   "outputs": [
    {
     "data": {
      "image/png": "[encoded data removed]",
      "text/plain": [
       "<Figure size 1080x576 with 1 Axes>"
      ]
     },
     "metadata": {
      "needs_background": "light"
     },
     "output_type": "display_data"
    }
   ],
   "source": [
    "sns.set_palette(customPalette)\n",
    "fig, ax = plt.subplots(figsize = (15,8))\n",
    "ax = sns.countplot(x = df[\"cluster\"],y = None, hue=df[\"education\"], palette=sns.color_palette(customPalette, 3))"
   ]
  },
  {
   "cell_type": "markdown",
   "id": "4dda3945",
   "metadata": {},
   "source": [
    "### Marital Status by Cluster"
   ]
  },
  {
   "cell_type": "code",
   "execution_count": 4141,
   "id": "3303b72e",
   "metadata": {},
   "outputs": [
    {
     "data": {
      "text/plain": [
       "Text(0.5, 1.0, 'Marital Status by Cluster')"
      ]
     },
     "execution_count": 4141,
     "metadata": {},
     "output_type": "execute_result"
    },
    {
     "data": {
      "image/png": "[encoded data removed]",
      "text/plain": [
       "<Figure size 1080x576 with 1 Axes>"
      ]
     },
     "metadata": {
      "needs_background": "light"
     },
     "output_type": "display_data"
    }
   ],
   "source": [
    "sns.set_palette(customPalette)\n",
    "fig, ax = plt.subplots(figsize = (15,8))\n",
    "ax = sns.countplot(x = df[\"cluster\"],y = None, hue=df[\"marital_status\"], palette=sns.color_palette(customPalette, 2))\n",
    "plt.title('Marital Status by Cluster', fontsize=20)"
   ]
  },
  {
   "cell_type": "markdown",
   "id": "f3d860a7",
   "metadata": {},
   "source": [
    "### Income by Cluster"
   ]
  },
  {
   "cell_type": "code",
   "execution_count": 4142,
   "id": "4b2a2bba",
   "metadata": {},
   "outputs": [
    {
     "data": {
      "image/png": "[encoded data removed]",
      "text/plain": [
       "<Figure size 1080x576 with 1 Axes>"
      ]
     },
     "metadata": {
      "needs_background": "light"
     },
     "output_type": "display_data"
    }
   ],
   "source": [
    "sns.set_palette(customPalette)\n",
    "plt.figure(figsize=(15,8))\n",
    "pl=sns.boxplot(y=df[\"income\"],x=df[\"cluster\"], palette=sns.color_palette(customPalette, 6))\n",
    "pl.set_title(\"Income by cluster\")\n",
    "plt.show()"
   ]
  },
  {
   "cell_type": "code",
   "execution_count": 4143,
   "id": "a13c3be7",
   "metadata": {},
   "outputs": [
    {
     "ename": "TypeError",
     "evalue": "ufunc 'isfinite' not supported for the input types, and the inputs could not be safely coerced to any supported types according to the casting rule ''safe''",
     "output_type": "error",
     "traceback": [
      "\u001b[0;31m---------------------------------------------------------------------------\u001b[0m",
      "\u001b[0;31mTypeError\u001b[0m                                 Traceback (most recent call last)",
      "\u001b[0;32m/var/folders/jl/wz2cfppd1qv9v95b9l5nqm3w0000gn/T/ipykernel_9834/2662645599.py\u001b[0m in \u001b[0;36m<module>\u001b[0;34m\u001b[0m\n\u001b[1;32m      1\u001b[0m \u001b[0msns\u001b[0m\u001b[0;34m.\u001b[0m\u001b[0mset_palette\u001b[0m\u001b[0;34m(\u001b[0m\u001b[0mcustomPalette\u001b[0m\u001b[0;34m)\u001b[0m\u001b[0;34m\u001b[0m\u001b[0;34m\u001b[0m\u001b[0m\n\u001b[1;32m      2\u001b[0m \u001b[0mplt\u001b[0m\u001b[0;34m.\u001b[0m\u001b[0mfigure\u001b[0m\u001b[0;34m(\u001b[0m\u001b[0mfigsize\u001b[0m\u001b[0;34m=\u001b[0m\u001b[0;34m(\u001b[0m\u001b[0;36m15\u001b[0m\u001b[0;34m,\u001b[0m\u001b[0;36m8\u001b[0m\u001b[0;34m)\u001b[0m\u001b[0;34m)\u001b[0m\u001b[0;34m\u001b[0m\u001b[0;34m\u001b[0m\u001b[0m\n\u001b[0;32m----> 3\u001b[0;31m \u001b[0mpl\u001b[0m\u001b[0;34m=\u001b[0m\u001b[0msns\u001b[0m\u001b[0;34m.\u001b[0m\u001b[0mboxenplot\u001b[0m\u001b[0;34m(\u001b[0m\u001b[0mx\u001b[0m\u001b[0;34m=\u001b[0m\u001b[0mdf\u001b[0m\u001b[0;34m[\u001b[0m\u001b[0;34m\"cluster\"\u001b[0m\u001b[0;34m]\u001b[0m\u001b[0;34m,\u001b[0m \u001b[0my\u001b[0m\u001b[0;34m=\u001b[0m\u001b[0mdf\u001b[0m\u001b[0;34m[\u001b[0m\u001b[0;34m\"income\"\u001b[0m\u001b[0;34m]\u001b[0m\u001b[0;34m,\u001b[0m \u001b[0mpalette\u001b[0m\u001b[0;34m=\u001b[0m\u001b[0mcustomPalette\u001b[0m\u001b[0;34m)\u001b[0m\u001b[0;34m\u001b[0m\u001b[0;34m\u001b[0m\u001b[0m\n\u001b[0m\u001b[1;32m      4\u001b[0m \u001b[0mpl\u001b[0m\u001b[0;34m.\u001b[0m\u001b[0mset_xlabel\u001b[0m\u001b[0;34m(\u001b[0m\u001b[0;34m\"Income by Cluster\"\u001b[0m\u001b[0;34m)\u001b[0m\u001b[0;34m\u001b[0m\u001b[0;34m\u001b[0m\u001b[0m\n\u001b[1;32m      5\u001b[0m \u001b[0mplt\u001b[0m\u001b[0;34m.\u001b[0m\u001b[0mshow\u001b[0m\u001b[0;34m(\u001b[0m\u001b[0;34m)\u001b[0m\u001b[0;34m\u001b[0m\u001b[0;34m\u001b[0m\u001b[0m\n",
      "\u001b[0;32m/opt/anaconda3/envs/DA_ENV/lib/python3.9/site-packages/seaborn/_decorators.py\u001b[0m in \u001b[0;36minner_f\u001b[0;34m(*args, **kwargs)\u001b[0m\n\u001b[1;32m     44\u001b[0m             )\n\u001b[1;32m     45\u001b[0m         \u001b[0mkwargs\u001b[0m\u001b[0;34m.\u001b[0m\u001b[0mupdate\u001b[0m\u001b[0;34m(\u001b[0m\u001b[0;34m{\u001b[0m\u001b[0mk\u001b[0m\u001b[0;34m:\u001b[0m \u001b[0marg\u001b[0m \u001b[0;32mfor\u001b[0m \u001b[0mk\u001b[0m\u001b[0;34m,\u001b[0m \u001b[0marg\u001b[0m \u001b[0;32min\u001b[0m \u001b[0mzip\u001b[0m\u001b[0;34m(\u001b[0m\u001b[0msig\u001b[0m\u001b[0;34m.\u001b[0m\u001b[0mparameters\u001b[0m\u001b[0;34m,\u001b[0m \u001b[0margs\u001b[0m\u001b[0;34m)\u001b[0m\u001b[0;34m}\u001b[0m\u001b[0;34m)\u001b[0m\u001b[0;34m\u001b[0m\u001b[0;34m\u001b[0m\u001b[0m\n\u001b[0;32m---> 46\u001b[0;31m         \u001b[0;32mreturn\u001b[0m \u001b[0mf\u001b[0m\u001b[0;34m(\u001b[0m\u001b[0;34m**\u001b[0m\u001b[0mkwargs\u001b[0m\u001b[0;34m)\u001b[0m\u001b[0;34m\u001b[0m\u001b[0;34m\u001b[0m\u001b[0m\n\u001b[0m\u001b[1;32m     47\u001b[0m     \u001b[0;32mreturn\u001b[0m \u001b[0minner_f\u001b[0m\u001b[0;34m\u001b[0m\u001b[0;34m\u001b[0m\u001b[0m\n\u001b[1;32m     48\u001b[0m \u001b[0;34m\u001b[0m\u001b[0m\n",
      "\u001b[0;32m/opt/anaconda3/envs/DA_ENV/lib/python3.9/site-packages/seaborn/categorical.py\u001b[0m in \u001b[0;36mboxenplot\u001b[0;34m(x, y, hue, data, order, hue_order, orient, color, palette, saturation, width, dodge, k_depth, linewidth, scale, outlier_prop, trust_alpha, showfliers, ax, **kwargs)\u001b[0m\n\u001b[1;32m   2627\u001b[0m         \u001b[0max\u001b[0m \u001b[0;34m=\u001b[0m \u001b[0mplt\u001b[0m\u001b[0;34m.\u001b[0m\u001b[0mgca\u001b[0m\u001b[0;34m(\u001b[0m\u001b[0;34m)\u001b[0m\u001b[0;34m\u001b[0m\u001b[0;34m\u001b[0m\u001b[0m\n\u001b[1;32m   2628\u001b[0m \u001b[0;34m\u001b[0m\u001b[0m\n\u001b[0;32m-> 2629\u001b[0;31m     \u001b[0mplotter\u001b[0m\u001b[0;34m.\u001b[0m\u001b[0mplot\u001b[0m\u001b[0;34m(\u001b[0m\u001b[0max\u001b[0m\u001b[0;34m,\u001b[0m \u001b[0mkwargs\u001b[0m\u001b[0;34m)\u001b[0m\u001b[0;34m\u001b[0m\u001b[0;34m\u001b[0m\u001b[0m\n\u001b[0m\u001b[1;32m   2630\u001b[0m     \u001b[0;32mreturn\u001b[0m \u001b[0max\u001b[0m\u001b[0;34m\u001b[0m\u001b[0;34m\u001b[0m\u001b[0m\n\u001b[1;32m   2631\u001b[0m \u001b[0;34m\u001b[0m\u001b[0m\n",
      "\u001b[0;32m/opt/anaconda3/envs/DA_ENV/lib/python3.9/site-packages/seaborn/categorical.py\u001b[0m in \u001b[0;36mplot\u001b[0;34m(self, ax, boxplot_kws)\u001b[0m\n\u001b[1;32m   2050\u001b[0m     \u001b[0;32mdef\u001b[0m \u001b[0mplot\u001b[0m\u001b[0;34m(\u001b[0m\u001b[0mself\u001b[0m\u001b[0;34m,\u001b[0m \u001b[0max\u001b[0m\u001b[0;34m,\u001b[0m \u001b[0mboxplot_kws\u001b[0m\u001b[0;34m)\u001b[0m\u001b[0;34m:\u001b[0m\u001b[0;34m\u001b[0m\u001b[0;34m\u001b[0m\u001b[0m\n\u001b[1;32m   2051\u001b[0m         \u001b[0;34m\"\"\"Make the plot.\"\"\"\u001b[0m\u001b[0;34m\u001b[0m\u001b[0;34m\u001b[0m\u001b[0m\n\u001b[0;32m-> 2052\u001b[0;31m         \u001b[0mself\u001b[0m\u001b[0;34m.\u001b[0m\u001b[0mdraw_letter_value_plot\u001b[0m\u001b[0;34m(\u001b[0m\u001b[0max\u001b[0m\u001b[0;34m,\u001b[0m \u001b[0mboxplot_kws\u001b[0m\u001b[0;34m)\u001b[0m\u001b[0;34m\u001b[0m\u001b[0;34m\u001b[0m\u001b[0m\n\u001b[0m\u001b[1;32m   2053\u001b[0m         \u001b[0mself\u001b[0m\u001b[0;34m.\u001b[0m\u001b[0mannotate_axes\u001b[0m\u001b[0;34m(\u001b[0m\u001b[0max\u001b[0m\u001b[0;34m)\u001b[0m\u001b[0;34m\u001b[0m\u001b[0;34m\u001b[0m\u001b[0m\n\u001b[1;32m   2054\u001b[0m         \u001b[0;32mif\u001b[0m \u001b[0mself\u001b[0m\u001b[0;34m.\u001b[0m\u001b[0morient\u001b[0m \u001b[0;34m==\u001b[0m \u001b[0;34m\"h\"\u001b[0m\u001b[0;34m:\u001b[0m\u001b[0;34m\u001b[0m\u001b[0;34m\u001b[0m\u001b[0m\n",
      "\u001b[0;32m/opt/anaconda3/envs/DA_ENV/lib/python3.9/site-packages/seaborn/categorical.py\u001b[0m in \u001b[0;36mdraw_letter_value_plot\u001b[0;34m(self, ax, kws)\u001b[0m\n\u001b[1;32m   2009\u001b[0m                 \u001b[0mcolor\u001b[0m \u001b[0;34m=\u001b[0m \u001b[0mself\u001b[0m\u001b[0;34m.\u001b[0m\u001b[0mcolors\u001b[0m\u001b[0;34m[\u001b[0m\u001b[0mi\u001b[0m\u001b[0;34m]\u001b[0m\u001b[0;34m\u001b[0m\u001b[0;34m\u001b[0m\u001b[0m\n\u001b[1;32m   2010\u001b[0m \u001b[0;34m\u001b[0m\u001b[0m\n\u001b[0;32m-> 2011\u001b[0;31m                 self._lvplot(box_data,\n\u001b[0m\u001b[1;32m   2012\u001b[0m                              \u001b[0mpositions\u001b[0m\u001b[0;34m=\u001b[0m\u001b[0;34m[\u001b[0m\u001b[0mi\u001b[0m\u001b[0;34m]\u001b[0m\u001b[0;34m,\u001b[0m\u001b[0;34m\u001b[0m\u001b[0;34m\u001b[0m\u001b[0m\n\u001b[1;32m   2013\u001b[0m                              \u001b[0mcolor\u001b[0m\u001b[0;34m=\u001b[0m\u001b[0mcolor\u001b[0m\u001b[0;34m,\u001b[0m\u001b[0;34m\u001b[0m\u001b[0;34m\u001b[0m\u001b[0m\n",
      "\u001b[0;32m/opt/anaconda3/envs/DA_ENV/lib/python3.9/site-packages/seaborn/categorical.py\u001b[0m in \u001b[0;36m_lvplot\u001b[0;34m(self, box_data, positions, color, widths, ax, **kws)\u001b[0m\n\u001b[1;32m   1912\u001b[0m             \u001b[0;31m# Get the number of data points and calculate \"depth\" of\u001b[0m\u001b[0;34m\u001b[0m\u001b[0;34m\u001b[0m\u001b[0m\n\u001b[1;32m   1913\u001b[0m             \u001b[0;31m# letter-value plot\u001b[0m\u001b[0;34m\u001b[0m\u001b[0;34m\u001b[0m\u001b[0m\n\u001b[0;32m-> 1914\u001b[0;31m             \u001b[0mbox_ends\u001b[0m\u001b[0;34m,\u001b[0m \u001b[0mk\u001b[0m \u001b[0;34m=\u001b[0m \u001b[0mself\u001b[0m\u001b[0;34m.\u001b[0m\u001b[0m_lv_box_ends\u001b[0m\u001b[0;34m(\u001b[0m\u001b[0mbox_data\u001b[0m\u001b[0;34m)\u001b[0m\u001b[0;34m\u001b[0m\u001b[0;34m\u001b[0m\u001b[0m\n\u001b[0m\u001b[1;32m   1915\u001b[0m \u001b[0;34m\u001b[0m\u001b[0m\n\u001b[1;32m   1916\u001b[0m             \u001b[0;31m# Anonymous functions for calculating the width and height\u001b[0m\u001b[0;34m\u001b[0m\u001b[0;34m\u001b[0m\u001b[0m\n",
      "\u001b[0;32m/opt/anaconda3/envs/DA_ENV/lib/python3.9/site-packages/seaborn/categorical.py\u001b[0m in \u001b[0;36m_lv_box_ends\u001b[0;34m(self, vals)\u001b[0m\n\u001b[1;32m   1844\u001b[0m         letter-value plot.\"\"\"\n\u001b[1;32m   1845\u001b[0m         \u001b[0mvals\u001b[0m \u001b[0;34m=\u001b[0m \u001b[0mnp\u001b[0m\u001b[0;34m.\u001b[0m\u001b[0masarray\u001b[0m\u001b[0;34m(\u001b[0m\u001b[0mvals\u001b[0m\u001b[0;34m)\u001b[0m\u001b[0;34m\u001b[0m\u001b[0;34m\u001b[0m\u001b[0m\n\u001b[0;32m-> 1846\u001b[0;31m         \u001b[0mvals\u001b[0m \u001b[0;34m=\u001b[0m \u001b[0mvals\u001b[0m\u001b[0;34m[\u001b[0m\u001b[0mnp\u001b[0m\u001b[0;34m.\u001b[0m\u001b[0misfinite\u001b[0m\u001b[0;34m(\u001b[0m\u001b[0mvals\u001b[0m\u001b[0;34m)\u001b[0m\u001b[0;34m]\u001b[0m\u001b[0;34m\u001b[0m\u001b[0;34m\u001b[0m\u001b[0m\n\u001b[0m\u001b[1;32m   1847\u001b[0m         \u001b[0mn\u001b[0m \u001b[0;34m=\u001b[0m \u001b[0mlen\u001b[0m\u001b[0;34m(\u001b[0m\u001b[0mvals\u001b[0m\u001b[0;34m)\u001b[0m\u001b[0;34m\u001b[0m\u001b[0;34m\u001b[0m\u001b[0m\n\u001b[1;32m   1848\u001b[0m         \u001b[0mp\u001b[0m \u001b[0;34m=\u001b[0m \u001b[0mself\u001b[0m\u001b[0;34m.\u001b[0m\u001b[0moutlier_prop\u001b[0m\u001b[0;34m\u001b[0m\u001b[0;34m\u001b[0m\u001b[0m\n",
      "\u001b[0;31mTypeError\u001b[0m: ufunc 'isfinite' not supported for the input types, and the inputs could not be safely coerced to any supported types according to the casting rule ''safe''"
     ]
    },
    {
     "data": {
      "image/png": "[encoded data removed]",
      "text/plain": [
       "<Figure size 1080x576 with 1 Axes>"
      ]
     },
     "metadata": {
      "needs_background": "light"
     },
     "output_type": "display_data"
    }
   ],
   "source": [
    "sns.set_palette(customPalette)\n",
    "plt.figure(figsize=(15,8))\n",
    "pl=sns.boxenplot(x=df[\"cluster\"], y=df[\"income\"], palette=customPalette)\n",
    "pl.set_xlabel(\"Income by Cluster\")\n",
    "plt.show()"
   ]
  },
  {
   "cell_type": "markdown",
   "id": "c6d491c5",
   "metadata": {},
   "source": [
    "### Children by Cluster"
   ]
  },
  {
   "cell_type": "code",
   "execution_count": null,
   "id": "c1c74b7c",
   "metadata": {},
   "outputs": [],
   "source": [
    "sns.set_palette(customPalette)\n",
    "fig, ax = plt.subplots(figsize = (15,8))\n",
    "ax = sns.countplot(x = df[\"cluster\"],y = None, hue=df[\"kidhome\"], palette=sns.color_palette(customPalette, 3))\n",
    "plt.figure(figsize=(20,20))"
   ]
  },
  {
   "cell_type": "markdown",
   "id": "18766cc5",
   "metadata": {},
   "source": [
    "### Teenagers by Cluster"
   ]
  },
  {
   "cell_type": "code",
   "execution_count": null,
   "id": "b8c82cb3",
   "metadata": {},
   "outputs": [],
   "source": [
    "sns.set_palette(customPalette)\n",
    "fig, ax = plt.subplots(figsize = (15,8))\n",
    "ax = sns.countplot(x = df[\"cluster\"],y = None, hue=df[\"teenhome\"], palette=sns.color_palette(customPalette, 3))"
   ]
  },
  {
   "cell_type": "markdown",
   "id": "a5131b9a",
   "metadata": {},
   "source": [
    "### Recency by Cluster"
   ]
  },
  {
   "cell_type": "code",
   "execution_count": null,
   "id": "608eac8f",
   "metadata": {},
   "outputs": [],
   "source": [
    "sns.set_palette(customPalette)\n",
    "plt.figure(figsize=(15,8))\n",
    "pl=sns.boxplot(y=df[\"recency\"],x=df[\"cluster\"], palette=sns.color_palette(customPalette, 6))\n",
    "pl.set_title(\"Recency by cluster\")\n",
    "plt.show()"
   ]
  },
  {
   "cell_type": "markdown",
   "id": "6259feb8",
   "metadata": {},
   "source": [
    "### Total Spent by Cluster"
   ]
  },
  {
   "cell_type": "code",
   "execution_count": null,
   "id": "bcf6ee4a",
   "metadata": {},
   "outputs": [],
   "source": [
    "plt.figure(figsize=(15,8))\n",
    "pl=sns.boxenplot(x=df[\"cluster\"], y=df[\"total_spent\"], palette=customPalette)\n",
    "pl.set_xlabel(\"Total spent distribution by Cluster\")\n",
    "plt.show()"
   ]
  },
  {
   "cell_type": "markdown",
   "id": "f51ea4b3",
   "metadata": {},
   "source": [
    "### Wines by Cluster"
   ]
  },
  {
   "cell_type": "code",
   "execution_count": null,
   "id": "cd021fb2",
   "metadata": {},
   "outputs": [],
   "source": [
    "plt.figure(figsize=(15,8))\n",
    "pl=sns.boxenplot(x=df[\"cluster\"], y=df[\"mntwines\"], palette=customPalette)\n",
    "pl.set_xlabel(\"Wine by Cluster\")\n",
    "plt.show()"
   ]
  },
  {
   "cell_type": "markdown",
   "id": "f2c411ce",
   "metadata": {},
   "source": [
    "### Fruit by Cluster"
   ]
  },
  {
   "cell_type": "code",
   "execution_count": null,
   "id": "9ced91ff",
   "metadata": {},
   "outputs": [],
   "source": [
    "sns.set_palette(customPalette)\n",
    "plt.figure(figsize=(15,8))\n",
    "pl=sns.boxplot(y=df[\"mntfruits\"],x=df[\"cluster\"], palette=sns.color_palette(customPalette, 6))\n",
    "pl.set_title(\"Fruit by cluster\")\n",
    "plt.show()"
   ]
  },
  {
   "cell_type": "markdown",
   "id": "321e87e3",
   "metadata": {},
   "source": [
    "### Meat products by Cluster"
   ]
  },
  {
   "cell_type": "code",
   "execution_count": null,
   "id": "fbb6347d",
   "metadata": {},
   "outputs": [],
   "source": [
    "sns.set_palette(customPalette)\n",
    "plt.figure(figsize=(15,8))\n",
    "pl=sns.boxenplot(x=df[\"cluster\"], y=df[\"mntmeatproducts\"], palette=customPalette)\n",
    "pl.set_xlabel(\"Meat Products by Cluster\")\n",
    "plt.show()"
   ]
  },
  {
   "cell_type": "markdown",
   "id": "665fccad",
   "metadata": {},
   "source": [
    "### Fish Products by Cluster"
   ]
  },
  {
   "cell_type": "code",
   "execution_count": null,
   "id": "822f02f8",
   "metadata": {},
   "outputs": [],
   "source": [
    "sns.set_palette(customPalette)\n",
    "plt.figure(figsize=(15,8))\n",
    "pl=sns.boxenplot(x=df[\"cluster\"], y=df[\"mntfishproducts\"], palette=customPalette)\n",
    "pl.set_xlabel(\"Fish Products by Cluster\")\n",
    "plt.show()"
   ]
  },
  {
   "cell_type": "markdown",
   "id": "6a00187c",
   "metadata": {},
   "source": [
    "### Sweet Products by Cluster"
   ]
  },
  {
   "cell_type": "code",
   "execution_count": null,
   "id": "51d0f460",
   "metadata": {},
   "outputs": [],
   "source": [
    "sns.set_palette(customPalette)\n",
    "plt.figure(figsize=(15,8))\n",
    "pl=sns.boxenplot(x=df[\"cluster\"], y=df[\"mntsweetproducts\"], palette=customPalette)\n",
    "pl.set_xlabel(\"Sweet Products by Cluster\")\n",
    "plt.show()"
   ]
  },
  {
   "cell_type": "markdown",
   "id": "69f2494f",
   "metadata": {},
   "source": [
    "### Gold Products by Cluster"
   ]
  },
  {
   "cell_type": "code",
   "execution_count": null,
   "id": "ee617549",
   "metadata": {},
   "outputs": [],
   "source": [
    "sns.set_palette(customPalette)\n",
    "plt.figure(figsize=(15,8))\n",
    "pl=sns.boxenplot(x=df[\"cluster\"], y=df[\"mntgoldprods\"], palette=customPalette)\n",
    "pl.set_xlabel(\"Gold Products by Cluster\")\n",
    "plt.show()"
   ]
  },
  {
   "cell_type": "markdown",
   "id": "1dd0bf1d",
   "metadata": {},
   "source": [
    "### Number of Deals purchased by Cluster"
   ]
  },
  {
   "cell_type": "code",
   "execution_count": null,
   "id": "25a722ef",
   "metadata": {},
   "outputs": [],
   "source": [
    "sns.set_palette(customPalette)\n",
    "plt.figure(figsize=(15,8))\n",
    "pl=sns.boxenplot(x=df[\"cluster\"], y=df[\"numdealspurchases\"], palette=customPalette)\n",
    "pl.set_xlabel(\"Number of Deals by Cluster\")\n",
    "plt.show()"
   ]
  },
  {
   "cell_type": "markdown",
   "id": "8ce8ce15",
   "metadata": {},
   "source": [
    "### Number of Web Purchases by Cluster"
   ]
  },
  {
   "cell_type": "code",
   "execution_count": null,
   "id": "a09b9d70",
   "metadata": {},
   "outputs": [],
   "source": [
    "sns.set_palette(customPalette)\n",
    "plt.figure(figsize=(15,8))\n",
    "pl=sns.boxenplot(x=df[\"cluster\"], y=df[\"numwebpurchases\"], palette=customPalette)\n",
    "pl.set_xlabel(\"Number of Web Purchases by Cluster\")\n",
    "plt.show()"
   ]
  },
  {
   "cell_type": "markdown",
   "id": "433138b8",
   "metadata": {},
   "source": [
    "### Number of Catalogue Purchases by Cluster"
   ]
  },
  {
   "cell_type": "code",
   "execution_count": null,
   "id": "86b5799e",
   "metadata": {},
   "outputs": [],
   "source": [
    "sns.set_palette(customPalette)\n",
    "plt.figure(figsize=(15,8))\n",
    "pl=sns.boxenplot(x=df[\"cluster\"], y=df[\"numcatalogpurchases\"], palette=customPalette)\n",
    "pl.set_xlabel(\"Number of Catalogue Purchases by Cluster\")\n",
    "plt.show()"
   ]
  },
  {
   "cell_type": "markdown",
   "id": "ffc2e586",
   "metadata": {},
   "source": [
    "### Number of Store Purchases by Cluster"
   ]
  },
  {
   "cell_type": "code",
   "execution_count": null,
   "id": "c41abbbb",
   "metadata": {},
   "outputs": [],
   "source": [
    "sns.set_palette(customPalette)\n",
    "plt.figure(figsize=(15,8))\n",
    "pl=sns.boxenplot(x=df[\"cluster\"], y=df[\"numstorepurchases\"], palette=customPalette)\n",
    "pl.set_xlabel(\"Number of Store Purchases by Cluster\")\n",
    "plt.show()"
   ]
  },
  {
   "cell_type": "markdown",
   "id": "0e5af66a",
   "metadata": {},
   "source": [
    "### Web Visits by Cluster"
   ]
  },
  {
   "cell_type": "code",
   "execution_count": null,
   "id": "8d2c3191",
   "metadata": {},
   "outputs": [],
   "source": [
    "sns.set_palette(customPalette)\n",
    "plt.figure(figsize=(15,8))\n",
    "pl=sns.boxenplot(x=df[\"cluster\"], y=df[\"numwebvisitsmonth\"], palette=customPalette)\n",
    "pl.set_xlabel(\"web Visits Purchases by Cluster\")\n",
    "plt.show()"
   ]
  },
  {
   "cell_type": "markdown",
   "id": "573d6147",
   "metadata": {},
   "source": [
    "### Complaints by Cluster"
   ]
  },
  {
   "cell_type": "code",
   "execution_count": null,
   "id": "dcbe15c6",
   "metadata": {},
   "outputs": [],
   "source": [
    "sns.set_palette(customPalette)\n",
    "fig, ax = plt.subplots(figsize = (15,8))\n",
    "ax = sns.countplot(x = df[\"cluster\"],y = None, hue=df[\"complain\"], palette=sns.color_palette(customPalette, 2))"
   ]
  },
  {
   "cell_type": "markdown",
   "id": "617cbaa5",
   "metadata": {},
   "source": [
    "### Response by Cluster"
   ]
  },
  {
   "cell_type": "code",
   "execution_count": null,
   "id": "de46987d",
   "metadata": {},
   "outputs": [],
   "source": [
    "#Response: 1 if customer accepted the offer in the last campaign, 0 otherwise\n",
    "sns.set_palette(customPalette)\n",
    "fig, ax = plt.subplots(figsize = (15,8))\n",
    "ax = sns.countplot(x = df[\"cluster\"],y = None, hue=df[\"response\"], palette=sns.color_palette(customPalette, 2))"
   ]
  },
  {
   "cell_type": "markdown",
   "id": "f94de9d8",
   "metadata": {},
   "source": [
    "### Age by Cluster"
   ]
  },
  {
   "cell_type": "code",
   "execution_count": null,
   "id": "6f45f9f3",
   "metadata": {},
   "outputs": [],
   "source": [
    "sns.set_palette(customPalette)\n",
    "plt.figure(figsize=(15,8))\n",
    "pl=sns.boxplot(y=df[\"age\"],x=df[\"cluster\"], palette=sns.color_palette(customPalette, 6))\n",
    "pl.set_title(\"Age by cluster\")\n",
    "plt.show()"
   ]
  },
  {
   "cell_type": "markdown",
   "id": "8a9cdf19",
   "metadata": {},
   "source": [
    "### Accepted Campaigns by Cluster"
   ]
  },
  {
   "cell_type": "code",
   "execution_count": null,
   "id": "45dbe8e6",
   "metadata": {},
   "outputs": [],
   "source": [
    "sns.set_palette(customPalette)\n",
    "fig, ax = plt.subplots(figsize = (15,8))\n",
    "ax = sns.countplot(x = df[\"cluster\"],y = None, hue=df[\"acc_camp\"],palette=sns.color_palette(customPalette, 5))"
   ]
  },
  {
   "cell_type": "markdown",
   "id": "7838d5c0",
   "metadata": {},
   "source": [
    "### Total Amount spent by Cluster"
   ]
  },
  {
   "cell_type": "code",
   "execution_count": null,
   "id": "77634aed",
   "metadata": {},
   "outputs": [],
   "source": [
    "sns.set_palette(customPalette)\n",
    "plt.figure(figsize=(15,8))\n",
    "pl=sns.boxenplot(x=df[\"cluster\"], y=df[\"total_spent\"], palette=customPalette)\n",
    "pl.set_xlabel(\"Total Amount Spent by Cluster\")\n",
    "plt.show()"
   ]
  },
  {
   "cell_type": "markdown",
   "id": "191e4006",
   "metadata": {},
   "source": [
    "### Household Size by Cluster"
   ]
  },
  {
   "cell_type": "code",
   "execution_count": null,
   "id": "4e1cb26c",
   "metadata": {},
   "outputs": [],
   "source": [
    "sns.set_palette(customPalette)\n",
    "fig, ax = plt.subplots(figsize = (15,8))\n",
    "ax = sns.countplot(x = df[\"cluster\"],y = None, hue=df[\"household_size\"], palette=sns.color_palette(customPalette, 6))"
   ]
  },
  {
   "cell_type": "markdown",
   "id": "f5a775f4",
   "metadata": {},
   "source": [
    "### Customer_since by Cluster"
   ]
  },
  {
   "cell_type": "code",
   "execution_count": null,
   "id": "58f7732d",
   "metadata": {},
   "outputs": [],
   "source": [
    "sns.set_palette(customPalette)\n",
    "plt.figure(figsize=(15,8))\n",
    "pl=sns.boxplot(y=df[\"cust_since\"],x=df[\"cluster\"], palette=sns.color_palette(customPalette, 6))\n",
    "pl.set_title(\"Customer_since by cluster (in months)\")\n",
    "plt.show()"
   ]
  },
  {
   "cell_type": "markdown",
   "id": "d7e8a3af",
   "metadata": {},
   "source": [
    "## Plotting features against each other "
   ]
  },
  {
   "cell_type": "markdown",
   "id": "350493bd",
   "metadata": {},
   "source": [
    "### Wines by Education"
   ]
  },
  {
   "cell_type": "code",
   "execution_count": null,
   "id": "691296f4",
   "metadata": {},
   "outputs": [],
   "source": [
    "sns.set_palette(customPalette)\n",
    "sns.violinplot(x=\"education\", y=\"mntwines\", data=df, palette=sns.color_palette(customPalette, 3))"
   ]
  },
  {
   "cell_type": "markdown",
   "id": "feea2056",
   "metadata": {},
   "source": [
    "### Wines by Children"
   ]
  },
  {
   "cell_type": "code",
   "execution_count": null,
   "id": "ff1f48b9",
   "metadata": {},
   "outputs": [],
   "source": [
    "sns.set_palette(customPalette)\n",
    "sns.violinplot(x=\"kidhome\", y=\"mntwines\", data=df, palette=sns.color_palette(customPalette, 3))"
   ]
  },
  {
   "cell_type": "markdown",
   "id": "2a7e558e",
   "metadata": {},
   "source": [
    "### Wines by Teenager"
   ]
  },
  {
   "cell_type": "code",
   "execution_count": null,
   "id": "fbe5fe87",
   "metadata": {},
   "outputs": [],
   "source": [
    "sns.set_palette(customPalette)\n",
    "sns.violinplot(x=\"teenhome\", y=\"mntwines\", data=df, palette=sns.color_palette(customPalette, 3))"
   ]
  },
  {
   "cell_type": "markdown",
   "id": "23a4b89b",
   "metadata": {},
   "source": [
    "### Meat Products by Education"
   ]
  },
  {
   "cell_type": "code",
   "execution_count": null,
   "id": "f1d26330",
   "metadata": {},
   "outputs": [],
   "source": [
    "sns.set_palette(customPalette)\n",
    "sns.violinplot(x=\"education\", y=\"mntmeatproducts\", data=df, palette=sns.color_palette(customPalette, 3))"
   ]
  },
  {
   "cell_type": "markdown",
   "id": "e6c82f45",
   "metadata": {},
   "source": [
    "### Fish Products by Education"
   ]
  },
  {
   "cell_type": "code",
   "execution_count": null,
   "id": "a7228496",
   "metadata": {},
   "outputs": [],
   "source": [
    "sns.set_palette(customPalette)\n",
    "sns.violinplot(x=\"education\", y=\"mntfishproducts\", data=df, palette=sns.color_palette(customPalette, 3))"
   ]
  },
  {
   "cell_type": "markdown",
   "id": "0fd6a78c",
   "metadata": {},
   "source": [
    "## RFM Analysis"
   ]
  },
  {
   "cell_type": "markdown",
   "id": "6b2173a6",
   "metadata": {},
   "source": [
    "RFM modelling is a marketing analysis technique used to assess customer value. The RFM model is based on three factors:\n",
    "- Recency = the interval between the last action and today\n",
    "- Frequency = the number of actions between the user’s signup date and today\n",
    "- Monetary value = the sum of revenue within the user’s lifetime"
   ]
  },
  {
   "cell_type": "markdown",
   "id": "48a9d659",
   "metadata": {},
   "source": [
    "### create new df and columns for RFM"
   ]
  },
  {
   "cell_type": "code",
   "execution_count": null,
   "id": "63c7b78a",
   "metadata": {},
   "outputs": [],
   "source": [
    "#create frequency column\n",
    "df[\"frequency\"] = df[\"numcatalogpurchases\"] + df[\"numstorepurchases\"] + df[\"numwebpurchases\"]\n",
    "df[\"frequency\"]"
   ]
  },
  {
   "cell_type": "code",
   "execution_count": null,
   "id": "3bc03244",
   "metadata": {},
   "outputs": [],
   "source": [
    "#create new df \n",
    "rfm_df = df.filter(['recency','frequency','total_spent'], axis=1)"
   ]
  },
  {
   "cell_type": "code",
   "execution_count": null,
   "id": "0a68c14e",
   "metadata": {},
   "outputs": [],
   "source": [
    "#rename \"total_spent\" column\n",
    "rfm_df.rename({'total_spent':'monetary'}, axis=1, inplace=True)"
   ]
  },
  {
   "cell_type": "markdown",
   "id": "84fa5bd0",
   "metadata": {},
   "source": [
    "### get quartiles"
   ]
  },
  {
   "cell_type": "code",
   "execution_count": null,
   "id": "a1c63434",
   "metadata": {
    "scrolled": true
   },
   "outputs": [],
   "source": [
    "#calculate quartiles\n",
    "quartiles = rfm_df.quantile([0.25, 0.5, 0.75])"
   ]
  },
  {
   "cell_type": "code",
   "execution_count": null,
   "id": "dbd0af98",
   "metadata": {},
   "outputs": [],
   "source": [
    "#save quartiles in dictionary\n",
    "quantiles.to_dict()"
   ]
  },
  {
   "cell_type": "code",
   "execution_count": null,
   "id": "68729518",
   "metadata": {},
   "outputs": [],
   "source": [
    "#Recency Score (x = value, p = recency, monetary_value, frequency, q = quartiles dict)\n",
    "def rscore(x,p,q):\n",
    "    if x <= q[p][0.25]:\n",
    "        return 1\n",
    "    elif x <= q[p][0.50]:\n",
    "        return 2\n",
    "    elif x <= q[p][0.75]: \n",
    "        return 3\n",
    "    else:\n",
    "        return 4\n",
    "\n",
    "#Frequency + Monetary Score\n",
    "def fmscore(x,p,q):\n",
    "    if x <= q[p][0.25]:\n",
    "        return 4\n",
    "    elif x <= q[p][0.50]:\n",
    "        return 3\n",
    "    elif x <= q[p][0.75]: \n",
    "        return 2\n",
    "    else:\n",
    "        return 1"
   ]
  },
  {
   "cell_type": "markdown",
   "id": "5b74f611",
   "metadata": {},
   "source": [
    "### RFM segmentation table"
   ]
  },
  {
   "cell_type": "code",
   "execution_count": null,
   "id": "9152aab4",
   "metadata": {},
   "outputs": [],
   "source": [
    "#combine scores to create a single score \n",
    "rfm_df['r_quartile'] = rfm_df['recency'].apply(rscore, args=('recency',quantiles,))\n",
    "rfm_df['f_quartile'] = rfm_df['frequency'].apply(fmscore, args=('frequency',quantiles,))\n",
    "rfm_df['m_quartile'] = rfm_df['monetary'].apply(fmscore, args=('monetary',quantiles,))"
   ]
  },
  {
   "cell_type": "code",
   "execution_count": null,
   "id": "5dceb387",
   "metadata": {},
   "outputs": [],
   "source": [
    "rfm_df['rfmscore'] = rfm_df.r_quartile.map(str) \\\n",
    "                            + rfm_df.f_quartile.map(str) \\\n",
    "                            + rfm_df.m_quartile.map(str)\n",
    "rfm_df.head()"
   ]
  },
  {
   "cell_type": "code",
   "execution_count": null,
   "id": "c7c0e7fc",
   "metadata": {},
   "outputs": [],
   "source": [
    "rfm_df.sort_values(by=['rfmscore', 'monetary'], ascending=[True, False])"
   ]
  },
  {
   "cell_type": "code",
   "execution_count": null,
   "id": "3c885edc",
   "metadata": {},
   "outputs": [],
   "source": [
    "rfm_df.groupby('rfmscore').agg('monetary').mean()"
   ]
  },
  {
   "cell_type": "code",
   "execution_count": null,
   "id": "6f9cd620",
   "metadata": {},
   "outputs": [],
   "source": [
    "rfm_df['Total Score'] = rfm_df['r_quartile'] + rfm_df['f_quartile'] +rfm_df['m_quartile']\n",
    "print(rfm_df.head(), rfm_df.info())"
   ]
  },
  {
   "cell_type": "code",
   "execution_count": null,
   "id": "c6d77625",
   "metadata": {},
   "outputs": [],
   "source": [
    "rfm_df.groupby('Total Score').agg('monetary').mean().groupby('Total Score').agg('monetary').mean()\n",
    "\n"
   ]
  },
  {
   "cell_type": "code",
   "execution_count": null,
   "id": "e8ab9f10",
   "metadata": {},
   "outputs": [],
   "source": [
    "rfm_df.groupby('Total Score').agg('monetary').mean().plot(kind='bar', colormap='Blues_r')"
   ]
  },
  {
   "cell_type": "code",
   "execution_count": null,
   "id": "96de71d9",
   "metadata": {},
   "outputs": [],
   "source": [
    "rfm_df.groupby('Total Score').agg('frequency').mean().plot(kind='bar', colormap='Blues_r')"
   ]
  },
  {
   "cell_type": "code",
   "execution_count": null,
   "id": "bb49272c",
   "metadata": {},
   "outputs": [],
   "source": [
    "rfm_df.groupby('Total Score').agg('recency').mean().plot(kind='bar', colormap='Blues_r')"
   ]
  },
  {
   "cell_type": "code",
   "execution_count": null,
   "id": "13d83c68",
   "metadata": {},
   "outputs": [],
   "source": [
    "ax=rfm_df.groupby('Total Score').agg(df['response']).mean().plot(kind='bar', colormap='copper_r')\n",
    "ax.set_xlabel(\"Total Score\")\n",
    "ax.set_ylabel(\"Proportion of Responders\")"
   ]
  },
  {
   "cell_type": "markdown",
   "id": "ae391e61",
   "metadata": {},
   "source": [
    "### label customer groups"
   ]
  },
  {
   "cell_type": "code",
   "execution_count": null,
   "id": "115bf5f2",
   "metadata": {},
   "outputs": [],
   "source": [
    "print(\"top customers: \",len(rfm_df[rfm_df['rfmscore']=='444']))\n",
    "print(\"most loyal customers: \",len(rfm_df[rfm_df['f_quartile']==4]))\n",
    "print(\"big spenders: \",len(rfm_df[rfm_df['m_quartile']==4]))\n",
    "print(\"new customers: \", len(rfm_df[rfm_df['rfmscore']=='411']))\n",
    "print(\"almost lost: \",len(rfm_df[rfm_df['rfmscore']=='144']))\n",
    "print(\"lost: \",len(rfm_df[rfm_df['rfmscore']=='111']))"
   ]
  },
  {
   "cell_type": "code",
   "execution_count": null,
   "id": "121b567a",
   "metadata": {},
   "outputs": [],
   "source": [
    "df[\"cluster\"].value_counts()"
   ]
  },
  {
   "cell_type": "markdown",
   "id": "ea0cd498",
   "metadata": {},
   "source": [
    "## plot RFM elements by Cluster"
   ]
  },
  {
   "cell_type": "markdown",
   "id": "0a4b6684",
   "metadata": {},
   "source": [
    "### Frequency by Cluster"
   ]
  },
  {
   "cell_type": "code",
   "execution_count": null,
   "id": "0a8c76dc",
   "metadata": {},
   "outputs": [],
   "source": [
    "plt.figure(figsize=(15,8))\n",
    "pl=sns.boxplot(x=df[\"cluster\"], y=rfm_df[\"frequency\"])\n",
    "pl.set_title(\"Frequency by Cluster\")\n",
    "plt.show() "
   ]
  },
  {
   "cell_type": "markdown",
   "id": "8ef3026d",
   "metadata": {},
   "source": [
    "### Recency by Cluster"
   ]
  },
  {
   "cell_type": "code",
   "execution_count": null,
   "id": "5db6d2e4",
   "metadata": {},
   "outputs": [],
   "source": [
    "plt.figure(figsize=(15,8))\n",
    "pl=sns.boxplot(x=df[\"cluster\"], y=rfm_df[\"recency\"])\n",
    "pl.set_title(\"Recency by Cluster\")\n",
    "plt.show() "
   ]
  },
  {
   "cell_type": "markdown",
   "id": "140b68fa",
   "metadata": {},
   "source": [
    "### Monetary by Cluster"
   ]
  },
  {
   "cell_type": "code",
   "execution_count": null,
   "id": "5ec4cb4d",
   "metadata": {},
   "outputs": [],
   "source": [
    "plt.figure(figsize=(15,8))\n",
    "pl=sns.boxplot(x=df[\"cluster\"], y=rfm_df[\"monetary\"])\n",
    "pl.set_title(\"Monetary by Cluster\")\n",
    "plt.show() "
   ]
  },
  {
   "cell_type": "code",
   "execution_count": null,
   "id": "f8f00e5a",
   "metadata": {},
   "outputs": [],
   "source": []
  }
 ],
 "metadata": {
  "kernelspec": {
   "display_name": "Python 3 (ipykernel)",
   "language": "python",
   "name": "python3"
  },
  "language_info": {
   "codemirror_mode": {
    "name": "ipython",
    "version": 3
   },
   "file_extension": ".py",
   "mimetype": "text/x-python",
   "name": "python",
   "nbconvert_exporter": "python",
   "pygments_lexer": "ipython3",
   "version": "3.9.7"
  },
  "toc": {
   "base_numbering": 1,
   "nav_menu": {},
   "number_sections": true,
   "sideBar": true,
   "skip_h1_title": false,
   "title_cell": "Table of Contents",
   "title_sidebar": "Contents",
   "toc_cell": false,
   "toc_position": {
    "height": "calc(100% - 180px)",
    "left": "10px",
    "top": "150px",
    "width": "220.59375px"
   },
   "toc_section_display": true,
   "toc_window_display": true
  },
  "varInspector": {
   "cols": {
    "lenName": 16,
    "lenType": 16,
    "lenVar": 40
   },
   "kernels_config": {
    "python": {
     "delete_cmd_postfix": "",
     "delete_cmd_prefix": "del ",
     "library": "var_list.py",
     "varRefreshCmd": "print(var_dic_list())"
    },
    "r": {
     "delete_cmd_postfix": ") ",
     "delete_cmd_prefix": "rm(",
     "library": "var_list.r",
     "varRefreshCmd": "cat(var_dic_list()) "
    }
   },
   "types_to_exclude": [
    "module",
    "function",
    "builtin_function_or_method",
    "instance",
    "_Feature"
   ],
   "window_display": false
  }
 },
 "nbformat": 4,
 "nbformat_minor": 5
}
